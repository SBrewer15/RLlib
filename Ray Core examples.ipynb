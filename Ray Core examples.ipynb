{
 "cells": [
  {
   "cell_type": "code",
   "execution_count": 1,
   "id": "8ab5369d",
   "metadata": {},
   "outputs": [
    {
     "name": "stderr",
     "output_type": "stream",
     "text": [
      "2024-01-30 14:51:53,260\tINFO worker.py:1673 -- Started a local Ray instance.\n"
     ]
    },
    {
     "data": {
      "application/vnd.jupyter.widget-view+json": {
       "model_id": "ad5b2db156bb41a09520694f0d2d1734",
       "version_major": 2,
       "version_minor": 0
      },
      "text/html": [
       "<div class=\"lm-Widget p-Widget lm-Panel p-Panel jp-Cell-outputWrapper\">\n",
       "    <div style=\"margin-left: 50px;display: flex;flex-direction: row;align-items: center\">\n",
       "        <div class=\"jp-RenderedHTMLCommon\" style=\"display: flex; flex-direction: row;\">\n",
       "  <svg viewBox=\"0 0 567 224\" fill=\"none\" xmlns=\"http://www.w3.org/2000/svg\" style=\"height: 3em;\">\n",
       "    <g clip-path=\"url(#clip0_4338_178347)\">\n",
       "        <path d=\"M341.29 165.561H355.29L330.13 129.051C345.63 123.991 354.21 112.051 354.21 94.2307C354.21 71.3707 338.72 58.1807 311.88 58.1807H271V165.561H283.27V131.661H311.8C314.25 131.661 316.71 131.501 319.01 131.351L341.25 165.561H341.29ZM283.29 119.851V70.0007H311.82C331.3 70.0007 342.34 78.2907 342.34 94.5507C342.34 111.271 331.34 119.861 311.82 119.861L283.29 119.851ZM451.4 138.411L463.4 165.561H476.74L428.74 58.1807H416L367.83 165.561H380.83L392.83 138.411H451.4ZM446.19 126.601H398L422 72.1407L446.24 126.601H446.19ZM526.11 128.741L566.91 58.1807H554.35L519.99 114.181L485.17 58.1807H472.44L514.01 129.181V165.541H526.13V128.741H526.11Z\" fill=\"var(--jp-ui-font-color0)\"/>\n",
       "        <path d=\"M82.35 104.44C84.0187 97.8827 87.8248 92.0678 93.1671 87.9146C98.5094 83.7614 105.083 81.5067 111.85 81.5067C118.617 81.5067 125.191 83.7614 130.533 87.9146C135.875 92.0678 139.681 97.8827 141.35 104.44H163.75C164.476 101.562 165.622 98.8057 167.15 96.2605L127.45 56.5605C121.071 60.3522 113.526 61.6823 106.235 60.3005C98.9443 58.9187 92.4094 54.9203 87.8602 49.0574C83.3109 43.1946 81.0609 35.8714 81.5332 28.4656C82.0056 21.0599 85.1679 14.0819 90.4252 8.8446C95.6824 3.60726 102.672 0.471508 110.08 0.0272655C117.487 -0.416977 124.802 1.86091 130.647 6.4324C136.493 11.0039 140.467 17.5539 141.821 24.8501C143.175 32.1463 141.816 39.6859 138 46.0505L177.69 85.7505C182.31 82.9877 187.58 81.4995 192.962 81.4375C198.345 81.3755 203.648 82.742 208.33 85.3976C213.012 88.0532 216.907 91.9029 219.616 96.5544C222.326 101.206 223.753 106.492 223.753 111.875C223.753 117.258 222.326 122.545 219.616 127.197C216.907 131.848 213.012 135.698 208.33 138.353C203.648 141.009 198.345 142.375 192.962 142.313C187.58 142.251 182.31 140.763 177.69 138L138 177.7C141.808 184.071 143.155 191.614 141.79 198.91C140.424 206.205 136.44 212.75 130.585 217.313C124.731 221.875 117.412 224.141 110.004 223.683C102.596 223.226 95.6103 220.077 90.3621 214.828C85.1139 209.58 81.9647 202.595 81.5072 195.187C81.0497 187.779 83.3154 180.459 87.878 174.605C92.4405 168.751 98.9853 164.766 106.281 163.401C113.576 162.035 121.119 163.383 127.49 167.19L167.19 127.49C165.664 124.941 164.518 122.182 163.79 119.3H141.39C139.721 125.858 135.915 131.673 130.573 135.826C125.231 139.98 118.657 142.234 111.89 142.234C105.123 142.234 98.5494 139.98 93.2071 135.826C87.8648 131.673 84.0587 125.858 82.39 119.3H60C58.1878 126.495 53.8086 132.78 47.6863 136.971C41.5641 141.163 34.1211 142.972 26.7579 142.059C19.3947 141.146 12.6191 137.574 7.70605 132.014C2.79302 126.454 0.0813599 119.29 0.0813599 111.87C0.0813599 104.451 2.79302 97.2871 7.70605 91.7272C12.6191 86.1673 19.3947 82.5947 26.7579 81.6817C34.1211 80.7686 41.5641 82.5781 47.6863 86.7696C53.8086 90.9611 58.1878 97.2456 60 104.44H82.35ZM100.86 204.32C103.407 206.868 106.759 208.453 110.345 208.806C113.93 209.159 117.527 208.258 120.522 206.256C123.517 204.254 125.725 201.276 126.771 197.828C127.816 194.38 127.633 190.677 126.253 187.349C124.874 184.021 122.383 181.274 119.205 179.577C116.027 177.88 112.359 177.337 108.826 178.042C105.293 178.746 102.113 180.654 99.8291 183.44C97.5451 186.226 96.2979 189.718 96.3 193.32C96.2985 195.364 96.7006 197.388 97.4831 199.275C98.2656 201.163 99.4132 202.877 100.86 204.32ZM204.32 122.88C206.868 120.333 208.453 116.981 208.806 113.396C209.159 109.811 208.258 106.214 206.256 103.219C204.254 100.223 201.275 98.0151 197.827 96.97C194.38 95.9249 190.676 96.1077 187.348 97.4873C184.02 98.8669 181.274 101.358 179.577 104.536C177.879 107.714 177.337 111.382 178.041 114.915C178.746 118.448 180.653 121.627 183.439 123.911C186.226 126.195 189.717 127.443 193.32 127.44C195.364 127.443 197.388 127.042 199.275 126.259C201.163 125.476 202.878 124.328 204.32 122.88ZM122.88 19.4205C120.333 16.8729 116.981 15.2876 113.395 14.9347C109.81 14.5817 106.213 15.483 103.218 17.4849C100.223 19.4868 98.0146 22.4654 96.9696 25.9131C95.9245 29.3608 96.1073 33.0642 97.4869 36.3922C98.8665 39.7202 101.358 42.4668 104.535 44.1639C107.713 45.861 111.381 46.4036 114.914 45.6992C118.447 44.9949 121.627 43.0871 123.911 40.301C126.195 37.515 127.442 34.0231 127.44 30.4205C127.44 28.3772 127.038 26.3539 126.255 24.4664C125.473 22.5788 124.326 20.8642 122.88 19.4205ZM19.42 100.86C16.8725 103.408 15.2872 106.76 14.9342 110.345C14.5813 113.93 15.4826 117.527 17.4844 120.522C19.4863 123.518 22.4649 125.726 25.9127 126.771C29.3604 127.816 33.0638 127.633 36.3918 126.254C39.7198 124.874 42.4664 122.383 44.1635 119.205C45.8606 116.027 46.4032 112.359 45.6988 108.826C44.9944 105.293 43.0866 102.114 40.3006 99.8296C37.5145 97.5455 34.0227 96.2983 30.42 96.3005C26.2938 96.3018 22.337 97.9421 19.42 100.86ZM100.86 100.86C98.3125 103.408 96.7272 106.76 96.3742 110.345C96.0213 113.93 96.9226 117.527 98.9244 120.522C100.926 123.518 103.905 125.726 107.353 126.771C110.8 127.816 114.504 127.633 117.832 126.254C121.16 124.874 123.906 122.383 125.604 119.205C127.301 116.027 127.843 112.359 127.139 108.826C126.434 105.293 124.527 102.114 121.741 99.8296C118.955 97.5455 115.463 96.2983 111.86 96.3005C109.817 96.299 107.793 96.701 105.905 97.4835C104.018 98.2661 102.303 99.4136 100.86 100.86Z\" fill=\"#00AEEF\"/>\n",
       "    </g>\n",
       "    <defs>\n",
       "        <clipPath id=\"clip0_4338_178347\">\n",
       "            <rect width=\"566.93\" height=\"223.75\" fill=\"white\"/>\n",
       "        </clipPath>\n",
       "    </defs>\n",
       "  </svg>\n",
       "</div>\n",
       "\n",
       "        <table class=\"jp-RenderedHTMLCommon\" style=\"border-collapse: collapse;color: var(--jp-ui-font-color1);font-size: var(--jp-ui-font-size1);\">\n",
       "    <tr>\n",
       "        <td style=\"text-align: left\"><b>Python version:</b></td>\n",
       "        <td style=\"text-align: left\"><b>3.11.4</b></td>\n",
       "    </tr>\n",
       "    <tr>\n",
       "        <td style=\"text-align: left\"><b>Ray version:</b></td>\n",
       "        <td style=\"text-align: left\"><b>2.8.1</b></td>\n",
       "    </tr>\n",
       "    \n",
       "</table>\n",
       "\n",
       "    </div>\n",
       "</div>\n"
      ],
      "text/plain": [
       "RayContext(dashboard_url='', python_version='3.11.4', ray_version='2.8.1', ray_commit='82a8df138fe7fcc5c42536ebf26e8c3665704fee', protocol_version=None)"
      ]
     },
     "execution_count": 1,
     "metadata": {},
     "output_type": "execute_result"
    }
   ],
   "source": [
    "import ray\n",
    "ray.init()"
   ]
  },
  {
   "cell_type": "code",
   "execution_count": 2,
   "id": "06811d89",
   "metadata": {},
   "outputs": [
    {
     "data": {
      "text/plain": [
       "{'memory': 30217353626.0,\n",
       " 'object_store_memory': 2147483648.0,\n",
       " 'node:127.0.0.1': 1.0,\n",
       " 'CPU': 12.0,\n",
       " 'node:__internal_head__': 1.0}"
      ]
     },
     "execution_count": 2,
     "metadata": {},
     "output_type": "execute_result"
    }
   ],
   "source": [
    "ray.cluster_resources()"
   ]
  },
  {
   "cell_type": "code",
   "execution_count": 4,
   "id": "b2fa199b",
   "metadata": {},
   "outputs": [],
   "source": [
    "import time\n",
    "\n",
    "database = [\n",
    "    \"Learning\", \"Ray\",\n",
    "    \"Flexible\", \"Distributed\", \"Python\", \"for\", \"Machine\", \"Learning\"\n",
    "]\n",
    "\n",
    "\n",
    "def retrieve(item):\n",
    "    time.sleep(item / 10.)\n",
    "    return item, database[item]"
   ]
  },
  {
   "cell_type": "code",
   "execution_count": 5,
   "id": "46f0d8b8",
   "metadata": {},
   "outputs": [],
   "source": [
    "def print_runtime(input_data, start_time):\n",
    "    print(f'Runtime: {time.time() - start_time:.2f} seconds, data:')\n",
    "    print(*input_data, sep=\"\\n\")"
   ]
  },
  {
   "cell_type": "code",
   "execution_count": 6,
   "id": "8dc56f1a",
   "metadata": {},
   "outputs": [
    {
     "name": "stdout",
     "output_type": "stream",
     "text": [
      "Runtime: 2.83 seconds, data:\n",
      "(0, 'Learning')\n",
      "(1, 'Ray')\n",
      "(2, 'Flexible')\n",
      "(3, 'Distributed')\n",
      "(4, 'Python')\n",
      "(5, 'for')\n",
      "(6, 'Machine')\n",
      "(7, 'Learning')\n"
     ]
    }
   ],
   "source": [
    "start = time.time()\n",
    "data = [retrieve(item) for item in range(8)]\n",
    "print_runtime(data, start)"
   ]
  },
  {
   "cell_type": "code",
   "execution_count": 7,
   "id": "f5a4e7d2",
   "metadata": {},
   "outputs": [],
   "source": [
    "@ray.remote  \n",
    "def retrieve_task(item):\n",
    "    return retrieve(item)"
   ]
  },
  {
   "cell_type": "code",
   "execution_count": 10,
   "id": "43ce2890",
   "metadata": {},
   "outputs": [
    {
     "name": "stdout",
     "output_type": "stream",
     "text": [
      "Runtime: 0.72 seconds, data:\n",
      "(0, 'Learning')\n",
      "(1, 'Ray')\n",
      "(2, 'Flexible')\n",
      "(3, 'Distributed')\n",
      "(4, 'Python')\n",
      "(5, 'for')\n",
      "(6, 'Machine')\n",
      "(7, 'Learning')\n"
     ]
    }
   ],
   "source": [
    "start = time.time()\n",
    "object_references = [  \n",
    "    retrieve_task.remote(item) for item in range(8)\n",
    "]\n",
    "data = ray.get(object_references)  \n",
    "print_runtime(data, start)"
   ]
  },
  {
   "cell_type": "code",
   "execution_count": 16,
   "id": "068c120c",
   "metadata": {},
   "outputs": [],
   "source": [
    "db_object_ref = ray.put(database)  \n",
    "\n",
    "\n",
    "@ray.remote\n",
    "def retrieve_task(item, db):  \n",
    "    time.sleep(item / 10.)\n",
    "    return item, db[item]"
   ]
  },
  {
   "cell_type": "code",
   "execution_count": 21,
   "id": "b6a23343",
   "metadata": {},
   "outputs": [
    {
     "name": "stdout",
     "output_type": "stream",
     "text": [
      "Start list length: 8\n",
      "List length: 6\n",
      "Runtime: 0.11 seconds, data:\n",
      "(0, 'Learning')\n",
      "(1, 'Ray')\n",
      "List length: 4\n",
      "Runtime: 0.32 seconds, data:\n",
      "(2, 'Flexible')\n",
      "(3, 'Distributed')\n",
      "List length: 2\n",
      "Runtime: 0.52 seconds, data:\n",
      "(4, 'Python')\n",
      "(5, 'for')\n",
      "List length: 0\n",
      "Runtime: 0.72 seconds, data:\n",
      "(6, 'Machine')\n",
      "(7, 'Learning')\n"
     ]
    }
   ],
   "source": [
    "start = time.time()\n",
    "object_references = [\n",
    "    retrieve_task.remote(item, db_object_ref) for item in range(8) \n",
    "]\n",
    "all_data = []\n",
    "print('Start list length:', len(object_references))\n",
    "while len(object_references) > 0:  \n",
    "    finished, object_references = ray.wait(  \n",
    "        object_references, num_returns=2, timeout=7.0\n",
    "    )\n",
    "    print('List length:', len(object_references))\n",
    "    data = ray.get(finished)\n",
    "    print_runtime(data, start)  \n",
    "    all_data.extend(data)\n",
    "    "
   ]
  },
  {
   "cell_type": "code",
   "execution_count": null,
   "id": "3fdce83a",
   "metadata": {},
   "outputs": [],
   "source": []
  },
  {
   "cell_type": "code",
   "execution_count": 22,
   "id": "2585824f",
   "metadata": {},
   "outputs": [
    {
     "name": "stdout",
     "output_type": "stream",
     "text": [
      "((0, 'Learning'), (1, 'Ray'))\n",
      "((2, 'Flexible'), (3, 'Distributed'))\n",
      "((4, 'Python'), (5, 'for'))\n",
      "((6, 'Machine'), (7, 'Learning'))\n"
     ]
    }
   ],
   "source": [
    "@ray.remote\n",
    "def follow_up_task(retrieve_result):  \n",
    "    original_item, _ = retrieve_result\n",
    "    follow_up_result = retrieve(original_item + 1)  \n",
    "    return retrieve_result, follow_up_result  \n",
    "\n",
    "\n",
    "retrieve_refs = [retrieve_task.remote(item, db_object_ref) for item in [0, 2, 4, 6]]\n",
    "follow_up_refs = [follow_up_task.remote(ref) for ref in retrieve_refs]  \n",
    "\n",
    "result = [print(data) for data in ray.get(follow_up_refs)]"
   ]
  },
  {
   "cell_type": "code",
   "execution_count": 27,
   "id": "fdc86b51",
   "metadata": {},
   "outputs": [],
   "source": [
    "@ray.remote  \n",
    "class DataTracker:\n",
    "    def __init__(self):\n",
    "        self._counts = 0\n",
    "\n",
    "    def increment(self):\n",
    "        self._counts += 1\n",
    "\n",
    "    def counts(self):\n",
    "        return self._counts"
   ]
  },
  {
   "cell_type": "code",
   "execution_count": 28,
   "id": "ef433841",
   "metadata": {},
   "outputs": [],
   "source": [
    "@ray.remote\n",
    "def retrieve_tracker_task(item, tracker, db):  \n",
    "    time.sleep(item / 10.)\n",
    "    tracker.increment.remote()  \n",
    "    return item, db[item]"
   ]
  },
  {
   "cell_type": "code",
   "execution_count": 30,
   "id": "07b796fa",
   "metadata": {},
   "outputs": [
    {
     "name": "stdout",
     "output_type": "stream",
     "text": [
      "[(0, 'Learning'), (1, 'Ray'), (2, 'Flexible'), (3, 'Distributed'), (4, 'Python'), (5, 'for'), (6, 'Machine'), (7, 'Learning')]\n",
      "8\n"
     ]
    }
   ],
   "source": [
    "tracker = DataTracker.remote()  \n",
    "\n",
    "object_references = [  \n",
    "    retrieve_tracker_task.remote(item, tracker, db_object_ref) \n",
    "    for item in range(8)\n",
    "]\n",
    "data = ray.get(object_references)\n",
    "\n",
    "print(data) \n",
    "print(ray.get(tracker.counts.remote()))"
   ]
  },
  {
   "cell_type": "code",
   "execution_count": null,
   "id": "983e991b",
   "metadata": {},
   "outputs": [],
   "source": []
  },
  {
   "cell_type": "code",
   "execution_count": 31,
   "id": "3361e53d",
   "metadata": {},
   "outputs": [],
   "source": [
    "@ray.remote\n",
    "def task_owned():\n",
    "    return\n",
    "\n",
    "\n",
    "@ray.remote\n",
    "def task(dependency):\n",
    "    res_owned = task_owned.remote()\n",
    "    return\n",
    "\n",
    "\n",
    "val = ray.put(\"value\")\n",
    "res = task.remote(dependency=val)"
   ]
  },
  {
   "cell_type": "code",
   "execution_count": null,
   "id": "018ef76e",
   "metadata": {},
   "outputs": [],
   "source": []
  },
  {
   "cell_type": "code",
   "execution_count": 32,
   "id": "84605986",
   "metadata": {},
   "outputs": [],
   "source": [
    "import subprocess\n",
    "zen_of_python = subprocess.check_output([\"python\", \"-c\", \"import this\"])\n",
    "corpus = zen_of_python.split()  \n",
    "\n",
    "num_partitions = 3\n",
    "chunk = len(corpus) // num_partitions\n",
    "partitions = [  \n",
    "    corpus[i * chunk: (i + 1) * chunk] for i in range(num_partitions)\n",
    "]"
   ]
  },
  {
   "cell_type": "code",
   "execution_count": 40,
   "id": "51d330f5",
   "metadata": {},
   "outputs": [],
   "source": [
    "def map_function(document):\n",
    "    for word in document.lower().split():\n",
    "        yield word, 1"
   ]
  },
  {
   "cell_type": "code",
   "execution_count": 42,
   "id": "c3b51c74",
   "metadata": {},
   "outputs": [],
   "source": [
    "@ray.remote\n",
    "def apply_map(corpus, num_partitions=3):\n",
    "    map_results = [list() for _ in range(num_partitions)]  \n",
    "    for document in corpus:\n",
    "        for result in map_function(document):\n",
    "            first_letter = result[0].decode(\"utf-8\")[0]\n",
    "            word_index = ord(first_letter) % num_partitions  \n",
    "            map_results[word_index].append(result)  \n",
    "    return map_results"
   ]
  },
  {
   "cell_type": "code",
   "execution_count": 43,
   "id": "02da9a1f",
   "metadata": {},
   "outputs": [
    {
     "name": "stdout",
     "output_type": "stream",
     "text": [
      "Mapper 0, return value 0: [(b'of', 1), (b'is', 1)]\n",
      "Mapper 0, return value 1: [(b'python,', 1), (b'peters', 1)]\n",
      "Mapper 0, return value 2: [(b'the', 1), (b'zen', 1)]\n",
      "Mapper 1, return value 0: [(b'unless', 1), (b'in', 1)]\n",
      "Mapper 1, return value 1: [(b'although', 1), (b'practicality', 1)]\n",
      "Mapper 1, return value 2: [(b'beats', 1), (b'errors', 1)]\n",
      "Mapper 2, return value 0: [(b'is', 1), (b'is', 1)]\n",
      "Mapper 2, return value 1: [(b'although', 1), (b'a', 1)]\n",
      "Mapper 2, return value 2: [(b'better', 1), (b'than', 1)]\n"
     ]
    }
   ],
   "source": [
    "map_results = [\n",
    "    apply_map.options(num_returns=num_partitions)  \n",
    "    .remote(data, num_partitions)  \n",
    "    for data in partitions  \n",
    "]\n",
    "\n",
    "for i in range(num_partitions):\n",
    "    mapper_results = ray.get(map_results[i])  \n",
    "    for j, result in enumerate(mapper_results):\n",
    "        print(f\"Mapper {i}, return value {j}: {result[:2]}\")"
   ]
  },
  {
   "cell_type": "code",
   "execution_count": 44,
   "id": "7e4b2130",
   "metadata": {},
   "outputs": [],
   "source": [
    "@ray.remote\n",
    "def apply_reduce(*results):  \n",
    "    reduce_results = dict()\n",
    "    for res in results:\n",
    "        for key, value in res:\n",
    "            if key not in reduce_results:\n",
    "                reduce_results[key] = 0\n",
    "            reduce_results[key] += value  \n",
    "\n",
    "    return reduce_results"
   ]
  },
  {
   "cell_type": "code",
   "execution_count": 45,
   "id": "327ade4b",
   "metadata": {
    "scrolled": true
   },
   "outputs": [
    {
     "name": "stdout",
     "output_type": "stream",
     "text": [
      "is: 10\n",
      "better: 8\n",
      "than: 8\n",
      "the: 6\n",
      "to: 5\n",
      "of: 3\n",
      "although: 3\n",
      "be: 3\n",
      "unless: 2\n",
      "one: 2\n",
      "if: 2\n",
      "implementation: 2\n",
      "idea.: 2\n",
      "special: 2\n",
      "should: 2\n",
      "do: 2\n",
      "may: 2\n",
      "a: 2\n",
      "never: 2\n",
      "way: 2\n",
      "explain,: 2\n",
      "ugly.: 1\n",
      "implicit.: 1\n",
      "complex.: 1\n",
      "complex: 1\n",
      "complicated.: 1\n",
      "flat: 1\n",
      "readability: 1\n",
      "counts.: 1\n",
      "cases: 1\n",
      "rules.: 1\n",
      "in: 1\n",
      "face: 1\n",
      "refuse: 1\n",
      "one--: 1\n",
      "only: 1\n",
      "--obvious: 1\n",
      "it.: 1\n",
      "obvious: 1\n",
      "first: 1\n",
      "often: 1\n",
      "*right*: 1\n",
      "it's: 1\n",
      "it: 1\n",
      "idea: 1\n",
      "--: 1\n",
      "let's: 1\n",
      "python,: 1\n",
      "peters: 1\n",
      "simple: 1\n",
      "sparse: 1\n",
      "dense.: 1\n",
      "aren't: 1\n",
      "practicality: 1\n",
      "purity.: 1\n",
      "pass: 1\n",
      "silently.: 1\n",
      "silenced.: 1\n",
      "ambiguity,: 1\n",
      "guess.: 1\n",
      "and: 1\n",
      "preferably: 1\n",
      "at: 1\n",
      "you're: 1\n",
      "dutch.: 1\n",
      "good: 1\n",
      "are: 1\n",
      "great: 1\n",
      "more: 1\n",
      "zen: 1\n",
      "by: 1\n",
      "tim: 1\n",
      "beautiful: 1\n",
      "explicit: 1\n",
      "nested.: 1\n",
      "enough: 1\n",
      "break: 1\n",
      "beats: 1\n",
      "errors: 1\n",
      "explicitly: 1\n",
      "temptation: 1\n",
      "there: 1\n",
      "that: 1\n",
      "not: 1\n",
      "now: 1\n",
      "never.: 1\n",
      "now.: 1\n",
      "hard: 1\n",
      "bad: 1\n",
      "easy: 1\n",
      "namespaces: 1\n",
      "honking: 1\n",
      "those!: 1\n"
     ]
    }
   ],
   "source": [
    "outputs = []\n",
    "for i in range(num_partitions):\n",
    "    outputs.append(  \n",
    "        apply_reduce.remote(*[partition[i] for partition in map_results])\n",
    "    )\n",
    "\n",
    "counts = {k: v for output in ray.get(outputs) for k, v in output.items()}  \n",
    "\n",
    "sorted_counts = sorted(counts.items(), key=lambda item: item[1], reverse=True)  \n",
    "for count in sorted_counts:\n",
    "    print(f\"{count[0].decode('utf-8')}: {count[1]}\")"
   ]
  },
  {
   "cell_type": "code",
   "execution_count": null,
   "id": "870af8e6",
   "metadata": {},
   "outputs": [],
   "source": []
  },
  {
   "cell_type": "code",
   "execution_count": null,
   "id": "16467ec8",
   "metadata": {},
   "outputs": [],
   "source": []
  },
  {
   "cell_type": "code",
   "execution_count": null,
   "id": "dcf591d3",
   "metadata": {},
   "outputs": [],
   "source": []
  },
  {
   "cell_type": "code",
   "execution_count": null,
   "id": "3c85278a",
   "metadata": {},
   "outputs": [],
   "source": []
  },
  {
   "cell_type": "code",
   "execution_count": null,
   "id": "2c5ea02f",
   "metadata": {},
   "outputs": [],
   "source": []
  },
  {
   "cell_type": "code",
   "execution_count": 3,
   "id": "d36c7e93",
   "metadata": {},
   "outputs": [
    {
     "name": "stderr",
     "output_type": "stream",
     "text": [
      "2024-01-30 13:00:57,805\tINFO worker.py:1673 -- Started a local Ray instance.\n",
      "2024-01-30 13:00:58,510\tINFO dataset.py:2383 -- Tip: Use `take_batch()` instead of `take() / show()` to return records in pandas or numpy batch format.\n",
      "2024-01-30 13:00:58,511\tINFO streaming_executor.py:104 -- Executing DAG InputDataBuffer[Input] -> LimitOperator[limit=5]\n",
      "2024-01-30 13:00:58,511\tINFO streaming_executor.py:105 -- Execution config: ExecutionOptions(resource_limits=ExecutionResources(cpu=None, gpu=None, object_store_memory=None), locality_with_output=False, preserve_order=False, actor_locality_enabled=True, verbose_progress=False)\n",
      "2024-01-30 13:00:58,512\tINFO streaming_executor.py:107 -- Tip: For detailed progress reporting, run `ray.data.DataContext.get_current().execution_options.verbose_progress = True`\n"
     ]
    },
    {
     "data": {
      "application/vnd.jupyter.widget-view+json": {
       "model_id": "",
       "version_major": 2,
       "version_minor": 0
      },
      "text/plain": [
       "Running 0:   0%|          | 0/200 [00:00<?, ?it/s]"
      ]
     },
     "metadata": {},
     "output_type": "display_data"
    },
    {
     "name": "stdout",
     "output_type": "stream",
     "text": [
      "{'name': '0', 'data': 0}\n",
      "{'name': '1', 'data': 1}\n",
      "{'name': '2', 'data': 2}\n",
      "{'name': '3', 'data': 3}\n",
      "{'name': '4', 'data': 4}\n"
     ]
    }
   ],
   "source": [
    "items = [{\"name\": str(i), \"data\": i} for i in range(10000)]\n",
    "ds = ray.data.from_items(items)   \n",
    "ds.show(5)"
   ]
  },
  {
   "cell_type": "code",
   "execution_count": 4,
   "id": "4109dbc7",
   "metadata": {},
   "outputs": [],
   "source": [
    "squares = ds.map(lambda x: x[\"data\"] ** 2)"
   ]
  },
  {
   "cell_type": "code",
   "execution_count": 6,
   "id": "e92c726c",
   "metadata": {},
   "outputs": [
    {
     "name": "stderr",
     "output_type": "stream",
     "text": [
      "2024-01-30 13:18:49,334\tINFO streaming_executor.py:104 -- Executing DAG InputDataBuffer[Input] -> TaskPoolMapOperator[Map(<lambda>)] -> LimitOperator[limit=10]\n",
      "2024-01-30 13:18:49,336\tINFO streaming_executor.py:105 -- Execution config: ExecutionOptions(resource_limits=ExecutionResources(cpu=None, gpu=None, object_store_memory=None), locality_with_output=False, preserve_order=False, actor_locality_enabled=True, verbose_progress=False)\n",
      "2024-01-30 13:18:49,336\tINFO streaming_executor.py:107 -- Tip: For detailed progress reporting, run `ray.data.DataContext.get_current().execution_options.verbose_progress = True`\n"
     ]
    },
    {
     "data": {
      "application/vnd.jupyter.widget-view+json": {
       "model_id": "",
       "version_major": 2,
       "version_minor": 0
      },
      "text/plain": [
       "Running 0:   0%|          | 0/200 [00:00<?, ?it/s]"
      ]
     },
     "metadata": {},
     "output_type": "display_data"
    },
    {
     "ename": "RayTaskError(ValueError)",
     "evalue": "\u001b[36mray::Map(<lambda>)()\u001b[39m (pid=31601, ip=127.0.0.1)\n  File \"/Users/sbrewer/anaconda3/envs/rllib/lib/python3.11/site-packages/ray/data/_internal/execution/operators/map_operator.py\", line 416, in _map_task\n    for b_out in map_transformer.apply_transform(iter(blocks), ctx):\n  File \"/Users/sbrewer/anaconda3/envs/rllib/lib/python3.11/site-packages/ray/data/_internal/execution/operators/map_transformer.py\", line 371, in __call__\n    for data in iter:\n  File \"/Users/sbrewer/anaconda3/envs/rllib/lib/python3.11/site-packages/ray/data/_internal/execution/operators/map_transformer.py\", line 196, in __call__\n    yield from self._row_fn(input, ctx)\n  File \"/Users/sbrewer/anaconda3/envs/rllib/lib/python3.11/site-packages/ray/data/_internal/planner/plan_udf_map_op.py\", line 235, in transform_fn\n    _validate_row_output(out_row)\n  File \"/Users/sbrewer/anaconda3/envs/rllib/lib/python3.11/site-packages/ray/data/_internal/planner/plan_udf_map_op.py\", line 220, in _validate_row_output\n    raise ValueError(\nValueError: Error validating 0: Standalone Python objects are not allowed in Ray 2.5. To return Python objects from map(), wrap them in a dict, e.g., return `{'item': item}` instead of just `item`.",
     "output_type": "error",
     "traceback": [
      "\u001b[0;31m---------------------------------------------------------------------------\u001b[0m",
      "\u001b[0;31mObjectRefStreamEndOfStreamError\u001b[0m           Traceback (most recent call last)",
      "File \u001b[0;32mpython/ray/_raylet.pyx:347\u001b[0m, in \u001b[0;36mray._raylet.StreamingObjectRefGenerator._next_sync\u001b[0;34m()\u001b[0m\n",
      "File \u001b[0;32mpython/ray/_raylet.pyx:4643\u001b[0m, in \u001b[0;36mray._raylet.CoreWorker.try_read_next_object_ref_stream\u001b[0;34m()\u001b[0m\n",
      "File \u001b[0;32mpython/ray/_raylet.pyx:447\u001b[0m, in \u001b[0;36mray._raylet.check_status\u001b[0;34m()\u001b[0m\n",
      "\u001b[0;31mObjectRefStreamEndOfStreamError\u001b[0m: ",
      "\nDuring handling of the above exception, another exception occurred:\n",
      "\u001b[0;31mStopIteration\u001b[0m                             Traceback (most recent call last)",
      "File \u001b[0;32m~/anaconda3/envs/rllib/lib/python3.11/site-packages/ray/data/_internal/execution/interfaces/physical_operator.py:80\u001b[0m, in \u001b[0;36mDataOpTask.on_data_ready\u001b[0;34m(self, max_blocks_to_read)\u001b[0m\n\u001b[1;32m     79\u001b[0m \u001b[38;5;28;01mtry\u001b[39;00m:\n\u001b[0;32m---> 80\u001b[0m     meta \u001b[38;5;241m=\u001b[39m ray\u001b[38;5;241m.\u001b[39mget(\u001b[38;5;28mnext\u001b[39m(\u001b[38;5;28mself\u001b[39m\u001b[38;5;241m.\u001b[39m_streaming_gen))\n\u001b[1;32m     81\u001b[0m \u001b[38;5;28;01mexcept\u001b[39;00m \u001b[38;5;167;01mStopIteration\u001b[39;00m:\n\u001b[1;32m     82\u001b[0m     \u001b[38;5;66;03m# The generator should always yield 2 values (block and metadata)\u001b[39;00m\n\u001b[1;32m     83\u001b[0m     \u001b[38;5;66;03m# each time. If we get a StopIteration here, it means an error\u001b[39;00m\n\u001b[0;32m   (...)\u001b[0m\n\u001b[1;32m     86\u001b[0m     \u001b[38;5;66;03m# TODO(hchen): Ray Core should have a better interface for\u001b[39;00m\n\u001b[1;32m     87\u001b[0m     \u001b[38;5;66;03m# detecting and obtaining the exception.\u001b[39;00m\n",
      "File \u001b[0;32mpython/ray/_raylet.pyx:302\u001b[0m, in \u001b[0;36mray._raylet.StreamingObjectRefGenerator.__next__\u001b[0;34m()\u001b[0m\n",
      "File \u001b[0;32mpython/ray/_raylet.pyx:353\u001b[0m, in \u001b[0;36mray._raylet.StreamingObjectRefGenerator._next_sync\u001b[0;34m()\u001b[0m\n",
      "\u001b[0;31mStopIteration\u001b[0m: ",
      "\nDuring handling of the above exception, another exception occurred:\n",
      "\u001b[0;31mRayTaskError(ValueError)\u001b[0m                  Traceback (most recent call last)",
      "Cell \u001b[0;32mIn[6], line 1\u001b[0m\n\u001b[0;32m----> 1\u001b[0m squares\u001b[38;5;241m.\u001b[39mtake(\u001b[38;5;241m10\u001b[39m)\n",
      "File \u001b[0;32m~/anaconda3/envs/rllib/lib/python3.11/site-packages/ray/data/dataset.py:2390\u001b[0m, in \u001b[0;36mDataset.take\u001b[0;34m(self, limit)\u001b[0m\n\u001b[1;32m   2387\u001b[0m output \u001b[38;5;241m=\u001b[39m []\n\u001b[1;32m   2389\u001b[0m limited_ds \u001b[38;5;241m=\u001b[39m \u001b[38;5;28mself\u001b[39m\u001b[38;5;241m.\u001b[39mlimit(limit)\n\u001b[0;32m-> 2390\u001b[0m \u001b[38;5;28;01mfor\u001b[39;00m row \u001b[38;5;129;01min\u001b[39;00m limited_ds\u001b[38;5;241m.\u001b[39miter_rows():\n\u001b[1;32m   2391\u001b[0m     output\u001b[38;5;241m.\u001b[39mappend(row)\n\u001b[1;32m   2392\u001b[0m     \u001b[38;5;28;01mif\u001b[39;00m \u001b[38;5;28mlen\u001b[39m(output) \u001b[38;5;241m>\u001b[39m\u001b[38;5;241m=\u001b[39m limit:\n",
      "File \u001b[0;32m~/anaconda3/envs/rllib/lib/python3.11/site-packages/ray/data/iterator.py:219\u001b[0m, in \u001b[0;36mDataIterator.iter_rows.<locals>._wrapped_iterator\u001b[0;34m()\u001b[0m\n\u001b[1;32m    218\u001b[0m \u001b[38;5;28;01mdef\u001b[39;00m \u001b[38;5;21m_wrapped_iterator\u001b[39m():\n\u001b[0;32m--> 219\u001b[0m     \u001b[38;5;28;01mfor\u001b[39;00m batch \u001b[38;5;129;01min\u001b[39;00m batch_iterable:\n\u001b[1;32m    220\u001b[0m         batch \u001b[38;5;241m=\u001b[39m BlockAccessor\u001b[38;5;241m.\u001b[39mfor_block(BlockAccessor\u001b[38;5;241m.\u001b[39mbatch_to_block(batch))\n\u001b[1;32m    221\u001b[0m         \u001b[38;5;28;01mfor\u001b[39;00m row \u001b[38;5;129;01min\u001b[39;00m batch\u001b[38;5;241m.\u001b[39miter_rows(public_row_format\u001b[38;5;241m=\u001b[39m\u001b[38;5;28;01mTrue\u001b[39;00m):\n",
      "File \u001b[0;32m~/anaconda3/envs/rllib/lib/python3.11/site-packages/ray/data/iterator.py:164\u001b[0m, in \u001b[0;36mDataIterator.iter_batches.<locals>._create_iterator\u001b[0;34m()\u001b[0m\n\u001b[1;32m    159\u001b[0m time_start \u001b[38;5;241m=\u001b[39m time\u001b[38;5;241m.\u001b[39mperf_counter()\n\u001b[1;32m    160\u001b[0m \u001b[38;5;66;03m# Iterate through the dataset from the start each time\u001b[39;00m\n\u001b[1;32m    161\u001b[0m \u001b[38;5;66;03m# _iterator_gen is called.\u001b[39;00m\n\u001b[1;32m    162\u001b[0m \u001b[38;5;66;03m# This allows multiple iterations of the dataset without\u001b[39;00m\n\u001b[1;32m    163\u001b[0m \u001b[38;5;66;03m# needing to explicitly call `iter_batches()` multiple times.\u001b[39;00m\n\u001b[0;32m--> 164\u001b[0m block_iterator, stats, blocks_owned_by_consumer \u001b[38;5;241m=\u001b[39m \u001b[38;5;28mself\u001b[39m\u001b[38;5;241m.\u001b[39m_to_block_iterator()\n\u001b[1;32m    166\u001b[0m iterator \u001b[38;5;241m=\u001b[39m \u001b[38;5;28miter\u001b[39m(\n\u001b[1;32m    167\u001b[0m     iter_batches(\n\u001b[1;32m    168\u001b[0m         block_iterator,\n\u001b[0;32m   (...)\u001b[0m\n\u001b[1;32m    179\u001b[0m     )\n\u001b[1;32m    180\u001b[0m )\n\u001b[1;32m    182\u001b[0m \u001b[38;5;28;01mfor\u001b[39;00m batch \u001b[38;5;129;01min\u001b[39;00m iterator:\n",
      "File \u001b[0;32m~/anaconda3/envs/rllib/lib/python3.11/site-packages/ray/data/_internal/iterator/iterator_impl.py:32\u001b[0m, in \u001b[0;36mDataIteratorImpl._to_block_iterator\u001b[0;34m(self)\u001b[0m\n\u001b[1;32m     24\u001b[0m \u001b[38;5;28;01mdef\u001b[39;00m \u001b[38;5;21m_to_block_iterator\u001b[39m(\n\u001b[1;32m     25\u001b[0m     \u001b[38;5;28mself\u001b[39m,\n\u001b[1;32m     26\u001b[0m ) \u001b[38;5;241m-\u001b[39m\u001b[38;5;241m>\u001b[39m Tuple[\n\u001b[0;32m   (...)\u001b[0m\n\u001b[1;32m     29\u001b[0m     \u001b[38;5;28mbool\u001b[39m,\n\u001b[1;32m     30\u001b[0m ]:\n\u001b[1;32m     31\u001b[0m     ds \u001b[38;5;241m=\u001b[39m \u001b[38;5;28mself\u001b[39m\u001b[38;5;241m.\u001b[39m_base_dataset\n\u001b[0;32m---> 32\u001b[0m     block_iterator, stats, executor \u001b[38;5;241m=\u001b[39m ds\u001b[38;5;241m.\u001b[39m_plan\u001b[38;5;241m.\u001b[39mexecute_to_iterator()\n\u001b[1;32m     33\u001b[0m     ds\u001b[38;5;241m.\u001b[39m_current_executor \u001b[38;5;241m=\u001b[39m executor\n\u001b[1;32m     34\u001b[0m     \u001b[38;5;28;01mreturn\u001b[39;00m block_iterator, stats, \u001b[38;5;28;01mFalse\u001b[39;00m\n",
      "File \u001b[0;32m~/anaconda3/envs/rllib/lib/python3.11/site-packages/ray/data/_internal/plan.py:548\u001b[0m, in \u001b[0;36mExecutionPlan.execute_to_iterator\u001b[0;34m(self, allow_clear_input_blocks, force_read)\u001b[0m\n\u001b[1;32m    546\u001b[0m gen \u001b[38;5;241m=\u001b[39m \u001b[38;5;28miter\u001b[39m(block_iter)\n\u001b[1;32m    547\u001b[0m \u001b[38;5;28;01mtry\u001b[39;00m:\n\u001b[0;32m--> 548\u001b[0m     block_iter \u001b[38;5;241m=\u001b[39m itertools\u001b[38;5;241m.\u001b[39mchain([\u001b[38;5;28mnext\u001b[39m(gen)], gen)\n\u001b[1;32m    549\u001b[0m \u001b[38;5;28;01mexcept\u001b[39;00m \u001b[38;5;167;01mStopIteration\u001b[39;00m:\n\u001b[1;32m    550\u001b[0m     \u001b[38;5;28;01mpass\u001b[39;00m\n",
      "File \u001b[0;32m~/anaconda3/envs/rllib/lib/python3.11/site-packages/ray/data/_internal/execution/legacy_compat.py:54\u001b[0m, in \u001b[0;36mexecute_to_legacy_block_iterator\u001b[0;34m(executor, plan, allow_clear_input_blocks, dataset_uuid)\u001b[0m\n\u001b[1;32m     50\u001b[0m \u001b[38;5;250m\u001b[39m\u001b[38;5;124;03m\"\"\"Same as execute_to_legacy_bundle_iterator but returning blocks and metadata.\"\"\"\u001b[39;00m\n\u001b[1;32m     51\u001b[0m bundle_iter \u001b[38;5;241m=\u001b[39m execute_to_legacy_bundle_iterator(\n\u001b[1;32m     52\u001b[0m     executor, plan, allow_clear_input_blocks, dataset_uuid\n\u001b[1;32m     53\u001b[0m )\n\u001b[0;32m---> 54\u001b[0m \u001b[38;5;28;01mfor\u001b[39;00m bundle \u001b[38;5;129;01min\u001b[39;00m bundle_iter:\n\u001b[1;32m     55\u001b[0m     \u001b[38;5;28;01mfor\u001b[39;00m block, metadata \u001b[38;5;129;01min\u001b[39;00m bundle\u001b[38;5;241m.\u001b[39mblocks:\n\u001b[1;32m     56\u001b[0m         \u001b[38;5;28;01myield\u001b[39;00m block, metadata\n",
      "File \u001b[0;32m~/anaconda3/envs/rllib/lib/python3.11/site-packages/ray/data/_internal/execution/interfaces/executor.py:37\u001b[0m, in \u001b[0;36mOutputIterator.__next__\u001b[0;34m(self)\u001b[0m\n\u001b[1;32m     36\u001b[0m \u001b[38;5;28;01mdef\u001b[39;00m \u001b[38;5;21m__next__\u001b[39m(\u001b[38;5;28mself\u001b[39m) \u001b[38;5;241m-\u001b[39m\u001b[38;5;241m>\u001b[39m RefBundle:\n\u001b[0;32m---> 37\u001b[0m     \u001b[38;5;28;01mreturn\u001b[39;00m \u001b[38;5;28mself\u001b[39m\u001b[38;5;241m.\u001b[39mget_next()\n",
      "File \u001b[0;32m~/anaconda3/envs/rllib/lib/python3.11/site-packages/ray/data/_internal/execution/streaming_executor.py:141\u001b[0m, in \u001b[0;36mStreamingExecutor.execute.<locals>.StreamIterator.get_next\u001b[0;34m(self, output_split_idx)\u001b[0m\n\u001b[1;32m    139\u001b[0m         \u001b[38;5;28;01mraise\u001b[39;00m \u001b[38;5;167;01mStopIteration\u001b[39;00m\n\u001b[1;32m    140\u001b[0m \u001b[38;5;28;01melif\u001b[39;00m \u001b[38;5;28misinstance\u001b[39m(item, \u001b[38;5;167;01mException\u001b[39;00m):\n\u001b[0;32m--> 141\u001b[0m     \u001b[38;5;28;01mraise\u001b[39;00m item\n\u001b[1;32m    142\u001b[0m \u001b[38;5;28;01melse\u001b[39;00m:\n\u001b[1;32m    143\u001b[0m     \u001b[38;5;66;03m# Otherwise return a concrete RefBundle.\u001b[39;00m\n\u001b[1;32m    144\u001b[0m     \u001b[38;5;28;01mif\u001b[39;00m \u001b[38;5;28mself\u001b[39m\u001b[38;5;241m.\u001b[39m_outer\u001b[38;5;241m.\u001b[39m_global_info:\n",
      "File \u001b[0;32m~/anaconda3/envs/rllib/lib/python3.11/site-packages/ray/data/_internal/execution/streaming_executor.py:201\u001b[0m, in \u001b[0;36mStreamingExecutor.run\u001b[0;34m(self)\u001b[0m\n\u001b[1;32m    195\u001b[0m \u001b[38;5;250m\u001b[39m\u001b[38;5;124;03m\"\"\"Run the control loop in a helper thread.\u001b[39;00m\n\u001b[1;32m    196\u001b[0m \n\u001b[1;32m    197\u001b[0m \u001b[38;5;124;03mResults are returned via the output node's outqueue.\u001b[39;00m\n\u001b[1;32m    198\u001b[0m \u001b[38;5;124;03m\"\"\"\u001b[39;00m\n\u001b[1;32m    199\u001b[0m \u001b[38;5;28;01mtry\u001b[39;00m:\n\u001b[1;32m    200\u001b[0m     \u001b[38;5;66;03m# Run scheduling loop until complete.\u001b[39;00m\n\u001b[0;32m--> 201\u001b[0m     \u001b[38;5;28;01mwhile\u001b[39;00m \u001b[38;5;28mself\u001b[39m\u001b[38;5;241m.\u001b[39m_scheduling_loop_step(\u001b[38;5;28mself\u001b[39m\u001b[38;5;241m.\u001b[39m_topology) \u001b[38;5;129;01mand\u001b[39;00m \u001b[38;5;129;01mnot\u001b[39;00m \u001b[38;5;28mself\u001b[39m\u001b[38;5;241m.\u001b[39m_shutdown:\n\u001b[1;32m    202\u001b[0m         \u001b[38;5;28;01mpass\u001b[39;00m\n\u001b[1;32m    203\u001b[0m \u001b[38;5;28;01mexcept\u001b[39;00m \u001b[38;5;167;01mException\u001b[39;00m \u001b[38;5;28;01mas\u001b[39;00m e:\n\u001b[1;32m    204\u001b[0m     \u001b[38;5;66;03m# Propagate it to the result iterator.\u001b[39;00m\n",
      "File \u001b[0;32m~/anaconda3/envs/rllib/lib/python3.11/site-packages/ray/data/_internal/execution/streaming_executor.py:252\u001b[0m, in \u001b[0;36mStreamingExecutor._scheduling_loop_step\u001b[0;34m(self, topology)\u001b[0m\n\u001b[1;32m    247\u001b[0m     logger\u001b[38;5;241m.\u001b[39mget_logger()\u001b[38;5;241m.\u001b[39minfo(\u001b[38;5;124m\"\u001b[39m\u001b[38;5;124mScheduling loop step...\u001b[39m\u001b[38;5;124m\"\u001b[39m)\n\u001b[1;32m    249\u001b[0m \u001b[38;5;66;03m# Note: calling process_completed_tasks() is expensive since it incurs\u001b[39;00m\n\u001b[1;32m    250\u001b[0m \u001b[38;5;66;03m# ray.wait() overhead, so make sure to allow multiple dispatch per call for\u001b[39;00m\n\u001b[1;32m    251\u001b[0m \u001b[38;5;66;03m# greater parallelism.\u001b[39;00m\n\u001b[0;32m--> 252\u001b[0m process_completed_tasks(topology, \u001b[38;5;28mself\u001b[39m\u001b[38;5;241m.\u001b[39m_backpressure_policies)\n\u001b[1;32m    254\u001b[0m \u001b[38;5;66;03m# Dispatch as many operators as we can for completed tasks.\u001b[39;00m\n\u001b[1;32m    255\u001b[0m limits \u001b[38;5;241m=\u001b[39m \u001b[38;5;28mself\u001b[39m\u001b[38;5;241m.\u001b[39m_get_or_refresh_resource_limits()\n",
      "File \u001b[0;32m~/anaconda3/envs/rllib/lib/python3.11/site-packages/ray/data/_internal/execution/streaming_executor_state.py:365\u001b[0m, in \u001b[0;36mprocess_completed_tasks\u001b[0;34m(topology, backpressure_policies)\u001b[0m\n\u001b[1;32m    363\u001b[0m state, task \u001b[38;5;241m=\u001b[39m active_tasks\u001b[38;5;241m.\u001b[39mpop(ref)\n\u001b[1;32m    364\u001b[0m \u001b[38;5;28;01mif\u001b[39;00m \u001b[38;5;28misinstance\u001b[39m(task, DataOpTask):\n\u001b[0;32m--> 365\u001b[0m     num_blocks_read \u001b[38;5;241m=\u001b[39m task\u001b[38;5;241m.\u001b[39mon_data_ready(\n\u001b[1;32m    366\u001b[0m         max_blocks_to_read_per_op\u001b[38;5;241m.\u001b[39mget(state, \u001b[38;5;28;01mNone\u001b[39;00m)\n\u001b[1;32m    367\u001b[0m     )\n\u001b[1;32m    368\u001b[0m     \u001b[38;5;28;01mif\u001b[39;00m state \u001b[38;5;129;01min\u001b[39;00m max_blocks_to_read_per_op:\n\u001b[1;32m    369\u001b[0m         max_blocks_to_read_per_op[state] \u001b[38;5;241m-\u001b[39m\u001b[38;5;241m=\u001b[39m num_blocks_read\n",
      "File \u001b[0;32m~/anaconda3/envs/rllib/lib/python3.11/site-packages/ray/data/_internal/execution/interfaces/physical_operator.py:88\u001b[0m, in \u001b[0;36mDataOpTask.on_data_ready\u001b[0;34m(self, max_blocks_to_read)\u001b[0m\n\u001b[1;32m     80\u001b[0m     meta \u001b[38;5;241m=\u001b[39m ray\u001b[38;5;241m.\u001b[39mget(\u001b[38;5;28mnext\u001b[39m(\u001b[38;5;28mself\u001b[39m\u001b[38;5;241m.\u001b[39m_streaming_gen))\n\u001b[1;32m     81\u001b[0m \u001b[38;5;28;01mexcept\u001b[39;00m \u001b[38;5;167;01mStopIteration\u001b[39;00m:\n\u001b[1;32m     82\u001b[0m     \u001b[38;5;66;03m# The generator should always yield 2 values (block and metadata)\u001b[39;00m\n\u001b[1;32m     83\u001b[0m     \u001b[38;5;66;03m# each time. If we get a StopIteration here, it means an error\u001b[39;00m\n\u001b[0;32m   (...)\u001b[0m\n\u001b[1;32m     86\u001b[0m     \u001b[38;5;66;03m# TODO(hchen): Ray Core should have a better interface for\u001b[39;00m\n\u001b[1;32m     87\u001b[0m     \u001b[38;5;66;03m# detecting and obtaining the exception.\u001b[39;00m\n\u001b[0;32m---> 88\u001b[0m     ex \u001b[38;5;241m=\u001b[39m ray\u001b[38;5;241m.\u001b[39mget(block_ref)\n\u001b[1;32m     89\u001b[0m     \u001b[38;5;28mself\u001b[39m\u001b[38;5;241m.\u001b[39m_task_done_callback()\n\u001b[1;32m     90\u001b[0m     \u001b[38;5;28;01mraise\u001b[39;00m ex\n",
      "File \u001b[0;32m~/anaconda3/envs/rllib/lib/python3.11/site-packages/ray/_private/auto_init_hook.py:24\u001b[0m, in \u001b[0;36mwrap_auto_init.<locals>.auto_init_wrapper\u001b[0;34m(*args, **kwargs)\u001b[0m\n\u001b[1;32m     21\u001b[0m \u001b[38;5;129m@wraps\u001b[39m(fn)\n\u001b[1;32m     22\u001b[0m \u001b[38;5;28;01mdef\u001b[39;00m \u001b[38;5;21mauto_init_wrapper\u001b[39m(\u001b[38;5;241m*\u001b[39margs, \u001b[38;5;241m*\u001b[39m\u001b[38;5;241m*\u001b[39mkwargs):\n\u001b[1;32m     23\u001b[0m     auto_init_ray()\n\u001b[0;32m---> 24\u001b[0m     \u001b[38;5;28;01mreturn\u001b[39;00m fn(\u001b[38;5;241m*\u001b[39margs, \u001b[38;5;241m*\u001b[39m\u001b[38;5;241m*\u001b[39mkwargs)\n",
      "File \u001b[0;32m~/anaconda3/envs/rllib/lib/python3.11/site-packages/ray/_private/client_mode_hook.py:103\u001b[0m, in \u001b[0;36mclient_mode_hook.<locals>.wrapper\u001b[0;34m(*args, **kwargs)\u001b[0m\n\u001b[1;32m    101\u001b[0m     \u001b[38;5;28;01mif\u001b[39;00m func\u001b[38;5;241m.\u001b[39m\u001b[38;5;18m__name__\u001b[39m \u001b[38;5;241m!=\u001b[39m \u001b[38;5;124m\"\u001b[39m\u001b[38;5;124minit\u001b[39m\u001b[38;5;124m\"\u001b[39m \u001b[38;5;129;01mor\u001b[39;00m is_client_mode_enabled_by_default:\n\u001b[1;32m    102\u001b[0m         \u001b[38;5;28;01mreturn\u001b[39;00m \u001b[38;5;28mgetattr\u001b[39m(ray, func\u001b[38;5;241m.\u001b[39m\u001b[38;5;18m__name__\u001b[39m)(\u001b[38;5;241m*\u001b[39margs, \u001b[38;5;241m*\u001b[39m\u001b[38;5;241m*\u001b[39mkwargs)\n\u001b[0;32m--> 103\u001b[0m \u001b[38;5;28;01mreturn\u001b[39;00m func(\u001b[38;5;241m*\u001b[39margs, \u001b[38;5;241m*\u001b[39m\u001b[38;5;241m*\u001b[39mkwargs)\n",
      "File \u001b[0;32m~/anaconda3/envs/rllib/lib/python3.11/site-packages/ray/_private/worker.py:2563\u001b[0m, in \u001b[0;36mget\u001b[0;34m(object_refs, timeout)\u001b[0m\n\u001b[1;32m   2561\u001b[0m     worker\u001b[38;5;241m.\u001b[39mcore_worker\u001b[38;5;241m.\u001b[39mdump_object_store_memory_usage()\n\u001b[1;32m   2562\u001b[0m \u001b[38;5;28;01mif\u001b[39;00m \u001b[38;5;28misinstance\u001b[39m(value, RayTaskError):\n\u001b[0;32m-> 2563\u001b[0m     \u001b[38;5;28;01mraise\u001b[39;00m value\u001b[38;5;241m.\u001b[39mas_instanceof_cause()\n\u001b[1;32m   2564\u001b[0m \u001b[38;5;28;01melse\u001b[39;00m:\n\u001b[1;32m   2565\u001b[0m     \u001b[38;5;28;01mraise\u001b[39;00m value\n",
      "\u001b[0;31mRayTaskError(ValueError)\u001b[0m: \u001b[36mray::Map(<lambda>)()\u001b[39m (pid=31601, ip=127.0.0.1)\n  File \"/Users/sbrewer/anaconda3/envs/rllib/lib/python3.11/site-packages/ray/data/_internal/execution/operators/map_operator.py\", line 416, in _map_task\n    for b_out in map_transformer.apply_transform(iter(blocks), ctx):\n  File \"/Users/sbrewer/anaconda3/envs/rllib/lib/python3.11/site-packages/ray/data/_internal/execution/operators/map_transformer.py\", line 371, in __call__\n    for data in iter:\n  File \"/Users/sbrewer/anaconda3/envs/rllib/lib/python3.11/site-packages/ray/data/_internal/execution/operators/map_transformer.py\", line 196, in __call__\n    yield from self._row_fn(input, ctx)\n  File \"/Users/sbrewer/anaconda3/envs/rllib/lib/python3.11/site-packages/ray/data/_internal/planner/plan_udf_map_op.py\", line 235, in transform_fn\n    _validate_row_output(out_row)\n  File \"/Users/sbrewer/anaconda3/envs/rllib/lib/python3.11/site-packages/ray/data/_internal/planner/plan_udf_map_op.py\", line 220, in _validate_row_output\n    raise ValueError(\nValueError: Error validating 0: Standalone Python objects are not allowed in Ray 2.5. To return Python objects from map(), wrap them in a dict, e.g., return `{'item': item}` instead of just `item`."
     ]
    },
    {
     "name": "stderr",
     "output_type": "stream",
     "text": [
      "2024-01-30 13:18:58,309\tERROR worker.py:406 -- Unhandled error (suppress with 'RAY_IGNORE_UNHANDLED_ERRORS=1'): \u001b[36mray::Map(<lambda>)()\u001b[39m (pid=31607, ip=127.0.0.1)\n",
      "  File \"/Users/sbrewer/anaconda3/envs/rllib/lib/python3.11/site-packages/ray/data/_internal/execution/operators/map_operator.py\", line 416, in _map_task\n",
      "    for b_out in map_transformer.apply_transform(iter(blocks), ctx):\n",
      "  File \"/Users/sbrewer/anaconda3/envs/rllib/lib/python3.11/site-packages/ray/data/_internal/execution/operators/map_transformer.py\", line 371, in __call__\n",
      "    for data in iter:\n",
      "  File \"/Users/sbrewer/anaconda3/envs/rllib/lib/python3.11/site-packages/ray/data/_internal/execution/operators/map_transformer.py\", line 196, in __call__\n",
      "    yield from self._row_fn(input, ctx)\n",
      "  File \"/Users/sbrewer/anaconda3/envs/rllib/lib/python3.11/site-packages/ray/data/_internal/planner/plan_udf_map_op.py\", line 235, in transform_fn\n",
      "    _validate_row_output(out_row)\n",
      "  File \"/Users/sbrewer/anaconda3/envs/rllib/lib/python3.11/site-packages/ray/data/_internal/planner/plan_udf_map_op.py\", line 220, in _validate_row_output\n",
      "    raise ValueError(\n",
      "ValueError: Error validating 202500: Standalone Python objects are not allowed in Ray 2.5. To return Python objects from map(), wrap them in a dict, e.g., return `{'item': item}` instead of just `item`.\n",
      "2024-01-30 13:18:58,311\tERROR worker.py:406 -- Unhandled error (suppress with 'RAY_IGNORE_UNHANDLED_ERRORS=1'): \u001b[36mray::Map(<lambda>)()\u001b[39m (pid=31612, ip=127.0.0.1)\n",
      "  File \"/Users/sbrewer/anaconda3/envs/rllib/lib/python3.11/site-packages/ray/data/_internal/execution/operators/map_operator.py\", line 416, in _map_task\n",
      "    for b_out in map_transformer.apply_transform(iter(blocks), ctx):\n",
      "  File \"/Users/sbrewer/anaconda3/envs/rllib/lib/python3.11/site-packages/ray/data/_internal/execution/operators/map_transformer.py\", line 371, in __call__\n",
      "    for data in iter:\n",
      "  File \"/Users/sbrewer/anaconda3/envs/rllib/lib/python3.11/site-packages/ray/data/_internal/execution/operators/map_transformer.py\", line 196, in __call__\n",
      "    yield from self._row_fn(input, ctx)\n",
      "  File \"/Users/sbrewer/anaconda3/envs/rllib/lib/python3.11/site-packages/ray/data/_internal/planner/plan_udf_map_op.py\", line 235, in transform_fn\n",
      "    _validate_row_output(out_row)\n",
      "  File \"/Users/sbrewer/anaconda3/envs/rllib/lib/python3.11/site-packages/ray/data/_internal/planner/plan_udf_map_op.py\", line 220, in _validate_row_output\n",
      "    raise ValueError(\n",
      "ValueError: Error validating 250000: Standalone Python objects are not allowed in Ray 2.5. To return Python objects from map(), wrap them in a dict, e.g., return `{'item': item}` instead of just `item`.\n",
      "2024-01-30 13:18:58,313\tERROR worker.py:406 -- Unhandled error (suppress with 'RAY_IGNORE_UNHANDLED_ERRORS=1'): \u001b[36mray::Map(<lambda>)()\u001b[39m (pid=31602, ip=127.0.0.1)\n",
      "  File \"/Users/sbrewer/anaconda3/envs/rllib/lib/python3.11/site-packages/ray/data/_internal/execution/operators/map_operator.py\", line 416, in _map_task\n",
      "    for b_out in map_transformer.apply_transform(iter(blocks), ctx):\n",
      "  File \"/Users/sbrewer/anaconda3/envs/rllib/lib/python3.11/site-packages/ray/data/_internal/execution/operators/map_transformer.py\", line 371, in __call__\n",
      "    for data in iter:\n",
      "  File \"/Users/sbrewer/anaconda3/envs/rllib/lib/python3.11/site-packages/ray/data/_internal/execution/operators/map_transformer.py\", line 196, in __call__\n",
      "    yield from self._row_fn(input, ctx)\n",
      "  File \"/Users/sbrewer/anaconda3/envs/rllib/lib/python3.11/site-packages/ray/data/_internal/planner/plan_udf_map_op.py\", line 235, in transform_fn\n",
      "    _validate_row_output(out_row)\n",
      "  File \"/Users/sbrewer/anaconda3/envs/rllib/lib/python3.11/site-packages/ray/data/_internal/planner/plan_udf_map_op.py\", line 220, in _validate_row_output\n",
      "    raise ValueError(\n",
      "ValueError: Error validating 2500: Standalone Python objects are not allowed in Ray 2.5. To return Python objects from map(), wrap them in a dict, e.g., return `{'item': item}` instead of just `item`.\n",
      "2024-01-30 13:18:58,314\tERROR worker.py:406 -- Unhandled error (suppress with 'RAY_IGNORE_UNHANDLED_ERRORS=1'): \u001b[36mray::Map(<lambda>)()\u001b[39m (pid=31605, ip=127.0.0.1)\n",
      "  File \"/Users/sbrewer/anaconda3/envs/rllib/lib/python3.11/site-packages/ray/data/_internal/execution/operators/map_operator.py\", line 416, in _map_task\n",
      "    for b_out in map_transformer.apply_transform(iter(blocks), ctx):\n",
      "  File \"/Users/sbrewer/anaconda3/envs/rllib/lib/python3.11/site-packages/ray/data/_internal/execution/operators/map_transformer.py\", line 371, in __call__\n",
      "    for data in iter:\n",
      "  File \"/Users/sbrewer/anaconda3/envs/rllib/lib/python3.11/site-packages/ray/data/_internal/execution/operators/map_transformer.py\", line 196, in __call__\n",
      "    yield from self._row_fn(input, ctx)\n",
      "  File \"/Users/sbrewer/anaconda3/envs/rllib/lib/python3.11/site-packages/ray/data/_internal/planner/plan_udf_map_op.py\", line 235, in transform_fn\n",
      "    _validate_row_output(out_row)\n",
      "  File \"/Users/sbrewer/anaconda3/envs/rllib/lib/python3.11/site-packages/ray/data/_internal/planner/plan_udf_map_op.py\", line 220, in _validate_row_output\n",
      "    raise ValueError(\n",
      "ValueError: Error validating 90000: Standalone Python objects are not allowed in Ray 2.5. To return Python objects from map(), wrap them in a dict, e.g., return `{'item': item}` instead of just `item`.\n",
      "2024-01-30 13:18:58,315\tERROR worker.py:406 -- Unhandled error (suppress with 'RAY_IGNORE_UNHANDLED_ERRORS=1'): \u001b[36mray::Map(<lambda>)()\u001b[39m (pid=31606, ip=127.0.0.1)\n",
      "  File \"/Users/sbrewer/anaconda3/envs/rllib/lib/python3.11/site-packages/ray/data/_internal/execution/operators/map_operator.py\", line 416, in _map_task\n",
      "    for b_out in map_transformer.apply_transform(iter(blocks), ctx):\n",
      "  File \"/Users/sbrewer/anaconda3/envs/rllib/lib/python3.11/site-packages/ray/data/_internal/execution/operators/map_transformer.py\", line 371, in __call__\n",
      "    for data in iter:\n",
      "  File \"/Users/sbrewer/anaconda3/envs/rllib/lib/python3.11/site-packages/ray/data/_internal/execution/operators/map_transformer.py\", line 196, in __call__\n",
      "    yield from self._row_fn(input, ctx)\n",
      "  File \"/Users/sbrewer/anaconda3/envs/rllib/lib/python3.11/site-packages/ray/data/_internal/planner/plan_udf_map_op.py\", line 235, in transform_fn\n",
      "    _validate_row_output(out_row)\n",
      "  File \"/Users/sbrewer/anaconda3/envs/rllib/lib/python3.11/site-packages/ray/data/_internal/planner/plan_udf_map_op.py\", line 220, in _validate_row_output\n",
      "    raise ValueError(\n",
      "ValueError: Error validating 122500: Standalone Python objects are not allowed in Ray 2.5. To return Python objects from map(), wrap them in a dict, e.g., return `{'item': item}` instead of just `item`.\n",
      "2024-01-30 13:18:58,316\tERROR worker.py:406 -- Unhandled error (suppress with 'RAY_IGNORE_UNHANDLED_ERRORS=1'): \u001b[36mray::Map(<lambda>)()\u001b[39m (pid=31611, ip=127.0.0.1)\n",
      "  File \"/Users/sbrewer/anaconda3/envs/rllib/lib/python3.11/site-packages/ray/data/_internal/execution/operators/map_operator.py\", line 416, in _map_task\n",
      "    for b_out in map_transformer.apply_transform(iter(blocks), ctx):\n",
      "  File \"/Users/sbrewer/anaconda3/envs/rllib/lib/python3.11/site-packages/ray/data/_internal/execution/operators/map_transformer.py\", line 371, in __call__\n",
      "    for data in iter:\n",
      "  File \"/Users/sbrewer/anaconda3/envs/rllib/lib/python3.11/site-packages/ray/data/_internal/execution/operators/map_transformer.py\", line 196, in __call__\n",
      "    yield from self._row_fn(input, ctx)\n",
      "  File \"/Users/sbrewer/anaconda3/envs/rllib/lib/python3.11/site-packages/ray/data/_internal/planner/plan_udf_map_op.py\", line 235, in transform_fn\n",
      "    _validate_row_output(out_row)\n",
      "  File \"/Users/sbrewer/anaconda3/envs/rllib/lib/python3.11/site-packages/ray/data/_internal/planner/plan_udf_map_op.py\", line 220, in _validate_row_output\n",
      "    raise ValueError(\n",
      "ValueError: Error validating 40000: Standalone Python objects are not allowed in Ray 2.5. To return Python objects from map(), wrap them in a dict, e.g., return `{'item': item}` instead of just `item`.\n",
      "2024-01-30 13:18:58,318\tERROR worker.py:406 -- Unhandled error (suppress with 'RAY_IGNORE_UNHANDLED_ERRORS=1'): \u001b[36mray::Map(<lambda>)()\u001b[39m (pid=31604, ip=127.0.0.1)\n",
      "  File \"/Users/sbrewer/anaconda3/envs/rllib/lib/python3.11/site-packages/ray/data/_internal/execution/operators/map_operator.py\", line 416, in _map_task\n",
      "    for b_out in map_transformer.apply_transform(iter(blocks), ctx):\n",
      "  File \"/Users/sbrewer/anaconda3/envs/rllib/lib/python3.11/site-packages/ray/data/_internal/execution/operators/map_transformer.py\", line 371, in __call__\n",
      "    for data in iter:\n",
      "  File \"/Users/sbrewer/anaconda3/envs/rllib/lib/python3.11/site-packages/ray/data/_internal/execution/operators/map_transformer.py\", line 196, in __call__\n",
      "    yield from self._row_fn(input, ctx)\n",
      "  File \"/Users/sbrewer/anaconda3/envs/rllib/lib/python3.11/site-packages/ray/data/_internal/planner/plan_udf_map_op.py\", line 235, in transform_fn\n",
      "    _validate_row_output(out_row)\n",
      "  File \"/Users/sbrewer/anaconda3/envs/rllib/lib/python3.11/site-packages/ray/data/_internal/planner/plan_udf_map_op.py\", line 220, in _validate_row_output\n",
      "    raise ValueError(\n",
      "ValueError: Error validating 22500: Standalone Python objects are not allowed in Ray 2.5. To return Python objects from map(), wrap them in a dict, e.g., return `{'item': item}` instead of just `item`.\n"
     ]
    },
    {
     "name": "stderr",
     "output_type": "stream",
     "text": [
      "2024-01-30 13:18:58,320\tERROR worker.py:406 -- Unhandled error (suppress with 'RAY_IGNORE_UNHANDLED_ERRORS=1'): \u001b[36mray::Map(<lambda>)()\u001b[39m (pid=31610, ip=127.0.0.1)\n",
      "  File \"/Users/sbrewer/anaconda3/envs/rllib/lib/python3.11/site-packages/ray/data/_internal/execution/operators/map_operator.py\", line 416, in _map_task\n",
      "    for b_out in map_transformer.apply_transform(iter(blocks), ctx):\n",
      "  File \"/Users/sbrewer/anaconda3/envs/rllib/lib/python3.11/site-packages/ray/data/_internal/execution/operators/map_transformer.py\", line 371, in __call__\n",
      "    for data in iter:\n",
      "  File \"/Users/sbrewer/anaconda3/envs/rllib/lib/python3.11/site-packages/ray/data/_internal/execution/operators/map_transformer.py\", line 196, in __call__\n",
      "    yield from self._row_fn(input, ctx)\n",
      "  File \"/Users/sbrewer/anaconda3/envs/rllib/lib/python3.11/site-packages/ray/data/_internal/planner/plan_udf_map_op.py\", line 235, in transform_fn\n",
      "    _validate_row_output(out_row)\n",
      "  File \"/Users/sbrewer/anaconda3/envs/rllib/lib/python3.11/site-packages/ray/data/_internal/planner/plan_udf_map_op.py\", line 220, in _validate_row_output\n",
      "    raise ValueError(\n",
      "ValueError: Error validating 302500: Standalone Python objects are not allowed in Ray 2.5. To return Python objects from map(), wrap them in a dict, e.g., return `{'item': item}` instead of just `item`.\n",
      "2024-01-30 13:18:58,322\tERROR worker.py:406 -- Unhandled error (suppress with 'RAY_IGNORE_UNHANDLED_ERRORS=1'): \u001b[36mray::Map(<lambda>)()\u001b[39m (pid=31609, ip=127.0.0.1)\n",
      "  File \"/Users/sbrewer/anaconda3/envs/rllib/lib/python3.11/site-packages/ray/data/_internal/execution/operators/map_operator.py\", line 416, in _map_task\n",
      "    for b_out in map_transformer.apply_transform(iter(blocks), ctx):\n",
      "  File \"/Users/sbrewer/anaconda3/envs/rllib/lib/python3.11/site-packages/ray/data/_internal/execution/operators/map_transformer.py\", line 371, in __call__\n",
      "    for data in iter:\n",
      "  File \"/Users/sbrewer/anaconda3/envs/rllib/lib/python3.11/site-packages/ray/data/_internal/execution/operators/map_transformer.py\", line 196, in __call__\n",
      "    yield from self._row_fn(input, ctx)\n",
      "  File \"/Users/sbrewer/anaconda3/envs/rllib/lib/python3.11/site-packages/ray/data/_internal/planner/plan_udf_map_op.py\", line 235, in transform_fn\n",
      "    _validate_row_output(out_row)\n",
      "  File \"/Users/sbrewer/anaconda3/envs/rllib/lib/python3.11/site-packages/ray/data/_internal/planner/plan_udf_map_op.py\", line 220, in _validate_row_output\n",
      "    raise ValueError(\n",
      "ValueError: Error validating 62500: Standalone Python objects are not allowed in Ray 2.5. To return Python objects from map(), wrap them in a dict, e.g., return `{'item': item}` instead of just `item`.\n",
      "2024-01-30 13:18:58,324\tERROR worker.py:406 -- Unhandled error (suppress with 'RAY_IGNORE_UNHANDLED_ERRORS=1'): \u001b[36mray::Map(<lambda>)()\u001b[39m (pid=31603, ip=127.0.0.1)\n",
      "  File \"/Users/sbrewer/anaconda3/envs/rllib/lib/python3.11/site-packages/ray/data/_internal/execution/operators/map_operator.py\", line 416, in _map_task\n",
      "    for b_out in map_transformer.apply_transform(iter(blocks), ctx):\n",
      "  File \"/Users/sbrewer/anaconda3/envs/rllib/lib/python3.11/site-packages/ray/data/_internal/execution/operators/map_transformer.py\", line 371, in __call__\n",
      "    for data in iter:\n",
      "  File \"/Users/sbrewer/anaconda3/envs/rllib/lib/python3.11/site-packages/ray/data/_internal/execution/operators/map_transformer.py\", line 196, in __call__\n",
      "    yield from self._row_fn(input, ctx)\n",
      "  File \"/Users/sbrewer/anaconda3/envs/rllib/lib/python3.11/site-packages/ray/data/_internal/planner/plan_udf_map_op.py\", line 235, in transform_fn\n",
      "    _validate_row_output(out_row)\n",
      "  File \"/Users/sbrewer/anaconda3/envs/rllib/lib/python3.11/site-packages/ray/data/_internal/planner/plan_udf_map_op.py\", line 220, in _validate_row_output\n",
      "    raise ValueError(\n",
      "ValueError: Error validating 160000: Standalone Python objects are not allowed in Ray 2.5. To return Python objects from map(), wrap them in a dict, e.g., return `{'item': item}` instead of just `item`.\n",
      "2024-01-30 13:18:58,325\tERROR worker.py:406 -- Unhandled error (suppress with 'RAY_IGNORE_UNHANDLED_ERRORS=1'): \u001b[36mray::Map(<lambda>)()\u001b[39m (pid=31608, ip=127.0.0.1)\n",
      "  File \"/Users/sbrewer/anaconda3/envs/rllib/lib/python3.11/site-packages/ray/data/_internal/execution/operators/map_operator.py\", line 416, in _map_task\n",
      "    for b_out in map_transformer.apply_transform(iter(blocks), ctx):\n",
      "  File \"/Users/sbrewer/anaconda3/envs/rllib/lib/python3.11/site-packages/ray/data/_internal/execution/operators/map_transformer.py\", line 371, in __call__\n",
      "    for data in iter:\n",
      "  File \"/Users/sbrewer/anaconda3/envs/rllib/lib/python3.11/site-packages/ray/data/_internal/execution/operators/map_transformer.py\", line 196, in __call__\n",
      "    yield from self._row_fn(input, ctx)\n",
      "  File \"/Users/sbrewer/anaconda3/envs/rllib/lib/python3.11/site-packages/ray/data/_internal/planner/plan_udf_map_op.py\", line 235, in transform_fn\n",
      "    _validate_row_output(out_row)\n",
      "  File \"/Users/sbrewer/anaconda3/envs/rllib/lib/python3.11/site-packages/ray/data/_internal/planner/plan_udf_map_op.py\", line 220, in _validate_row_output\n",
      "    raise ValueError(\n",
      "ValueError: Error validating 10000: Standalone Python objects are not allowed in Ray 2.5. To return Python objects from map(), wrap them in a dict, e.g., return `{'item': item}` instead of just `item`.\n"
     ]
    }
   ],
   "source": [
    "squares.take(10)"
   ]
  },
  {
   "cell_type": "code",
   "execution_count": 5,
   "id": "ce0768cf",
   "metadata": {},
   "outputs": [
    {
     "name": "stderr",
     "output_type": "stream",
     "text": [
      "2024-01-30 13:17:57,633\tINFO streaming_executor.py:104 -- Executing DAG InputDataBuffer[Input] -> TaskPoolMapOperator[Map(<lambda>)->Filter(<lambda>)]\n",
      "2024-01-30 13:17:57,634\tINFO streaming_executor.py:105 -- Execution config: ExecutionOptions(resource_limits=ExecutionResources(cpu=None, gpu=None, object_store_memory=None), locality_with_output=False, preserve_order=False, actor_locality_enabled=True, verbose_progress=False)\n",
      "2024-01-30 13:17:57,635\tINFO streaming_executor.py:107 -- Tip: For detailed progress reporting, run `ray.data.DataContext.get_current().execution_options.verbose_progress = True`\n"
     ]
    },
    {
     "data": {
      "application/vnd.jupyter.widget-view+json": {
       "model_id": "",
       "version_major": 2,
       "version_minor": 0
      },
      "text/plain": [
       "Running 0:   0%|          | 0/200 [00:00<?, ?it/s]"
      ]
     },
     "metadata": {},
     "output_type": "display_data"
    },
    {
     "ename": "RayTaskError(ValueError)",
     "evalue": "\u001b[36mray::Map(<lambda>)->Filter(<lambda>)()\u001b[39m (pid=31612, ip=127.0.0.1)\n  File \"/Users/sbrewer/anaconda3/envs/rllib/lib/python3.11/site-packages/ray/data/_internal/execution/operators/map_operator.py\", line 416, in _map_task\n    for b_out in map_transformer.apply_transform(iter(blocks), ctx):\n  File \"/Users/sbrewer/anaconda3/envs/rllib/lib/python3.11/site-packages/ray/data/_internal/execution/operators/map_transformer.py\", line 371, in __call__\n    for data in iter:\n  File \"/Users/sbrewer/anaconda3/envs/rllib/lib/python3.11/site-packages/ray/data/_internal/execution/operators/map_transformer.py\", line 196, in __call__\n    yield from self._row_fn(input, ctx)\n  File \"/Users/sbrewer/anaconda3/envs/rllib/lib/python3.11/site-packages/ray/data/_internal/planner/plan_udf_map_op.py\", line 257, in transform_fn\n    for row in rows:\n  File \"/Users/sbrewer/anaconda3/envs/rllib/lib/python3.11/site-packages/ray/data/_internal/execution/operators/map_transformer.py\", line 248, in __call__\n    for block in blocks:\n  File \"/Users/sbrewer/anaconda3/envs/rllib/lib/python3.11/site-packages/ray/data/_internal/execution/operators/map_transformer.py\", line 371, in __call__\n    for data in iter:\n  File \"/Users/sbrewer/anaconda3/envs/rllib/lib/python3.11/site-packages/ray/data/_internal/execution/operators/map_transformer.py\", line 196, in __call__\n    yield from self._row_fn(input, ctx)\n  File \"/Users/sbrewer/anaconda3/envs/rllib/lib/python3.11/site-packages/ray/data/_internal/planner/plan_udf_map_op.py\", line 235, in transform_fn\n    _validate_row_output(out_row)\n  File \"/Users/sbrewer/anaconda3/envs/rllib/lib/python3.11/site-packages/ray/data/_internal/planner/plan_udf_map_op.py\", line 220, in _validate_row_output\n    raise ValueError(\nValueError: Error validating 0: Standalone Python objects are not allowed in Ray 2.5. To return Python objects from map(), wrap them in a dict, e.g., return `{'item': item}` instead of just `item`.",
     "output_type": "error",
     "traceback": [
      "\u001b[0;31m---------------------------------------------------------------------------\u001b[0m",
      "\u001b[0;31mObjectRefStreamEndOfStreamError\u001b[0m           Traceback (most recent call last)",
      "File \u001b[0;32mpython/ray/_raylet.pyx:347\u001b[0m, in \u001b[0;36mray._raylet.StreamingObjectRefGenerator._next_sync\u001b[0;34m()\u001b[0m\n",
      "File \u001b[0;32mpython/ray/_raylet.pyx:4643\u001b[0m, in \u001b[0;36mray._raylet.CoreWorker.try_read_next_object_ref_stream\u001b[0;34m()\u001b[0m\n",
      "File \u001b[0;32mpython/ray/_raylet.pyx:447\u001b[0m, in \u001b[0;36mray._raylet.check_status\u001b[0;34m()\u001b[0m\n",
      "\u001b[0;31mObjectRefStreamEndOfStreamError\u001b[0m: ",
      "\nDuring handling of the above exception, another exception occurred:\n",
      "\u001b[0;31mStopIteration\u001b[0m                             Traceback (most recent call last)",
      "File \u001b[0;32m~/anaconda3/envs/rllib/lib/python3.11/site-packages/ray/data/_internal/execution/interfaces/physical_operator.py:80\u001b[0m, in \u001b[0;36mDataOpTask.on_data_ready\u001b[0;34m(self, max_blocks_to_read)\u001b[0m\n\u001b[1;32m     79\u001b[0m \u001b[38;5;28;01mtry\u001b[39;00m:\n\u001b[0;32m---> 80\u001b[0m     meta \u001b[38;5;241m=\u001b[39m ray\u001b[38;5;241m.\u001b[39mget(\u001b[38;5;28mnext\u001b[39m(\u001b[38;5;28mself\u001b[39m\u001b[38;5;241m.\u001b[39m_streaming_gen))\n\u001b[1;32m     81\u001b[0m \u001b[38;5;28;01mexcept\u001b[39;00m \u001b[38;5;167;01mStopIteration\u001b[39;00m:\n\u001b[1;32m     82\u001b[0m     \u001b[38;5;66;03m# The generator should always yield 2 values (block and metadata)\u001b[39;00m\n\u001b[1;32m     83\u001b[0m     \u001b[38;5;66;03m# each time. If we get a StopIteration here, it means an error\u001b[39;00m\n\u001b[0;32m   (...)\u001b[0m\n\u001b[1;32m     86\u001b[0m     \u001b[38;5;66;03m# TODO(hchen): Ray Core should have a better interface for\u001b[39;00m\n\u001b[1;32m     87\u001b[0m     \u001b[38;5;66;03m# detecting and obtaining the exception.\u001b[39;00m\n",
      "File \u001b[0;32mpython/ray/_raylet.pyx:302\u001b[0m, in \u001b[0;36mray._raylet.StreamingObjectRefGenerator.__next__\u001b[0;34m()\u001b[0m\n",
      "File \u001b[0;32mpython/ray/_raylet.pyx:353\u001b[0m, in \u001b[0;36mray._raylet.StreamingObjectRefGenerator._next_sync\u001b[0;34m()\u001b[0m\n",
      "\u001b[0;31mStopIteration\u001b[0m: ",
      "\nDuring handling of the above exception, another exception occurred:\n",
      "\u001b[0;31mRayTaskError(ValueError)\u001b[0m                  Traceback (most recent call last)",
      "Cell \u001b[0;32mIn[5], line 2\u001b[0m\n\u001b[1;32m      1\u001b[0m evens \u001b[38;5;241m=\u001b[39m squares\u001b[38;5;241m.\u001b[39mfilter(\u001b[38;5;28;01mlambda\u001b[39;00m x: x \u001b[38;5;241m%\u001b[39m \u001b[38;5;241m2\u001b[39m \u001b[38;5;241m==\u001b[39m \u001b[38;5;241m0\u001b[39m)\n\u001b[0;32m----> 2\u001b[0m evens\u001b[38;5;241m.\u001b[39mcount()\n",
      "File \u001b[0;32m~/anaconda3/envs/rllib/lib/python3.11/site-packages/ray/data/dataset.py:2501\u001b[0m, in \u001b[0;36mDataset.count\u001b[0;34m(self)\u001b[0m\n\u001b[1;32m   2495\u001b[0m     \u001b[38;5;28;01mreturn\u001b[39;00m meta_count\n\u001b[1;32m   2497\u001b[0m get_num_rows \u001b[38;5;241m=\u001b[39m cached_remote_fn(_get_num_rows)\n\u001b[1;32m   2499\u001b[0m \u001b[38;5;28;01mreturn\u001b[39;00m \u001b[38;5;28msum\u001b[39m(\n\u001b[1;32m   2500\u001b[0m     ray\u001b[38;5;241m.\u001b[39mget(\n\u001b[0;32m-> 2501\u001b[0m         [get_num_rows\u001b[38;5;241m.\u001b[39mremote(block) \u001b[38;5;28;01mfor\u001b[39;00m block \u001b[38;5;129;01min\u001b[39;00m \u001b[38;5;28mself\u001b[39m\u001b[38;5;241m.\u001b[39mget_internal_block_refs()]\n\u001b[1;32m   2502\u001b[0m     )\n\u001b[1;32m   2503\u001b[0m )\n",
      "File \u001b[0;32m~/anaconda3/envs/rllib/lib/python3.11/site-packages/ray/data/dataset.py:4590\u001b[0m, in \u001b[0;36mDataset.get_internal_block_refs\u001b[0;34m(self)\u001b[0m\n\u001b[1;32m   4571\u001b[0m \u001b[38;5;129m@ConsumptionAPI\u001b[39m(pattern\u001b[38;5;241m=\u001b[39m\u001b[38;5;124m\"\u001b[39m\u001b[38;5;124mTime complexity:\u001b[39m\u001b[38;5;124m\"\u001b[39m)\n\u001b[1;32m   4572\u001b[0m \u001b[38;5;129m@DeveloperAPI\u001b[39m\n\u001b[1;32m   4573\u001b[0m \u001b[38;5;28;01mdef\u001b[39;00m \u001b[38;5;21mget_internal_block_refs\u001b[39m(\u001b[38;5;28mself\u001b[39m) \u001b[38;5;241m-\u001b[39m\u001b[38;5;241m>\u001b[39m List[ObjectRef[Block]]:\n\u001b[1;32m   4574\u001b[0m \u001b[38;5;250m    \u001b[39m\u001b[38;5;124;03m\"\"\"Get a list of references to the underlying blocks of this dataset.\u001b[39;00m\n\u001b[1;32m   4575\u001b[0m \n\u001b[1;32m   4576\u001b[0m \u001b[38;5;124;03m    This function can be used for zero-copy access to the data. It blocks\u001b[39;00m\n\u001b[0;32m   (...)\u001b[0m\n\u001b[1;32m   4588\u001b[0m \u001b[38;5;124;03m        A list of references to this dataset's blocks.\u001b[39;00m\n\u001b[1;32m   4589\u001b[0m \u001b[38;5;124;03m    \"\"\"\u001b[39;00m\n\u001b[0;32m-> 4590\u001b[0m     blocks \u001b[38;5;241m=\u001b[39m \u001b[38;5;28mself\u001b[39m\u001b[38;5;241m.\u001b[39m_plan\u001b[38;5;241m.\u001b[39mexecute()\u001b[38;5;241m.\u001b[39mget_blocks()\n\u001b[1;32m   4591\u001b[0m     \u001b[38;5;28mself\u001b[39m\u001b[38;5;241m.\u001b[39m_synchronize_progress_bar()\n\u001b[1;32m   4592\u001b[0m     \u001b[38;5;28;01mreturn\u001b[39;00m blocks\n",
      "File \u001b[0;32m~/anaconda3/envs/rllib/lib/python3.11/site-packages/ray/data/_internal/plan.py:599\u001b[0m, in \u001b[0;36mExecutionPlan.execute\u001b[0;34m(self, allow_clear_input_blocks, force_read, preserve_order)\u001b[0m\n\u001b[1;32m    594\u001b[0m metrics_tag \u001b[38;5;241m=\u001b[39m (\u001b[38;5;28mself\u001b[39m\u001b[38;5;241m.\u001b[39m_dataset_name \u001b[38;5;129;01mor\u001b[39;00m \u001b[38;5;124m\"\u001b[39m\u001b[38;5;124m\"\u001b[39m) \u001b[38;5;241m+\u001b[39m \u001b[38;5;28mself\u001b[39m\u001b[38;5;241m.\u001b[39m_dataset_uuid\n\u001b[1;32m    595\u001b[0m executor \u001b[38;5;241m=\u001b[39m StreamingExecutor(\n\u001b[1;32m    596\u001b[0m     copy\u001b[38;5;241m.\u001b[39mdeepcopy(context\u001b[38;5;241m.\u001b[39mexecution_options),\n\u001b[1;32m    597\u001b[0m     metrics_tag,\n\u001b[1;32m    598\u001b[0m )\n\u001b[0;32m--> 599\u001b[0m blocks \u001b[38;5;241m=\u001b[39m execute_to_legacy_block_list(\n\u001b[1;32m    600\u001b[0m     executor,\n\u001b[1;32m    601\u001b[0m     \u001b[38;5;28mself\u001b[39m,\n\u001b[1;32m    602\u001b[0m     allow_clear_input_blocks\u001b[38;5;241m=\u001b[39mallow_clear_input_blocks,\n\u001b[1;32m    603\u001b[0m     dataset_uuid\u001b[38;5;241m=\u001b[39m\u001b[38;5;28mself\u001b[39m\u001b[38;5;241m.\u001b[39m_dataset_uuid,\n\u001b[1;32m    604\u001b[0m     preserve_order\u001b[38;5;241m=\u001b[39mpreserve_order,\n\u001b[1;32m    605\u001b[0m )\n\u001b[1;32m    606\u001b[0m \u001b[38;5;66;03m# TODO(ekl) we shouldn't need to set this in the future once we move\u001b[39;00m\n\u001b[1;32m    607\u001b[0m \u001b[38;5;66;03m# to a fully lazy execution model, unless .materialize() is used. Th\u001b[39;00m\n\u001b[1;32m    608\u001b[0m \u001b[38;5;66;03m# reason we need it right now is since the user may iterate over a\u001b[39;00m\n\u001b[1;32m    609\u001b[0m \u001b[38;5;66;03m# Dataset multiple times after fully executing it once.\u001b[39;00m\n\u001b[1;32m    610\u001b[0m \u001b[38;5;28;01mif\u001b[39;00m \u001b[38;5;129;01mnot\u001b[39;00m \u001b[38;5;28mself\u001b[39m\u001b[38;5;241m.\u001b[39m_run_by_consumer:\n",
      "File \u001b[0;32m~/anaconda3/envs/rllib/lib/python3.11/site-packages/ray/data/_internal/execution/legacy_compat.py:119\u001b[0m, in \u001b[0;36mexecute_to_legacy_block_list\u001b[0;34m(executor, plan, allow_clear_input_blocks, dataset_uuid, preserve_order)\u001b[0m\n\u001b[1;32m    112\u001b[0m dag, stats \u001b[38;5;241m=\u001b[39m _get_execution_dag(\n\u001b[1;32m    113\u001b[0m     executor,\n\u001b[1;32m    114\u001b[0m     plan,\n\u001b[1;32m    115\u001b[0m     allow_clear_input_blocks,\n\u001b[1;32m    116\u001b[0m     preserve_order,\n\u001b[1;32m    117\u001b[0m )\n\u001b[1;32m    118\u001b[0m bundles \u001b[38;5;241m=\u001b[39m executor\u001b[38;5;241m.\u001b[39mexecute(dag, initial_stats\u001b[38;5;241m=\u001b[39mstats)\n\u001b[0;32m--> 119\u001b[0m block_list \u001b[38;5;241m=\u001b[39m _bundles_to_block_list(bundles)\n\u001b[1;32m    120\u001b[0m \u001b[38;5;66;03m# Set the stats UUID after execution finishes.\u001b[39;00m\n\u001b[1;32m    121\u001b[0m _set_stats_uuid_recursive(executor\u001b[38;5;241m.\u001b[39mget_stats(), dataset_uuid)\n",
      "File \u001b[0;32m~/anaconda3/envs/rllib/lib/python3.11/site-packages/ray/data/_internal/execution/legacy_compat.py:356\u001b[0m, in \u001b[0;36m_bundles_to_block_list\u001b[0;34m(bundles)\u001b[0m\n\u001b[1;32m    354\u001b[0m blocks, metadata \u001b[38;5;241m=\u001b[39m [], []\n\u001b[1;32m    355\u001b[0m owns_blocks \u001b[38;5;241m=\u001b[39m \u001b[38;5;28;01mTrue\u001b[39;00m\n\u001b[0;32m--> 356\u001b[0m \u001b[38;5;28;01mfor\u001b[39;00m ref_bundle \u001b[38;5;129;01min\u001b[39;00m bundles:\n\u001b[1;32m    357\u001b[0m     \u001b[38;5;28;01mif\u001b[39;00m \u001b[38;5;129;01mnot\u001b[39;00m ref_bundle\u001b[38;5;241m.\u001b[39mowns_blocks:\n\u001b[1;32m    358\u001b[0m         owns_blocks \u001b[38;5;241m=\u001b[39m \u001b[38;5;28;01mFalse\u001b[39;00m\n",
      "File \u001b[0;32m~/anaconda3/envs/rllib/lib/python3.11/site-packages/ray/data/_internal/execution/interfaces/executor.py:37\u001b[0m, in \u001b[0;36mOutputIterator.__next__\u001b[0;34m(self)\u001b[0m\n\u001b[1;32m     36\u001b[0m \u001b[38;5;28;01mdef\u001b[39;00m \u001b[38;5;21m__next__\u001b[39m(\u001b[38;5;28mself\u001b[39m) \u001b[38;5;241m-\u001b[39m\u001b[38;5;241m>\u001b[39m RefBundle:\n\u001b[0;32m---> 37\u001b[0m     \u001b[38;5;28;01mreturn\u001b[39;00m \u001b[38;5;28mself\u001b[39m\u001b[38;5;241m.\u001b[39mget_next()\n",
      "File \u001b[0;32m~/anaconda3/envs/rllib/lib/python3.11/site-packages/ray/data/_internal/execution/streaming_executor.py:141\u001b[0m, in \u001b[0;36mStreamingExecutor.execute.<locals>.StreamIterator.get_next\u001b[0;34m(self, output_split_idx)\u001b[0m\n\u001b[1;32m    139\u001b[0m         \u001b[38;5;28;01mraise\u001b[39;00m \u001b[38;5;167;01mStopIteration\u001b[39;00m\n\u001b[1;32m    140\u001b[0m \u001b[38;5;28;01melif\u001b[39;00m \u001b[38;5;28misinstance\u001b[39m(item, \u001b[38;5;167;01mException\u001b[39;00m):\n\u001b[0;32m--> 141\u001b[0m     \u001b[38;5;28;01mraise\u001b[39;00m item\n\u001b[1;32m    142\u001b[0m \u001b[38;5;28;01melse\u001b[39;00m:\n\u001b[1;32m    143\u001b[0m     \u001b[38;5;66;03m# Otherwise return a concrete RefBundle.\u001b[39;00m\n\u001b[1;32m    144\u001b[0m     \u001b[38;5;28;01mif\u001b[39;00m \u001b[38;5;28mself\u001b[39m\u001b[38;5;241m.\u001b[39m_outer\u001b[38;5;241m.\u001b[39m_global_info:\n",
      "File \u001b[0;32m~/anaconda3/envs/rllib/lib/python3.11/site-packages/ray/data/_internal/execution/streaming_executor.py:201\u001b[0m, in \u001b[0;36mStreamingExecutor.run\u001b[0;34m(self)\u001b[0m\n\u001b[1;32m    195\u001b[0m \u001b[38;5;250m\u001b[39m\u001b[38;5;124;03m\"\"\"Run the control loop in a helper thread.\u001b[39;00m\n\u001b[1;32m    196\u001b[0m \n\u001b[1;32m    197\u001b[0m \u001b[38;5;124;03mResults are returned via the output node's outqueue.\u001b[39;00m\n\u001b[1;32m    198\u001b[0m \u001b[38;5;124;03m\"\"\"\u001b[39;00m\n\u001b[1;32m    199\u001b[0m \u001b[38;5;28;01mtry\u001b[39;00m:\n\u001b[1;32m    200\u001b[0m     \u001b[38;5;66;03m# Run scheduling loop until complete.\u001b[39;00m\n\u001b[0;32m--> 201\u001b[0m     \u001b[38;5;28;01mwhile\u001b[39;00m \u001b[38;5;28mself\u001b[39m\u001b[38;5;241m.\u001b[39m_scheduling_loop_step(\u001b[38;5;28mself\u001b[39m\u001b[38;5;241m.\u001b[39m_topology) \u001b[38;5;129;01mand\u001b[39;00m \u001b[38;5;129;01mnot\u001b[39;00m \u001b[38;5;28mself\u001b[39m\u001b[38;5;241m.\u001b[39m_shutdown:\n\u001b[1;32m    202\u001b[0m         \u001b[38;5;28;01mpass\u001b[39;00m\n\u001b[1;32m    203\u001b[0m \u001b[38;5;28;01mexcept\u001b[39;00m \u001b[38;5;167;01mException\u001b[39;00m \u001b[38;5;28;01mas\u001b[39;00m e:\n\u001b[1;32m    204\u001b[0m     \u001b[38;5;66;03m# Propagate it to the result iterator.\u001b[39;00m\n",
      "File \u001b[0;32m~/anaconda3/envs/rllib/lib/python3.11/site-packages/ray/data/_internal/execution/streaming_executor.py:252\u001b[0m, in \u001b[0;36mStreamingExecutor._scheduling_loop_step\u001b[0;34m(self, topology)\u001b[0m\n\u001b[1;32m    247\u001b[0m     logger\u001b[38;5;241m.\u001b[39mget_logger()\u001b[38;5;241m.\u001b[39minfo(\u001b[38;5;124m\"\u001b[39m\u001b[38;5;124mScheduling loop step...\u001b[39m\u001b[38;5;124m\"\u001b[39m)\n\u001b[1;32m    249\u001b[0m \u001b[38;5;66;03m# Note: calling process_completed_tasks() is expensive since it incurs\u001b[39;00m\n\u001b[1;32m    250\u001b[0m \u001b[38;5;66;03m# ray.wait() overhead, so make sure to allow multiple dispatch per call for\u001b[39;00m\n\u001b[1;32m    251\u001b[0m \u001b[38;5;66;03m# greater parallelism.\u001b[39;00m\n\u001b[0;32m--> 252\u001b[0m process_completed_tasks(topology, \u001b[38;5;28mself\u001b[39m\u001b[38;5;241m.\u001b[39m_backpressure_policies)\n\u001b[1;32m    254\u001b[0m \u001b[38;5;66;03m# Dispatch as many operators as we can for completed tasks.\u001b[39;00m\n\u001b[1;32m    255\u001b[0m limits \u001b[38;5;241m=\u001b[39m \u001b[38;5;28mself\u001b[39m\u001b[38;5;241m.\u001b[39m_get_or_refresh_resource_limits()\n",
      "File \u001b[0;32m~/anaconda3/envs/rllib/lib/python3.11/site-packages/ray/data/_internal/execution/streaming_executor_state.py:365\u001b[0m, in \u001b[0;36mprocess_completed_tasks\u001b[0;34m(topology, backpressure_policies)\u001b[0m\n\u001b[1;32m    363\u001b[0m state, task \u001b[38;5;241m=\u001b[39m active_tasks\u001b[38;5;241m.\u001b[39mpop(ref)\n\u001b[1;32m    364\u001b[0m \u001b[38;5;28;01mif\u001b[39;00m \u001b[38;5;28misinstance\u001b[39m(task, DataOpTask):\n\u001b[0;32m--> 365\u001b[0m     num_blocks_read \u001b[38;5;241m=\u001b[39m task\u001b[38;5;241m.\u001b[39mon_data_ready(\n\u001b[1;32m    366\u001b[0m         max_blocks_to_read_per_op\u001b[38;5;241m.\u001b[39mget(state, \u001b[38;5;28;01mNone\u001b[39;00m)\n\u001b[1;32m    367\u001b[0m     )\n\u001b[1;32m    368\u001b[0m     \u001b[38;5;28;01mif\u001b[39;00m state \u001b[38;5;129;01min\u001b[39;00m max_blocks_to_read_per_op:\n\u001b[1;32m    369\u001b[0m         max_blocks_to_read_per_op[state] \u001b[38;5;241m-\u001b[39m\u001b[38;5;241m=\u001b[39m num_blocks_read\n",
      "File \u001b[0;32m~/anaconda3/envs/rllib/lib/python3.11/site-packages/ray/data/_internal/execution/interfaces/physical_operator.py:88\u001b[0m, in \u001b[0;36mDataOpTask.on_data_ready\u001b[0;34m(self, max_blocks_to_read)\u001b[0m\n\u001b[1;32m     80\u001b[0m     meta \u001b[38;5;241m=\u001b[39m ray\u001b[38;5;241m.\u001b[39mget(\u001b[38;5;28mnext\u001b[39m(\u001b[38;5;28mself\u001b[39m\u001b[38;5;241m.\u001b[39m_streaming_gen))\n\u001b[1;32m     81\u001b[0m \u001b[38;5;28;01mexcept\u001b[39;00m \u001b[38;5;167;01mStopIteration\u001b[39;00m:\n\u001b[1;32m     82\u001b[0m     \u001b[38;5;66;03m# The generator should always yield 2 values (block and metadata)\u001b[39;00m\n\u001b[1;32m     83\u001b[0m     \u001b[38;5;66;03m# each time. If we get a StopIteration here, it means an error\u001b[39;00m\n\u001b[0;32m   (...)\u001b[0m\n\u001b[1;32m     86\u001b[0m     \u001b[38;5;66;03m# TODO(hchen): Ray Core should have a better interface for\u001b[39;00m\n\u001b[1;32m     87\u001b[0m     \u001b[38;5;66;03m# detecting and obtaining the exception.\u001b[39;00m\n\u001b[0;32m---> 88\u001b[0m     ex \u001b[38;5;241m=\u001b[39m ray\u001b[38;5;241m.\u001b[39mget(block_ref)\n\u001b[1;32m     89\u001b[0m     \u001b[38;5;28mself\u001b[39m\u001b[38;5;241m.\u001b[39m_task_done_callback()\n\u001b[1;32m     90\u001b[0m     \u001b[38;5;28;01mraise\u001b[39;00m ex\n",
      "File \u001b[0;32m~/anaconda3/envs/rllib/lib/python3.11/site-packages/ray/_private/auto_init_hook.py:24\u001b[0m, in \u001b[0;36mwrap_auto_init.<locals>.auto_init_wrapper\u001b[0;34m(*args, **kwargs)\u001b[0m\n\u001b[1;32m     21\u001b[0m \u001b[38;5;129m@wraps\u001b[39m(fn)\n\u001b[1;32m     22\u001b[0m \u001b[38;5;28;01mdef\u001b[39;00m \u001b[38;5;21mauto_init_wrapper\u001b[39m(\u001b[38;5;241m*\u001b[39margs, \u001b[38;5;241m*\u001b[39m\u001b[38;5;241m*\u001b[39mkwargs):\n\u001b[1;32m     23\u001b[0m     auto_init_ray()\n\u001b[0;32m---> 24\u001b[0m     \u001b[38;5;28;01mreturn\u001b[39;00m fn(\u001b[38;5;241m*\u001b[39margs, \u001b[38;5;241m*\u001b[39m\u001b[38;5;241m*\u001b[39mkwargs)\n",
      "File \u001b[0;32m~/anaconda3/envs/rllib/lib/python3.11/site-packages/ray/_private/client_mode_hook.py:103\u001b[0m, in \u001b[0;36mclient_mode_hook.<locals>.wrapper\u001b[0;34m(*args, **kwargs)\u001b[0m\n\u001b[1;32m    101\u001b[0m     \u001b[38;5;28;01mif\u001b[39;00m func\u001b[38;5;241m.\u001b[39m\u001b[38;5;18m__name__\u001b[39m \u001b[38;5;241m!=\u001b[39m \u001b[38;5;124m\"\u001b[39m\u001b[38;5;124minit\u001b[39m\u001b[38;5;124m\"\u001b[39m \u001b[38;5;129;01mor\u001b[39;00m is_client_mode_enabled_by_default:\n\u001b[1;32m    102\u001b[0m         \u001b[38;5;28;01mreturn\u001b[39;00m \u001b[38;5;28mgetattr\u001b[39m(ray, func\u001b[38;5;241m.\u001b[39m\u001b[38;5;18m__name__\u001b[39m)(\u001b[38;5;241m*\u001b[39margs, \u001b[38;5;241m*\u001b[39m\u001b[38;5;241m*\u001b[39mkwargs)\n\u001b[0;32m--> 103\u001b[0m \u001b[38;5;28;01mreturn\u001b[39;00m func(\u001b[38;5;241m*\u001b[39margs, \u001b[38;5;241m*\u001b[39m\u001b[38;5;241m*\u001b[39mkwargs)\n",
      "File \u001b[0;32m~/anaconda3/envs/rllib/lib/python3.11/site-packages/ray/_private/worker.py:2563\u001b[0m, in \u001b[0;36mget\u001b[0;34m(object_refs, timeout)\u001b[0m\n\u001b[1;32m   2561\u001b[0m     worker\u001b[38;5;241m.\u001b[39mcore_worker\u001b[38;5;241m.\u001b[39mdump_object_store_memory_usage()\n\u001b[1;32m   2562\u001b[0m \u001b[38;5;28;01mif\u001b[39;00m \u001b[38;5;28misinstance\u001b[39m(value, RayTaskError):\n\u001b[0;32m-> 2563\u001b[0m     \u001b[38;5;28;01mraise\u001b[39;00m value\u001b[38;5;241m.\u001b[39mas_instanceof_cause()\n\u001b[1;32m   2564\u001b[0m \u001b[38;5;28;01melse\u001b[39;00m:\n\u001b[1;32m   2565\u001b[0m     \u001b[38;5;28;01mraise\u001b[39;00m value\n",
      "\u001b[0;31mRayTaskError(ValueError)\u001b[0m: \u001b[36mray::Map(<lambda>)->Filter(<lambda>)()\u001b[39m (pid=31612, ip=127.0.0.1)\n  File \"/Users/sbrewer/anaconda3/envs/rllib/lib/python3.11/site-packages/ray/data/_internal/execution/operators/map_operator.py\", line 416, in _map_task\n    for b_out in map_transformer.apply_transform(iter(blocks), ctx):\n  File \"/Users/sbrewer/anaconda3/envs/rllib/lib/python3.11/site-packages/ray/data/_internal/execution/operators/map_transformer.py\", line 371, in __call__\n    for data in iter:\n  File \"/Users/sbrewer/anaconda3/envs/rllib/lib/python3.11/site-packages/ray/data/_internal/execution/operators/map_transformer.py\", line 196, in __call__\n    yield from self._row_fn(input, ctx)\n  File \"/Users/sbrewer/anaconda3/envs/rllib/lib/python3.11/site-packages/ray/data/_internal/planner/plan_udf_map_op.py\", line 257, in transform_fn\n    for row in rows:\n  File \"/Users/sbrewer/anaconda3/envs/rllib/lib/python3.11/site-packages/ray/data/_internal/execution/operators/map_transformer.py\", line 248, in __call__\n    for block in blocks:\n  File \"/Users/sbrewer/anaconda3/envs/rllib/lib/python3.11/site-packages/ray/data/_internal/execution/operators/map_transformer.py\", line 371, in __call__\n    for data in iter:\n  File \"/Users/sbrewer/anaconda3/envs/rllib/lib/python3.11/site-packages/ray/data/_internal/execution/operators/map_transformer.py\", line 196, in __call__\n    yield from self._row_fn(input, ctx)\n  File \"/Users/sbrewer/anaconda3/envs/rllib/lib/python3.11/site-packages/ray/data/_internal/planner/plan_udf_map_op.py\", line 235, in transform_fn\n    _validate_row_output(out_row)\n  File \"/Users/sbrewer/anaconda3/envs/rllib/lib/python3.11/site-packages/ray/data/_internal/planner/plan_udf_map_op.py\", line 220, in _validate_row_output\n    raise ValueError(\nValueError: Error validating 0: Standalone Python objects are not allowed in Ray 2.5. To return Python objects from map(), wrap them in a dict, e.g., return `{'item': item}` instead of just `item`."
     ]
    },
    {
     "name": "stderr",
     "output_type": "stream",
     "text": [
      "2024-01-30 13:18:06,238\tERROR worker.py:406 -- Unhandled error (suppress with 'RAY_IGNORE_UNHANDLED_ERRORS=1'): \u001b[36mray::Map(<lambda>)->Filter(<lambda>)()\u001b[39m (pid=31602, ip=127.0.0.1)\n",
      "  File \"/Users/sbrewer/anaconda3/envs/rllib/lib/python3.11/site-packages/ray/data/_internal/execution/operators/map_operator.py\", line 416, in _map_task\n",
      "    for b_out in map_transformer.apply_transform(iter(blocks), ctx):\n",
      "  File \"/Users/sbrewer/anaconda3/envs/rllib/lib/python3.11/site-packages/ray/data/_internal/execution/operators/map_transformer.py\", line 371, in __call__\n",
      "    for data in iter:\n",
      "  File \"/Users/sbrewer/anaconda3/envs/rllib/lib/python3.11/site-packages/ray/data/_internal/execution/operators/map_transformer.py\", line 196, in __call__\n",
      "    yield from self._row_fn(input, ctx)\n",
      "  File \"/Users/sbrewer/anaconda3/envs/rllib/lib/python3.11/site-packages/ray/data/_internal/planner/plan_udf_map_op.py\", line 257, in transform_fn\n",
      "    for row in rows:\n",
      "  File \"/Users/sbrewer/anaconda3/envs/rllib/lib/python3.11/site-packages/ray/data/_internal/execution/operators/map_transformer.py\", line 248, in __call__\n",
      "    for block in blocks:\n",
      "  File \"/Users/sbrewer/anaconda3/envs/rllib/lib/python3.11/site-packages/ray/data/_internal/execution/operators/map_transformer.py\", line 371, in __call__\n",
      "    for data in iter:\n",
      "  File \"/Users/sbrewer/anaconda3/envs/rllib/lib/python3.11/site-packages/ray/data/_internal/execution/operators/map_transformer.py\", line 196, in __call__\n",
      "    yield from self._row_fn(input, ctx)\n",
      "  File \"/Users/sbrewer/anaconda3/envs/rllib/lib/python3.11/site-packages/ray/data/_internal/planner/plan_udf_map_op.py\", line 235, in transform_fn\n",
      "    _validate_row_output(out_row)\n",
      "  File \"/Users/sbrewer/anaconda3/envs/rllib/lib/python3.11/site-packages/ray/data/_internal/planner/plan_udf_map_op.py\", line 220, in _validate_row_output\n",
      "    raise ValueError(\n",
      "ValueError: Error validating 40000: Standalone Python objects are not allowed in Ray 2.5. To return Python objects from map(), wrap them in a dict, e.g., return `{'item': item}` instead of just `item`.\n",
      "2024-01-30 13:18:06,240\tERROR worker.py:406 -- Unhandled error (suppress with 'RAY_IGNORE_UNHANDLED_ERRORS=1'): \u001b[36mray::Map(<lambda>)->Filter(<lambda>)()\u001b[39m (pid=31606, ip=127.0.0.1)\n",
      "  File \"/Users/sbrewer/anaconda3/envs/rllib/lib/python3.11/site-packages/ray/data/_internal/execution/operators/map_operator.py\", line 416, in _map_task\n",
      "    for b_out in map_transformer.apply_transform(iter(blocks), ctx):\n",
      "  File \"/Users/sbrewer/anaconda3/envs/rllib/lib/python3.11/site-packages/ray/data/_internal/execution/operators/map_transformer.py\", line 371, in __call__\n",
      "    for data in iter:\n",
      "  File \"/Users/sbrewer/anaconda3/envs/rllib/lib/python3.11/site-packages/ray/data/_internal/execution/operators/map_transformer.py\", line 196, in __call__\n",
      "    yield from self._row_fn(input, ctx)\n",
      "  File \"/Users/sbrewer/anaconda3/envs/rllib/lib/python3.11/site-packages/ray/data/_internal/planner/plan_udf_map_op.py\", line 257, in transform_fn\n",
      "    for row in rows:\n",
      "  File \"/Users/sbrewer/anaconda3/envs/rllib/lib/python3.11/site-packages/ray/data/_internal/execution/operators/map_transformer.py\", line 248, in __call__\n",
      "    for block in blocks:\n",
      "  File \"/Users/sbrewer/anaconda3/envs/rllib/lib/python3.11/site-packages/ray/data/_internal/execution/operators/map_transformer.py\", line 371, in __call__\n",
      "    for data in iter:\n",
      "  File \"/Users/sbrewer/anaconda3/envs/rllib/lib/python3.11/site-packages/ray/data/_internal/execution/operators/map_transformer.py\", line 196, in __call__\n",
      "    yield from self._row_fn(input, ctx)\n",
      "  File \"/Users/sbrewer/anaconda3/envs/rllib/lib/python3.11/site-packages/ray/data/_internal/planner/plan_udf_map_op.py\", line 235, in transform_fn\n",
      "    _validate_row_output(out_row)\n",
      "  File \"/Users/sbrewer/anaconda3/envs/rllib/lib/python3.11/site-packages/ray/data/_internal/planner/plan_udf_map_op.py\", line 220, in _validate_row_output\n",
      "    raise ValueError(\n",
      "ValueError: Error validating 202500: Standalone Python objects are not allowed in Ray 2.5. To return Python objects from map(), wrap them in a dict, e.g., return `{'item': item}` instead of just `item`.\n",
      "2024-01-30 13:18:06,242\tERROR worker.py:406 -- Unhandled error (suppress with 'RAY_IGNORE_UNHANDLED_ERRORS=1'): \u001b[36mray::Map(<lambda>)->Filter(<lambda>)()\u001b[39m (pid=31605, ip=127.0.0.1)\n",
      "  File \"/Users/sbrewer/anaconda3/envs/rllib/lib/python3.11/site-packages/ray/data/_internal/execution/operators/map_operator.py\", line 416, in _map_task\n",
      "    for b_out in map_transformer.apply_transform(iter(blocks), ctx):\n",
      "  File \"/Users/sbrewer/anaconda3/envs/rllib/lib/python3.11/site-packages/ray/data/_internal/execution/operators/map_transformer.py\", line 371, in __call__\n",
      "    for data in iter:\n",
      "  File \"/Users/sbrewer/anaconda3/envs/rllib/lib/python3.11/site-packages/ray/data/_internal/execution/operators/map_transformer.py\", line 196, in __call__\n",
      "    yield from self._row_fn(input, ctx)\n",
      "  File \"/Users/sbrewer/anaconda3/envs/rllib/lib/python3.11/site-packages/ray/data/_internal/planner/plan_udf_map_op.py\", line 257, in transform_fn\n",
      "    for row in rows:\n",
      "  File \"/Users/sbrewer/anaconda3/envs/rllib/lib/python3.11/site-packages/ray/data/_internal/execution/operators/map_transformer.py\", line 248, in __call__\n",
      "    for block in blocks:\n",
      "  File \"/Users/sbrewer/anaconda3/envs/rllib/lib/python3.11/site-packages/ray/data/_internal/execution/operators/map_transformer.py\", line 371, in __call__\n",
      "    for data in iter:\n",
      "  File \"/Users/sbrewer/anaconda3/envs/rllib/lib/python3.11/site-packages/ray/data/_internal/execution/operators/map_transformer.py\", line 196, in __call__\n",
      "    yield from self._row_fn(input, ctx)\n",
      "  File \"/Users/sbrewer/anaconda3/envs/rllib/lib/python3.11/site-packages/ray/data/_internal/planner/plan_udf_map_op.py\", line 235, in transform_fn\n",
      "    _validate_row_output(out_row)\n",
      "  File \"/Users/sbrewer/anaconda3/envs/rllib/lib/python3.11/site-packages/ray/data/_internal/planner/plan_udf_map_op.py\", line 220, in _validate_row_output\n",
      "    raise ValueError(\n",
      "ValueError: Error validating 22500: Standalone Python objects are not allowed in Ray 2.5. To return Python objects from map(), wrap them in a dict, e.g., return `{'item': item}` instead of just `item`.\n",
      "2024-01-30 13:18:06,244\tERROR worker.py:406 -- Unhandled error (suppress with 'RAY_IGNORE_UNHANDLED_ERRORS=1'): \u001b[36mray::Map(<lambda>)->Filter(<lambda>)()\u001b[39m (pid=31607, ip=127.0.0.1)\n",
      "  File \"/Users/sbrewer/anaconda3/envs/rllib/lib/python3.11/site-packages/ray/data/_internal/execution/operators/map_operator.py\", line 416, in _map_task\n",
      "    for b_out in map_transformer.apply_transform(iter(blocks), ctx):\n",
      "  File \"/Users/sbrewer/anaconda3/envs/rllib/lib/python3.11/site-packages/ray/data/_internal/execution/operators/map_transformer.py\", line 371, in __call__\n",
      "    for data in iter:\n",
      "  File \"/Users/sbrewer/anaconda3/envs/rllib/lib/python3.11/site-packages/ray/data/_internal/execution/operators/map_transformer.py\", line 196, in __call__\n",
      "    yield from self._row_fn(input, ctx)\n",
      "  File \"/Users/sbrewer/anaconda3/envs/rllib/lib/python3.11/site-packages/ray/data/_internal/planner/plan_udf_map_op.py\", line 257, in transform_fn\n",
      "    for row in rows:\n",
      "  File \"/Users/sbrewer/anaconda3/envs/rllib/lib/python3.11/site-packages/ray/data/_internal/execution/operators/map_transformer.py\", line 248, in __call__\n",
      "    for block in blocks:\n",
      "  File \"/Users/sbrewer/anaconda3/envs/rllib/lib/python3.11/site-packages/ray/data/_internal/execution/operators/map_transformer.py\", line 371, in __call__\n",
      "    for data in iter:\n",
      "  File \"/Users/sbrewer/anaconda3/envs/rllib/lib/python3.11/site-packages/ray/data/_internal/execution/operators/map_transformer.py\", line 196, in __call__\n",
      "    yield from self._row_fn(input, ctx)\n",
      "  File \"/Users/sbrewer/anaconda3/envs/rllib/lib/python3.11/site-packages/ray/data/_internal/planner/plan_udf_map_op.py\", line 235, in transform_fn\n",
      "    _validate_row_output(out_row)\n",
      "  File \"/Users/sbrewer/anaconda3/envs/rllib/lib/python3.11/site-packages/ray/data/_internal/planner/plan_udf_map_op.py\", line 220, in _validate_row_output\n",
      "    raise ValueError(\n",
      "ValueError: Error validating 90000: Standalone Python objects are not allowed in Ray 2.5. To return Python objects from map(), wrap them in a dict, e.g., return `{'item': item}` instead of just `item`.\n"
     ]
    },
    {
     "name": "stderr",
     "output_type": "stream",
     "text": [
      "2024-01-30 13:18:06,246\tERROR worker.py:406 -- Unhandled error (suppress with 'RAY_IGNORE_UNHANDLED_ERRORS=1'): \u001b[36mray::Map(<lambda>)->Filter(<lambda>)()\u001b[39m (pid=31601, ip=127.0.0.1)\n",
      "  File \"/Users/sbrewer/anaconda3/envs/rllib/lib/python3.11/site-packages/ray/data/_internal/execution/operators/map_operator.py\", line 416, in _map_task\n",
      "    for b_out in map_transformer.apply_transform(iter(blocks), ctx):\n",
      "  File \"/Users/sbrewer/anaconda3/envs/rllib/lib/python3.11/site-packages/ray/data/_internal/execution/operators/map_transformer.py\", line 371, in __call__\n",
      "    for data in iter:\n",
      "  File \"/Users/sbrewer/anaconda3/envs/rllib/lib/python3.11/site-packages/ray/data/_internal/execution/operators/map_transformer.py\", line 196, in __call__\n",
      "    yield from self._row_fn(input, ctx)\n",
      "  File \"/Users/sbrewer/anaconda3/envs/rllib/lib/python3.11/site-packages/ray/data/_internal/planner/plan_udf_map_op.py\", line 257, in transform_fn\n",
      "    for row in rows:\n",
      "  File \"/Users/sbrewer/anaconda3/envs/rllib/lib/python3.11/site-packages/ray/data/_internal/execution/operators/map_transformer.py\", line 248, in __call__\n",
      "    for block in blocks:\n",
      "  File \"/Users/sbrewer/anaconda3/envs/rllib/lib/python3.11/site-packages/ray/data/_internal/execution/operators/map_transformer.py\", line 371, in __call__\n",
      "    for data in iter:\n",
      "  File \"/Users/sbrewer/anaconda3/envs/rllib/lib/python3.11/site-packages/ray/data/_internal/execution/operators/map_transformer.py\", line 196, in __call__\n",
      "    yield from self._row_fn(input, ctx)\n",
      "  File \"/Users/sbrewer/anaconda3/envs/rllib/lib/python3.11/site-packages/ray/data/_internal/planner/plan_udf_map_op.py\", line 235, in transform_fn\n",
      "    _validate_row_output(out_row)\n",
      "  File \"/Users/sbrewer/anaconda3/envs/rllib/lib/python3.11/site-packages/ray/data/_internal/planner/plan_udf_map_op.py\", line 220, in _validate_row_output\n",
      "    raise ValueError(\n",
      "ValueError: Error validating 250000: Standalone Python objects are not allowed in Ray 2.5. To return Python objects from map(), wrap them in a dict, e.g., return `{'item': item}` instead of just `item`.\n",
      "2024-01-30 13:18:06,248\tERROR worker.py:406 -- Unhandled error (suppress with 'RAY_IGNORE_UNHANDLED_ERRORS=1'): \u001b[36mray::Map(<lambda>)->Filter(<lambda>)()\u001b[39m (pid=31603, ip=127.0.0.1)\n",
      "  File \"/Users/sbrewer/anaconda3/envs/rllib/lib/python3.11/site-packages/ray/data/_internal/execution/operators/map_operator.py\", line 416, in _map_task\n",
      "    for b_out in map_transformer.apply_transform(iter(blocks), ctx):\n",
      "  File \"/Users/sbrewer/anaconda3/envs/rllib/lib/python3.11/site-packages/ray/data/_internal/execution/operators/map_transformer.py\", line 371, in __call__\n",
      "    for data in iter:\n",
      "  File \"/Users/sbrewer/anaconda3/envs/rllib/lib/python3.11/site-packages/ray/data/_internal/execution/operators/map_transformer.py\", line 196, in __call__\n",
      "    yield from self._row_fn(input, ctx)\n",
      "  File \"/Users/sbrewer/anaconda3/envs/rllib/lib/python3.11/site-packages/ray/data/_internal/planner/plan_udf_map_op.py\", line 257, in transform_fn\n",
      "    for row in rows:\n",
      "  File \"/Users/sbrewer/anaconda3/envs/rllib/lib/python3.11/site-packages/ray/data/_internal/execution/operators/map_transformer.py\", line 248, in __call__\n",
      "    for block in blocks:\n",
      "  File \"/Users/sbrewer/anaconda3/envs/rllib/lib/python3.11/site-packages/ray/data/_internal/execution/operators/map_transformer.py\", line 371, in __call__\n",
      "    for data in iter:\n",
      "  File \"/Users/sbrewer/anaconda3/envs/rllib/lib/python3.11/site-packages/ray/data/_internal/execution/operators/map_transformer.py\", line 196, in __call__\n",
      "    yield from self._row_fn(input, ctx)\n",
      "  File \"/Users/sbrewer/anaconda3/envs/rllib/lib/python3.11/site-packages/ray/data/_internal/planner/plan_udf_map_op.py\", line 235, in transform_fn\n",
      "    _validate_row_output(out_row)\n",
      "  File \"/Users/sbrewer/anaconda3/envs/rllib/lib/python3.11/site-packages/ray/data/_internal/planner/plan_udf_map_op.py\", line 220, in _validate_row_output\n",
      "    raise ValueError(\n",
      "ValueError: Error validating 62500: Standalone Python objects are not allowed in Ray 2.5. To return Python objects from map(), wrap them in a dict, e.g., return `{'item': item}` instead of just `item`.\n",
      "2024-01-30 13:18:06,250\tERROR worker.py:406 -- Unhandled error (suppress with 'RAY_IGNORE_UNHANDLED_ERRORS=1'): \u001b[36mray::Map(<lambda>)->Filter(<lambda>)()\u001b[39m (pid=31609, ip=127.0.0.1)\n",
      "  File \"/Users/sbrewer/anaconda3/envs/rllib/lib/python3.11/site-packages/ray/data/_internal/execution/operators/map_operator.py\", line 416, in _map_task\n",
      "    for b_out in map_transformer.apply_transform(iter(blocks), ctx):\n",
      "  File \"/Users/sbrewer/anaconda3/envs/rllib/lib/python3.11/site-packages/ray/data/_internal/execution/operators/map_transformer.py\", line 371, in __call__\n",
      "    for data in iter:\n",
      "  File \"/Users/sbrewer/anaconda3/envs/rllib/lib/python3.11/site-packages/ray/data/_internal/execution/operators/map_transformer.py\", line 196, in __call__\n",
      "    yield from self._row_fn(input, ctx)\n",
      "  File \"/Users/sbrewer/anaconda3/envs/rllib/lib/python3.11/site-packages/ray/data/_internal/planner/plan_udf_map_op.py\", line 257, in transform_fn\n",
      "    for row in rows:\n",
      "  File \"/Users/sbrewer/anaconda3/envs/rllib/lib/python3.11/site-packages/ray/data/_internal/execution/operators/map_transformer.py\", line 248, in __call__\n",
      "    for block in blocks:\n",
      "  File \"/Users/sbrewer/anaconda3/envs/rllib/lib/python3.11/site-packages/ray/data/_internal/execution/operators/map_transformer.py\", line 371, in __call__\n",
      "    for data in iter:\n",
      "  File \"/Users/sbrewer/anaconda3/envs/rllib/lib/python3.11/site-packages/ray/data/_internal/execution/operators/map_transformer.py\", line 196, in __call__\n",
      "    yield from self._row_fn(input, ctx)\n",
      "  File \"/Users/sbrewer/anaconda3/envs/rllib/lib/python3.11/site-packages/ray/data/_internal/planner/plan_udf_map_op.py\", line 235, in transform_fn\n",
      "    _validate_row_output(out_row)\n",
      "  File \"/Users/sbrewer/anaconda3/envs/rllib/lib/python3.11/site-packages/ray/data/_internal/planner/plan_udf_map_op.py\", line 220, in _validate_row_output\n",
      "    raise ValueError(\n",
      "ValueError: Error validating 122500: Standalone Python objects are not allowed in Ray 2.5. To return Python objects from map(), wrap them in a dict, e.g., return `{'item': item}` instead of just `item`.\n",
      "2024-01-30 13:18:06,252\tERROR worker.py:406 -- Unhandled error (suppress with 'RAY_IGNORE_UNHANDLED_ERRORS=1'): \u001b[36mray::Map(<lambda>)->Filter(<lambda>)()\u001b[39m (pid=31611, ip=127.0.0.1)\n",
      "  File \"/Users/sbrewer/anaconda3/envs/rllib/lib/python3.11/site-packages/ray/data/_internal/execution/operators/map_operator.py\", line 416, in _map_task\n",
      "    for b_out in map_transformer.apply_transform(iter(blocks), ctx):\n",
      "  File \"/Users/sbrewer/anaconda3/envs/rllib/lib/python3.11/site-packages/ray/data/_internal/execution/operators/map_transformer.py\", line 371, in __call__\n",
      "    for data in iter:\n",
      "  File \"/Users/sbrewer/anaconda3/envs/rllib/lib/python3.11/site-packages/ray/data/_internal/execution/operators/map_transformer.py\", line 196, in __call__\n",
      "    yield from self._row_fn(input, ctx)\n",
      "  File \"/Users/sbrewer/anaconda3/envs/rllib/lib/python3.11/site-packages/ray/data/_internal/planner/plan_udf_map_op.py\", line 257, in transform_fn\n",
      "    for row in rows:\n",
      "  File \"/Users/sbrewer/anaconda3/envs/rllib/lib/python3.11/site-packages/ray/data/_internal/execution/operators/map_transformer.py\", line 248, in __call__\n",
      "    for block in blocks:\n",
      "  File \"/Users/sbrewer/anaconda3/envs/rllib/lib/python3.11/site-packages/ray/data/_internal/execution/operators/map_transformer.py\", line 371, in __call__\n",
      "    for data in iter:\n",
      "  File \"/Users/sbrewer/anaconda3/envs/rllib/lib/python3.11/site-packages/ray/data/_internal/execution/operators/map_transformer.py\", line 196, in __call__\n",
      "    yield from self._row_fn(input, ctx)\n",
      "  File \"/Users/sbrewer/anaconda3/envs/rllib/lib/python3.11/site-packages/ray/data/_internal/planner/plan_udf_map_op.py\", line 235, in transform_fn\n",
      "    _validate_row_output(out_row)\n",
      "  File \"/Users/sbrewer/anaconda3/envs/rllib/lib/python3.11/site-packages/ray/data/_internal/planner/plan_udf_map_op.py\", line 220, in _validate_row_output\n",
      "    raise ValueError(\n",
      "ValueError: Error validating 2500: Standalone Python objects are not allowed in Ray 2.5. To return Python objects from map(), wrap them in a dict, e.g., return `{'item': item}` instead of just `item`.\n"
     ]
    },
    {
     "name": "stderr",
     "output_type": "stream",
     "text": [
      "2024-01-30 13:18:06,254\tERROR worker.py:406 -- Unhandled error (suppress with 'RAY_IGNORE_UNHANDLED_ERRORS=1'): \u001b[36mray::Map(<lambda>)->Filter(<lambda>)()\u001b[39m (pid=31608, ip=127.0.0.1)\n",
      "  File \"/Users/sbrewer/anaconda3/envs/rllib/lib/python3.11/site-packages/ray/data/_internal/execution/operators/map_operator.py\", line 416, in _map_task\n",
      "    for b_out in map_transformer.apply_transform(iter(blocks), ctx):\n",
      "  File \"/Users/sbrewer/anaconda3/envs/rllib/lib/python3.11/site-packages/ray/data/_internal/execution/operators/map_transformer.py\", line 371, in __call__\n",
      "    for data in iter:\n",
      "  File \"/Users/sbrewer/anaconda3/envs/rllib/lib/python3.11/site-packages/ray/data/_internal/execution/operators/map_transformer.py\", line 196, in __call__\n",
      "    yield from self._row_fn(input, ctx)\n",
      "  File \"/Users/sbrewer/anaconda3/envs/rllib/lib/python3.11/site-packages/ray/data/_internal/planner/plan_udf_map_op.py\", line 257, in transform_fn\n",
      "    for row in rows:\n",
      "  File \"/Users/sbrewer/anaconda3/envs/rllib/lib/python3.11/site-packages/ray/data/_internal/execution/operators/map_transformer.py\", line 248, in __call__\n",
      "    for block in blocks:\n",
      "  File \"/Users/sbrewer/anaconda3/envs/rllib/lib/python3.11/site-packages/ray/data/_internal/execution/operators/map_transformer.py\", line 371, in __call__\n",
      "    for data in iter:\n",
      "  File \"/Users/sbrewer/anaconda3/envs/rllib/lib/python3.11/site-packages/ray/data/_internal/execution/operators/map_transformer.py\", line 196, in __call__\n",
      "    yield from self._row_fn(input, ctx)\n",
      "  File \"/Users/sbrewer/anaconda3/envs/rllib/lib/python3.11/site-packages/ray/data/_internal/planner/plan_udf_map_op.py\", line 235, in transform_fn\n",
      "    _validate_row_output(out_row)\n",
      "  File \"/Users/sbrewer/anaconda3/envs/rllib/lib/python3.11/site-packages/ray/data/_internal/planner/plan_udf_map_op.py\", line 220, in _validate_row_output\n",
      "    raise ValueError(\n",
      "ValueError: Error validating 302500: Standalone Python objects are not allowed in Ray 2.5. To return Python objects from map(), wrap them in a dict, e.g., return `{'item': item}` instead of just `item`.\n",
      "2024-01-30 13:18:06,255\tERROR worker.py:406 -- Unhandled error (suppress with 'RAY_IGNORE_UNHANDLED_ERRORS=1'): \u001b[36mray::Map(<lambda>)->Filter(<lambda>)()\u001b[39m (pid=31604, ip=127.0.0.1)\n",
      "  File \"/Users/sbrewer/anaconda3/envs/rllib/lib/python3.11/site-packages/ray/data/_internal/execution/operators/map_operator.py\", line 416, in _map_task\n",
      "    for b_out in map_transformer.apply_transform(iter(blocks), ctx):\n",
      "  File \"/Users/sbrewer/anaconda3/envs/rllib/lib/python3.11/site-packages/ray/data/_internal/execution/operators/map_transformer.py\", line 371, in __call__\n",
      "    for data in iter:\n",
      "  File \"/Users/sbrewer/anaconda3/envs/rllib/lib/python3.11/site-packages/ray/data/_internal/execution/operators/map_transformer.py\", line 196, in __call__\n",
      "    yield from self._row_fn(input, ctx)\n",
      "  File \"/Users/sbrewer/anaconda3/envs/rllib/lib/python3.11/site-packages/ray/data/_internal/planner/plan_udf_map_op.py\", line 257, in transform_fn\n",
      "    for row in rows:\n",
      "  File \"/Users/sbrewer/anaconda3/envs/rllib/lib/python3.11/site-packages/ray/data/_internal/execution/operators/map_transformer.py\", line 248, in __call__\n",
      "    for block in blocks:\n",
      "  File \"/Users/sbrewer/anaconda3/envs/rllib/lib/python3.11/site-packages/ray/data/_internal/execution/operators/map_transformer.py\", line 371, in __call__\n",
      "    for data in iter:\n",
      "  File \"/Users/sbrewer/anaconda3/envs/rllib/lib/python3.11/site-packages/ray/data/_internal/execution/operators/map_transformer.py\", line 196, in __call__\n",
      "    yield from self._row_fn(input, ctx)\n",
      "  File \"/Users/sbrewer/anaconda3/envs/rllib/lib/python3.11/site-packages/ray/data/_internal/planner/plan_udf_map_op.py\", line 235, in transform_fn\n",
      "    _validate_row_output(out_row)\n",
      "  File \"/Users/sbrewer/anaconda3/envs/rllib/lib/python3.11/site-packages/ray/data/_internal/planner/plan_udf_map_op.py\", line 220, in _validate_row_output\n",
      "    raise ValueError(\n",
      "ValueError: Error validating 160000: Standalone Python objects are not allowed in Ray 2.5. To return Python objects from map(), wrap them in a dict, e.g., return `{'item': item}` instead of just `item`.\n",
      "2024-01-30 13:18:06,256\tERROR worker.py:406 -- Unhandled error (suppress with 'RAY_IGNORE_UNHANDLED_ERRORS=1'): \u001b[36mray::Map(<lambda>)->Filter(<lambda>)()\u001b[39m (pid=31610, ip=127.0.0.1)\n",
      "  File \"/Users/sbrewer/anaconda3/envs/rllib/lib/python3.11/site-packages/ray/data/_internal/execution/operators/map_operator.py\", line 416, in _map_task\n",
      "    for b_out in map_transformer.apply_transform(iter(blocks), ctx):\n",
      "  File \"/Users/sbrewer/anaconda3/envs/rllib/lib/python3.11/site-packages/ray/data/_internal/execution/operators/map_transformer.py\", line 371, in __call__\n",
      "    for data in iter:\n",
      "  File \"/Users/sbrewer/anaconda3/envs/rllib/lib/python3.11/site-packages/ray/data/_internal/execution/operators/map_transformer.py\", line 196, in __call__\n",
      "    yield from self._row_fn(input, ctx)\n",
      "  File \"/Users/sbrewer/anaconda3/envs/rllib/lib/python3.11/site-packages/ray/data/_internal/planner/plan_udf_map_op.py\", line 257, in transform_fn\n",
      "    for row in rows:\n",
      "  File \"/Users/sbrewer/anaconda3/envs/rllib/lib/python3.11/site-packages/ray/data/_internal/execution/operators/map_transformer.py\", line 248, in __call__\n",
      "    for block in blocks:\n",
      "  File \"/Users/sbrewer/anaconda3/envs/rllib/lib/python3.11/site-packages/ray/data/_internal/execution/operators/map_transformer.py\", line 371, in __call__\n",
      "    for data in iter:\n",
      "  File \"/Users/sbrewer/anaconda3/envs/rllib/lib/python3.11/site-packages/ray/data/_internal/execution/operators/map_transformer.py\", line 196, in __call__\n",
      "    yield from self._row_fn(input, ctx)\n",
      "  File \"/Users/sbrewer/anaconda3/envs/rllib/lib/python3.11/site-packages/ray/data/_internal/planner/plan_udf_map_op.py\", line 235, in transform_fn\n",
      "    _validate_row_output(out_row)\n",
      "  File \"/Users/sbrewer/anaconda3/envs/rllib/lib/python3.11/site-packages/ray/data/_internal/planner/plan_udf_map_op.py\", line 220, in _validate_row_output\n",
      "    raise ValueError(\n",
      "ValueError: Error validating 10000: Standalone Python objects are not allowed in Ray 2.5. To return Python objects from map(), wrap them in a dict, e.g., return `{'item': item}` instead of just `item`.\n"
     ]
    }
   ],
   "source": [
    "evens = squares.filter(lambda x: x % 2 == 0)\n",
    "evens.count()"
   ]
  },
  {
   "cell_type": "code",
   "execution_count": null,
   "id": "f4a9c331",
   "metadata": {},
   "outputs": [],
   "source": []
  }
 ],
 "metadata": {
  "kernelspec": {
   "display_name": "Python 3 (ipykernel)",
   "language": "python",
   "name": "python3"
  },
  "language_info": {
   "codemirror_mode": {
    "name": "ipython",
    "version": 3
   },
   "file_extension": ".py",
   "mimetype": "text/x-python",
   "name": "python",
   "nbconvert_exporter": "python",
   "pygments_lexer": "ipython3",
   "version": "3.11.4"
  }
 },
 "nbformat": 4,
 "nbformat_minor": 5
}
