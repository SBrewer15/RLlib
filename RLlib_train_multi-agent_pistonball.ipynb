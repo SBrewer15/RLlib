{
 "cells": [
  {
   "cell_type": "code",
   "execution_count": 1,
   "id": "daa270c3",
   "metadata": {},
   "outputs": [
    {
     "name": "stderr",
     "output_type": "stream",
     "text": [
      "2024-01-26 11:08:55,334\tINFO worker.py:1673 -- Started a local Ray instance.\n"
     ]
    },
    {
     "data": {
      "application/vnd.jupyter.widget-view+json": {
       "model_id": "bd33a80ffc814be0835e0718b5208a53",
       "version_major": 2,
       "version_minor": 0
      },
      "text/html": [
       "<div class=\"lm-Widget p-Widget lm-Panel p-Panel jp-Cell-outputWrapper\">\n",
       "    <div style=\"margin-left: 50px;display: flex;flex-direction: row;align-items: center\">\n",
       "        <div class=\"jp-RenderedHTMLCommon\" style=\"display: flex; flex-direction: row;\">\n",
       "  <svg viewBox=\"0 0 567 224\" fill=\"none\" xmlns=\"http://www.w3.org/2000/svg\" style=\"height: 3em;\">\n",
       "    <g clip-path=\"url(#clip0_4338_178347)\">\n",
       "        <path d=\"M341.29 165.561H355.29L330.13 129.051C345.63 123.991 354.21 112.051 354.21 94.2307C354.21 71.3707 338.72 58.1807 311.88 58.1807H271V165.561H283.27V131.661H311.8C314.25 131.661 316.71 131.501 319.01 131.351L341.25 165.561H341.29ZM283.29 119.851V70.0007H311.82C331.3 70.0007 342.34 78.2907 342.34 94.5507C342.34 111.271 331.34 119.861 311.82 119.861L283.29 119.851ZM451.4 138.411L463.4 165.561H476.74L428.74 58.1807H416L367.83 165.561H380.83L392.83 138.411H451.4ZM446.19 126.601H398L422 72.1407L446.24 126.601H446.19ZM526.11 128.741L566.91 58.1807H554.35L519.99 114.181L485.17 58.1807H472.44L514.01 129.181V165.541H526.13V128.741H526.11Z\" fill=\"var(--jp-ui-font-color0)\"/>\n",
       "        <path d=\"M82.35 104.44C84.0187 97.8827 87.8248 92.0678 93.1671 87.9146C98.5094 83.7614 105.083 81.5067 111.85 81.5067C118.617 81.5067 125.191 83.7614 130.533 87.9146C135.875 92.0678 139.681 97.8827 141.35 104.44H163.75C164.476 101.562 165.622 98.8057 167.15 96.2605L127.45 56.5605C121.071 60.3522 113.526 61.6823 106.235 60.3005C98.9443 58.9187 92.4094 54.9203 87.8602 49.0574C83.3109 43.1946 81.0609 35.8714 81.5332 28.4656C82.0056 21.0599 85.1679 14.0819 90.4252 8.8446C95.6824 3.60726 102.672 0.471508 110.08 0.0272655C117.487 -0.416977 124.802 1.86091 130.647 6.4324C136.493 11.0039 140.467 17.5539 141.821 24.8501C143.175 32.1463 141.816 39.6859 138 46.0505L177.69 85.7505C182.31 82.9877 187.58 81.4995 192.962 81.4375C198.345 81.3755 203.648 82.742 208.33 85.3976C213.012 88.0532 216.907 91.9029 219.616 96.5544C222.326 101.206 223.753 106.492 223.753 111.875C223.753 117.258 222.326 122.545 219.616 127.197C216.907 131.848 213.012 135.698 208.33 138.353C203.648 141.009 198.345 142.375 192.962 142.313C187.58 142.251 182.31 140.763 177.69 138L138 177.7C141.808 184.071 143.155 191.614 141.79 198.91C140.424 206.205 136.44 212.75 130.585 217.313C124.731 221.875 117.412 224.141 110.004 223.683C102.596 223.226 95.6103 220.077 90.3621 214.828C85.1139 209.58 81.9647 202.595 81.5072 195.187C81.0497 187.779 83.3154 180.459 87.878 174.605C92.4405 168.751 98.9853 164.766 106.281 163.401C113.576 162.035 121.119 163.383 127.49 167.19L167.19 127.49C165.664 124.941 164.518 122.182 163.79 119.3H141.39C139.721 125.858 135.915 131.673 130.573 135.826C125.231 139.98 118.657 142.234 111.89 142.234C105.123 142.234 98.5494 139.98 93.2071 135.826C87.8648 131.673 84.0587 125.858 82.39 119.3H60C58.1878 126.495 53.8086 132.78 47.6863 136.971C41.5641 141.163 34.1211 142.972 26.7579 142.059C19.3947 141.146 12.6191 137.574 7.70605 132.014C2.79302 126.454 0.0813599 119.29 0.0813599 111.87C0.0813599 104.451 2.79302 97.2871 7.70605 91.7272C12.6191 86.1673 19.3947 82.5947 26.7579 81.6817C34.1211 80.7686 41.5641 82.5781 47.6863 86.7696C53.8086 90.9611 58.1878 97.2456 60 104.44H82.35ZM100.86 204.32C103.407 206.868 106.759 208.453 110.345 208.806C113.93 209.159 117.527 208.258 120.522 206.256C123.517 204.254 125.725 201.276 126.771 197.828C127.816 194.38 127.633 190.677 126.253 187.349C124.874 184.021 122.383 181.274 119.205 179.577C116.027 177.88 112.359 177.337 108.826 178.042C105.293 178.746 102.113 180.654 99.8291 183.44C97.5451 186.226 96.2979 189.718 96.3 193.32C96.2985 195.364 96.7006 197.388 97.4831 199.275C98.2656 201.163 99.4132 202.877 100.86 204.32ZM204.32 122.88C206.868 120.333 208.453 116.981 208.806 113.396C209.159 109.811 208.258 106.214 206.256 103.219C204.254 100.223 201.275 98.0151 197.827 96.97C194.38 95.9249 190.676 96.1077 187.348 97.4873C184.02 98.8669 181.274 101.358 179.577 104.536C177.879 107.714 177.337 111.382 178.041 114.915C178.746 118.448 180.653 121.627 183.439 123.911C186.226 126.195 189.717 127.443 193.32 127.44C195.364 127.443 197.388 127.042 199.275 126.259C201.163 125.476 202.878 124.328 204.32 122.88ZM122.88 19.4205C120.333 16.8729 116.981 15.2876 113.395 14.9347C109.81 14.5817 106.213 15.483 103.218 17.4849C100.223 19.4868 98.0146 22.4654 96.9696 25.9131C95.9245 29.3608 96.1073 33.0642 97.4869 36.3922C98.8665 39.7202 101.358 42.4668 104.535 44.1639C107.713 45.861 111.381 46.4036 114.914 45.6992C118.447 44.9949 121.627 43.0871 123.911 40.301C126.195 37.515 127.442 34.0231 127.44 30.4205C127.44 28.3772 127.038 26.3539 126.255 24.4664C125.473 22.5788 124.326 20.8642 122.88 19.4205ZM19.42 100.86C16.8725 103.408 15.2872 106.76 14.9342 110.345C14.5813 113.93 15.4826 117.527 17.4844 120.522C19.4863 123.518 22.4649 125.726 25.9127 126.771C29.3604 127.816 33.0638 127.633 36.3918 126.254C39.7198 124.874 42.4664 122.383 44.1635 119.205C45.8606 116.027 46.4032 112.359 45.6988 108.826C44.9944 105.293 43.0866 102.114 40.3006 99.8296C37.5145 97.5455 34.0227 96.2983 30.42 96.3005C26.2938 96.3018 22.337 97.9421 19.42 100.86ZM100.86 100.86C98.3125 103.408 96.7272 106.76 96.3742 110.345C96.0213 113.93 96.9226 117.527 98.9244 120.522C100.926 123.518 103.905 125.726 107.353 126.771C110.8 127.816 114.504 127.633 117.832 126.254C121.16 124.874 123.906 122.383 125.604 119.205C127.301 116.027 127.843 112.359 127.139 108.826C126.434 105.293 124.527 102.114 121.741 99.8296C118.955 97.5455 115.463 96.2983 111.86 96.3005C109.817 96.299 107.793 96.701 105.905 97.4835C104.018 98.2661 102.303 99.4136 100.86 100.86Z\" fill=\"#00AEEF\"/>\n",
       "    </g>\n",
       "    <defs>\n",
       "        <clipPath id=\"clip0_4338_178347\">\n",
       "            <rect width=\"566.93\" height=\"223.75\" fill=\"white\"/>\n",
       "        </clipPath>\n",
       "    </defs>\n",
       "  </svg>\n",
       "</div>\n",
       "\n",
       "        <table class=\"jp-RenderedHTMLCommon\" style=\"border-collapse: collapse;color: var(--jp-ui-font-color1);font-size: var(--jp-ui-font-size1);\">\n",
       "    <tr>\n",
       "        <td style=\"text-align: left\"><b>Python version:</b></td>\n",
       "        <td style=\"text-align: left\"><b>3.11.4</b></td>\n",
       "    </tr>\n",
       "    <tr>\n",
       "        <td style=\"text-align: left\"><b>Ray version:</b></td>\n",
       "        <td style=\"text-align: left\"><b>2.8.1</b></td>\n",
       "    </tr>\n",
       "    \n",
       "</table>\n",
       "\n",
       "    </div>\n",
       "</div>\n"
      ],
      "text/plain": [
       "RayContext(dashboard_url='', python_version='3.11.4', ray_version='2.8.1', ray_commit='82a8df138fe7fcc5c42536ebf26e8c3665704fee', protocol_version=None)"
      ]
     },
     "execution_count": 1,
     "metadata": {},
     "output_type": "execute_result"
    }
   ],
   "source": [
    "import ray\n",
    "\n",
    "ray.init(ignore_reinit_error=True)"
   ]
  },
  {
   "cell_type": "code",
   "execution_count": 2,
   "id": "03641a15",
   "metadata": {},
   "outputs": [],
   "source": [
    "from ray import train, tune\n",
    "from fastcore.xtras import Path\n"
   ]
  },
  {
   "cell_type": "code",
   "execution_count": 3,
   "id": "94a42f2b",
   "metadata": {},
   "outputs": [
    {
     "name": "stderr",
     "output_type": "stream",
     "text": [
      "2024-01-26 11:08:58,001\tWARNING __init__.py:10 -- PG has/have been moved to `rllib_contrib` and will no longer be maintained by the RLlib team. You can still use it/them normally inside RLlib util Ray 2.8, but from Ray 2.9 on, all `rllib_contrib` algorithms will no longer be part of the core repo, and will therefore have to be installed separately with pinned dependencies for e.g. ray[rllib] and other packages! See https://github.com/ray-project/ray/tree/master/rllib_contrib#rllib-contrib for more information on the RLlib contrib effort.\n"
     ]
    }
   ],
   "source": [
    "from ray.rllib.algorithms.ppo import PPOConfig\n",
    "from ray.rllib.algorithms.algorithm import Algorithm\n",
    "\n",
    "from ray.tune.logger import pretty_print\n"
   ]
  },
  {
   "cell_type": "code",
   "execution_count": 4,
   "id": "90b8cd0a",
   "metadata": {},
   "outputs": [],
   "source": [
    "import torch\n",
    "import os\n",
    "# Set device currently does nothing\n",
    "device = \"cuda\" if torch.cuda.is_available() else \"mps\" if torch.backends.mps.is_available() else \"cpu\"\n",
    "if \"mps\" == device: os.environ['PYTORCH_ENABLE_MPS_FALLBACK'] = \"1\"\n",
    "os.environ[\"SDL_VIDEODRIVER\"] = \"dummy\""
   ]
  },
  {
   "cell_type": "code",
   "execution_count": 5,
   "id": "3cc52d03",
   "metadata": {},
   "outputs": [],
   "source": [
    "from ray.rllib.env.wrappers.pettingzoo_env import ParallelPettingZooEnv\n",
    "from ray.rllib.models import ModelCatalog\n",
    "from ray.rllib.models.torch.torch_modelv2 import TorchModelV2\n",
    "from ray.tune.registry import register_env\n",
    "from torch import nn\n",
    "#from ray.rllib.env.wrappers.pettingzoo_env import PettingZooEnv\n",
    "from pettingzoo.butterfly import pistonball_v6\n"
   ]
  },
  {
   "cell_type": "code",
   "execution_count": 6,
   "id": "62413d1b",
   "metadata": {},
   "outputs": [],
   "source": [
    "import supersuit as ss"
   ]
  },
  {
   "cell_type": "code",
   "execution_count": 7,
   "id": "b13b26dd",
   "metadata": {},
   "outputs": [],
   "source": [
    "from ray import train, tune\n",
    "from fastcore.xtras import Path\n",
    "from ray.rllib.algorithms.ppo import PPOConfig\n",
    "from ray.rllib.algorithms.algorithm import Algorithm\n",
    "from ray.tune.logger import pretty_print\n",
    "\n",
    "from ray.rllib.env.wrappers.pettingzoo_env import ParallelPettingZooEnv\n",
    "from ray.rllib.models import ModelCatalog\n",
    "from ray.rllib.models.torch.torch_modelv2 import TorchModelV2\n",
    "from ray.tune.registry import register_env\n",
    "from torch import nn\n",
    "from ray.rllib.env.wrappers.pettingzoo_env import PettingZooEnv\n",
    "from pettingzoo.butterfly import pistonball_v6\n",
    "import supersuit as ss\n",
    "\n",
    "import matplotlib.pyplot as plt\n",
    "from IPython.display import clear_output\n",
    "import numpy as np\n",
    "import pandas as pd\n",
    "import os"
   ]
  },
  {
   "cell_type": "code",
   "execution_count": 8,
   "id": "9d4f61f6",
   "metadata": {},
   "outputs": [
    {
     "data": {
      "text/plain": [
       "[]"
      ]
     },
     "execution_count": 8,
     "metadata": {},
     "output_type": "execute_result"
    }
   ],
   "source": [
    "#no GPU support. Still an open issue:\n",
    "#https://github.com/ray-project/ray/issues/28321\n",
    "#tune.Tuner(tune.with_resources(0, resources={\"cpu\": 8, \"gpu\": 1}),...\n",
    "#https://docs.ray.io/en/latest/tune/api/doc/ray.tune.with_resources.html\n",
    "ray.get_gpu_ids()"
   ]
  },
  {
   "cell_type": "code",
   "execution_count": 9,
   "id": "31f12c6b",
   "metadata": {},
   "outputs": [],
   "source": [
    "#grid search parameters\n",
    "# tune.grid_search([0.01, 0.001])\n"
   ]
  },
  {
   "cell_type": "code",
   "execution_count": 10,
   "id": "ab72b284",
   "metadata": {},
   "outputs": [],
   "source": [
    "#custom model example: https://docs.ray.io/en/latest/rllib/rllib-models.html"
   ]
  },
  {
   "cell_type": "code",
   "execution_count": 11,
   "id": "265da679",
   "metadata": {},
   "outputs": [],
   "source": [
    "class CNNModelV2(TorchModelV2, nn.Module):\n",
    "    def __init__(self, obs_space, act_space, num_outputs, *args, **kwargs):\n",
    "        TorchModelV2.__init__(self, obs_space, act_space, num_outputs, *args, **kwargs)\n",
    "        nn.Module.__init__(self)\n",
    "        \n",
    "        conv_filters = [32, 64, 64]\n",
    "        \n",
    "        if len(obs_space.shape)==4: \n",
    "            obs_sz=obs_space.shape[1:]\n",
    "            chnl=obs_space.shape[1]\n",
    "        else: \n",
    "            obs_sz=obs_space.shape\n",
    "            chnl=obs_space.shape[0]\n",
    "            \n",
    "        model = nn.Sequential(\n",
    "            nn.Conv2d(chnl, conv_filters[0], [3, 3], stride=(1, 1)),\n",
    "            nn.ReLU(),\n",
    "            nn.Conv2d(conv_filters[0], conv_filters[1], [3, 3], stride=(1, 1)),\n",
    "            nn.ReLU(),\n",
    "            nn.Conv2d(conv_filters[1], conv_filters[2], [3, 3], stride=(1, 1)),\n",
    "            nn.ReLU(),\n",
    "            nn.Flatten())\n",
    "        \n",
    "        n_channels=np.product(model(torch.rand(obs_sz)).shape)\n",
    "        \n",
    "        self.model=nn.Sequential(model, \n",
    "                                 (nn.Linear(n_channels, 512)),  \n",
    "                                nn.ReLU(),\n",
    "                                )\n",
    "        self.policy_fn = nn.Linear(512, num_outputs)\n",
    "        self.value_fn = nn.Linear(512, 1)\n",
    "\n",
    "    def forward(self, input_dict, state, seq_lens):\n",
    "        model_out = self.model(input_dict[\"obs\"].permute(0, 3, 1, 2))\n",
    "        self._value_out = self.value_fn(model_out)\n",
    "        return self.policy_fn(model_out), state\n",
    "\n",
    "    def value_function(self):\n",
    "        return self._value_out.flatten()"
   ]
  },
  {
   "cell_type": "code",
   "execution_count": null,
   "id": "b1ace17b",
   "metadata": {},
   "outputs": [],
   "source": []
  },
  {
   "cell_type": "code",
   "execution_count": 12,
   "id": "fad6cb4f",
   "metadata": {},
   "outputs": [],
   "source": [
    "ModelCatalog.register_custom_model(\"CNNModelV2\", CNNModelV2)"
   ]
  },
  {
   "cell_type": "code",
   "execution_count": 13,
   "id": "b07778c1",
   "metadata": {},
   "outputs": [],
   "source": [
    "def env_creator():\n",
    "    env = pistonball_v6.env(\n",
    "        n_pistons=12,\n",
    "        time_penalty=-0.1,\n",
    "        continuous=True,\n",
    "        random_drop=True,\n",
    "        random_rotate=True,\n",
    "        ball_mass=0.75,\n",
    "        ball_friction=0.3,\n",
    "        ball_elasticity=1.5,\n",
    "        max_cycles=125,\n",
    "        render_mode=\"rgb_array\",\n",
    "    )\n",
    "    env = ss.color_reduction_v0(env, mode=\"B\") #uses blue channel instead of convert to grayscale\n",
    "    env = ss.dtype_v0(env, \"float32\")\n",
    "    env = ss.resize_v1(env, x_size=64, y_size=64)\n",
    "    env = ss.normalize_obs_v0(env, env_min=-1, env_max=1)\n",
    "    env = ss.frame_stack_v1(env, 5)\n",
    "    return env"
   ]
  },
  {
   "cell_type": "code",
   "execution_count": 14,
   "id": "52d1d8ec",
   "metadata": {},
   "outputs": [],
   "source": [
    "env = env_creator()\n",
    "env_name = \"pistonball_v6\"\n",
    "register_env(env_name, lambda config: PettingZooEnv(env_creator()))"
   ]
  },
  {
   "cell_type": "code",
   "execution_count": null,
   "id": "1c733434",
   "metadata": {},
   "outputs": [],
   "source": []
  },
  {
   "cell_type": "code",
   "execution_count": null,
   "id": "e95b8f07",
   "metadata": {},
   "outputs": [],
   "source": []
  },
  {
   "cell_type": "code",
   "execution_count": 15,
   "id": "9052941c",
   "metadata": {
    "scrolled": false
   },
   "outputs": [
    {
     "data": {
      "text/html": [
       "<div class=\"tuneStatus\">\n",
       "  <div style=\"display: flex;flex-direction: row\">\n",
       "    <div style=\"display: flex;flex-direction: column;\">\n",
       "      <h3>Tune Status</h3>\n",
       "      <table>\n",
       "<tbody>\n",
       "<tr><td>Current time:</td><td>2024-01-26 11:11:41</td></tr>\n",
       "<tr><td>Running for: </td><td>00:02:38.37        </td></tr>\n",
       "<tr><td>Memory:      </td><td>33.2/64.0 GiB      </td></tr>\n",
       "</tbody>\n",
       "</table>\n",
       "    </div>\n",
       "    <div class=\"vDivider\"></div>\n",
       "    <div class=\"systemInfo\">\n",
       "      <h3>System Info</h3>\n",
       "      Using FIFO scheduling algorithm.<br>Logical resource usage: 3.0/12 CPUs, 0/0 GPUs\n",
       "    </div>\n",
       "    \n",
       "  </div>\n",
       "  <div class=\"hDivider\"></div>\n",
       "  <div class=\"trialStatus\">\n",
       "    <h3>Trial Status</h3>\n",
       "    <table>\n",
       "<thead>\n",
       "<tr><th>Trial name                   </th><th>status    </th><th>loc            </th><th style=\"text-align: right;\">  iter</th><th style=\"text-align: right;\">  total time (s)</th><th style=\"text-align: right;\">  ts</th><th style=\"text-align: right;\">  reward</th><th style=\"text-align: right;\">  episode_reward_max</th><th style=\"text-align: right;\">  episode_reward_min</th><th style=\"text-align: right;\">  episode_len_mean</th></tr>\n",
       "</thead>\n",
       "<tbody>\n",
       "<tr><td>PPO_pistonball_v6_395ef_00000</td><td>TERMINATED</td><td>127.0.0.1:78440</td><td style=\"text-align: right;\">    20</td><td style=\"text-align: right;\">         153.552</td><td style=\"text-align: right;\">2560</td><td style=\"text-align: right;\">     nan</td><td style=\"text-align: right;\">                 nan</td><td style=\"text-align: right;\">                 nan</td><td style=\"text-align: right;\">               nan</td></tr>\n",
       "</tbody>\n",
       "</table>\n",
       "  </div>\n",
       "</div>\n",
       "<style>\n",
       ".tuneStatus {\n",
       "  color: var(--jp-ui-font-color1);\n",
       "}\n",
       ".tuneStatus .systemInfo {\n",
       "  display: flex;\n",
       "  flex-direction: column;\n",
       "}\n",
       ".tuneStatus td {\n",
       "  white-space: nowrap;\n",
       "}\n",
       ".tuneStatus .trialStatus {\n",
       "  display: flex;\n",
       "  flex-direction: column;\n",
       "}\n",
       ".tuneStatus h3 {\n",
       "  font-weight: bold;\n",
       "}\n",
       ".tuneStatus .hDivider {\n",
       "  border-bottom-width: var(--jp-border-width);\n",
       "  border-bottom-color: var(--jp-border-color0);\n",
       "  border-bottom-style: solid;\n",
       "}\n",
       ".tuneStatus .vDivider {\n",
       "  border-left-width: var(--jp-border-width);\n",
       "  border-left-color: var(--jp-border-color0);\n",
       "  border-left-style: solid;\n",
       "  margin: 0.5em 1em 0.5em 1em;\n",
       "}\n",
       "</style>\n"
      ],
      "text/plain": [
       "<IPython.core.display.HTML object>"
      ]
     },
     "metadata": {},
     "output_type": "display_data"
    },
    {
     "name": "stderr",
     "output_type": "stream",
     "text": [
      "\u001b[36m(pid=78440)\u001b[0m 2024-01-26 11:09:05,456\tWARNING __init__.py:10 -- PG has/have been moved to `rllib_contrib` and will no longer be maintained by the RLlib team. You can still use it/them normally inside RLlib util Ray 2.8, but from Ray 2.9 on, all `rllib_contrib` algorithms will no longer be part of the core repo, and will therefore have to be installed separately with pinned dependencies for e.g. ray[rllib] and other packages! See https://github.com/ray-project/ray/tree/master/rllib_contrib#rllib-contrib for more information on the RLlib contrib effort.\n",
      "\u001b[36m(RolloutWorker pid=78510)\u001b[0m /Users/sbrewer/anaconda3/envs/rllib/lib/python3.11/site-packages/pettingzoo/utils/wrappers/base.py:58: UserWarning: The `observation_spaces` dictionary is deprecated. Use the `observation_space` function instead.\n",
      "\u001b[36m(RolloutWorker pid=78510)\u001b[0m   warnings.warn(\n",
      "\u001b[36m(RolloutWorker pid=78510)\u001b[0m /Users/sbrewer/anaconda3/envs/rllib/lib/python3.11/site-packages/pettingzoo/utils/wrappers/base.py:72: UserWarning: The `action_spaces` dictionary is deprecated. Use the `action_space` function instead.\n",
      "\u001b[36m(RolloutWorker pid=78510)\u001b[0m   warnings.warn(\n",
      "\u001b[36m(PPO pid=78440)\u001b[0m Checkpoint successfully created at: Checkpoint(filesystem=local, path=/Users/sbrewer/Documents/NAVAIR/RL_Scripts/saved_agents/my_MARL_tune/PPO_pistonball_v6_395ef_00000_0_2024-01-26_11-09-03/checkpoint_000000)\n",
      "\u001b[36m(RolloutWorker pid=78509)\u001b[0m 2024-01-26 11:09:07,646\tWARNING __init__.py:10 -- PG has/have been moved to `rllib_contrib` and will no longer be maintained by the RLlib team. You can still use it/them normally inside RLlib util Ray 2.8, but from Ray 2.9 on, all `rllib_contrib` algorithms will no longer be part of the core repo, and will therefore have to be installed separately with pinned dependencies for e.g. ray[rllib] and other packages! See https://github.com/ray-project/ray/tree/master/rllib_contrib#rllib-contrib for more information on the RLlib contrib effort.\u001b[32m [repeated 2x across cluster] (Ray deduplicates logs by default. Set RAY_DEDUP_LOGS=0 to disable log deduplication, or see https://docs.ray.io/en/master/ray-observability/ray-logging.html#log-deduplication for more options.)\u001b[0m\n",
      "\u001b[36m(RolloutWorker pid=78509)\u001b[0m /Users/sbrewer/anaconda3/envs/rllib/lib/python3.11/site-packages/pettingzoo/utils/wrappers/base.py:58: UserWarning: The `observation_spaces` dictionary is deprecated. Use the `observation_space` function instead.\n",
      "\u001b[36m(RolloutWorker pid=78509)\u001b[0m   warnings.warn(\u001b[32m [repeated 2x across cluster]\u001b[0m\n",
      "\u001b[36m(RolloutWorker pid=78509)\u001b[0m /Users/sbrewer/anaconda3/envs/rllib/lib/python3.11/site-packages/pettingzoo/utils/wrappers/base.py:72: UserWarning: The `action_spaces` dictionary is deprecated. Use the `action_space` function instead.\n",
      "2024-01-26 11:11:42,202\tINFO tune.py:1047 -- Total run time: 158.68 seconds (158.29 seconds for the tuning loop).\n"
     ]
    }
   ],
   "source": [
    "# agent, model, and environment setup\n",
    "param_space = (PPOConfig()\n",
    "            .environment(env=env_name)\n",
    "            .framework(\"torch\")\n",
    "            .debugging(log_level=\"ERROR\")\n",
    "            .training(train_batch_size=128,\n",
    "                        lr=3e-4,\n",
    "                        gamma=0.99,\n",
    "                        lambda_=0.9,\n",
    "                        use_gae=True,\n",
    "                        clip_param=0.5,\n",
    "                        grad_clip=10, # was None in example which led to nan errors\n",
    "                        entropy_coeff=0.1,\n",
    "                        vf_loss_coeff=0.25,\n",
    "                        sgd_minibatch_size=64,\n",
    "                        num_sgd_iter=10,))\n",
    "\n",
    "# sets save directory and when to end training                        \n",
    "run_config=train.RunConfig(name=\"my_MARL_tune\",\n",
    "                           storage_path=str(Path('.').resolve()/'saved_agents'),\n",
    "                           stop={\"training_iteration\": 20}, #episodes_total, 10000\n",
    "                           checkpoint_config=train.CheckpointConfig(\n",
    "                                            checkpoint_score_attribute=\"episode_reward_mean\",\n",
    "                                            checkpoint_score_order=\"max\"\n",
    "                                                                   ))\n",
    "#load configs into Tuner\n",
    "tuner = tune.Tuner(\"PPO\", run_config=run_config,\n",
    "                   param_space=param_space,\n",
    "                    )\n",
    "#training model\n",
    "results = tuner.fit()"
   ]
  },
  {
   "cell_type": "code",
   "execution_count": null,
   "id": "23902eca",
   "metadata": {},
   "outputs": [],
   "source": []
  },
  {
   "cell_type": "code",
   "execution_count": null,
   "id": "c234da9b",
   "metadata": {},
   "outputs": [],
   "source": []
  },
  {
   "cell_type": "code",
   "execution_count": null,
   "id": "2c91e15a",
   "metadata": {},
   "outputs": [],
   "source": []
  },
  {
   "cell_type": "code",
   "execution_count": null,
   "id": "6dd49262",
   "metadata": {},
   "outputs": [],
   "source": []
  },
  {
   "cell_type": "code",
   "execution_count": null,
   "id": "0ad91321",
   "metadata": {},
   "outputs": [],
   "source": []
  },
  {
   "cell_type": "code",
   "execution_count": null,
   "id": "cb1a5b7f",
   "metadata": {},
   "outputs": [],
   "source": []
  },
  {
   "cell_type": "code",
   "execution_count": null,
   "id": "1c629848",
   "metadata": {},
   "outputs": [],
   "source": []
  },
  {
   "cell_type": "code",
   "execution_count": null,
   "id": "ee4eb938",
   "metadata": {},
   "outputs": [],
   "source": []
  },
  {
   "cell_type": "code",
   "execution_count": 17,
   "id": "4ff0061a",
   "metadata": {},
   "outputs": [
    {
     "name": "stderr",
     "output_type": "stream",
     "text": [
      "/Users/sbrewer/anaconda3/envs/rllib/lib/python3.11/site-packages/ray/rllib/algorithms/algorithm.py:484: RayDeprecationWarning: This API is deprecated and may be removed in future Ray releases. You could suppress this warning by setting env variable PYTHONWARNINGS=\"ignore::DeprecationWarning\"\n",
      "`UnifiedLogger` will be removed in Ray 2.7.\n",
      "  return UnifiedLogger(config, logdir, loggers=None)\n",
      "/Users/sbrewer/anaconda3/envs/rllib/lib/python3.11/site-packages/ray/tune/logger/unified.py:53: RayDeprecationWarning: This API is deprecated and may be removed in future Ray releases. You could suppress this warning by setting env variable PYTHONWARNINGS=\"ignore::DeprecationWarning\"\n",
      "The `JsonLogger interface is deprecated in favor of the `ray.tune.json.JsonLoggerCallback` interface and will be removed in Ray 2.7.\n",
      "  self._loggers.append(cls(self.config, self.logdir, self.trial))\n",
      "/Users/sbrewer/anaconda3/envs/rllib/lib/python3.11/site-packages/ray/tune/logger/unified.py:53: RayDeprecationWarning: This API is deprecated and may be removed in future Ray releases. You could suppress this warning by setting env variable PYTHONWARNINGS=\"ignore::DeprecationWarning\"\n",
      "The `CSVLogger interface is deprecated in favor of the `ray.tune.csv.CSVLoggerCallback` interface and will be removed in Ray 2.7.\n",
      "  self._loggers.append(cls(self.config, self.logdir, self.trial))\n",
      "/Users/sbrewer/anaconda3/envs/rllib/lib/python3.11/site-packages/ray/tune/logger/unified.py:53: RayDeprecationWarning: This API is deprecated and may be removed in future Ray releases. You could suppress this warning by setting env variable PYTHONWARNINGS=\"ignore::DeprecationWarning\"\n",
      "The `TBXLogger interface is deprecated in favor of the `ray.tune.tensorboardx.TBXLoggerCallback` interface and will be removed in Ray 2.7.\n",
      "  self._loggers.append(cls(self.config, self.logdir, self.trial))\n",
      "2024-01-03 17:31:27,612\tWARNING unified.py:56 -- Could not instantiate TBXLogger: No module named 'tensorboardX'.\n",
      "\u001b[36m(RolloutWorker pid=3435)\u001b[0m 2024-01-03 17:31:29,720\tWARNING __init__.py:10 -- PG has/have been moved to `rllib_contrib` and will no longer be maintained by the RLlib team. You can still use it/them normally inside RLlib util Ray 2.8, but from Ray 2.9 on, all `rllib_contrib` algorithms will no longer be part of the core repo, and will therefore have to be installed separately with pinned dependencies for e.g. ray[rllib] and other packages! See https://github.com/ray-project/ray/tree/master/rllib_contrib#rllib-contrib for more information on the RLlib contrib effort.\n",
      "\u001b[36m(RolloutWorker pid=3435)\u001b[0m /Users/sbrewer/anaconda3/envs/rllib/lib/python3.11/site-packages/pettingzoo/utils/wrappers/base.py:58: UserWarning: The `observation_spaces` dictionary is deprecated. Use the `observation_space` function instead.\n",
      "\u001b[36m(RolloutWorker pid=3435)\u001b[0m   warnings.warn(\n",
      "\u001b[36m(RolloutWorker pid=3435)\u001b[0m /Users/sbrewer/anaconda3/envs/rllib/lib/python3.11/site-packages/pettingzoo/utils/wrappers/base.py:72: UserWarning: The `action_spaces` dictionary is deprecated. Use the `action_space` function instead.\n",
      "\u001b[36m(RolloutWorker pid=3435)\u001b[0m   warnings.warn(\n"
     ]
    }
   ],
   "source": [
    "# Find best model\n",
    "best_result = results.get_best_result(metric=\"episode_reward_max\", mode=\"max\")\n",
    "\n",
    "# Get the best checkpoint corresponding to the best result.\n",
    "best_checkpoint = best_result.checkpoint\n",
    "\n",
    "\n",
    "algo = Algorithm.from_checkpoint(best_checkpoint.path)"
   ]
  },
  {
   "cell_type": "code",
   "execution_count": 18,
   "id": "5212e351",
   "metadata": {},
   "outputs": [
    {
     "data": {
      "text/plain": [
       "'/Users/sbrewer/Documents/NAVAIR/RL_Scripts/saved_agents/my_MARL_tune/PPO_pistonball_v6_63219_00000_0_2024-01-03_13-03-24/checkpoint_000000'"
      ]
     },
     "execution_count": 18,
     "metadata": {},
     "output_type": "execute_result"
    }
   ],
   "source": [
    "best_checkpoint.path"
   ]
  },
  {
   "cell_type": "code",
   "execution_count": 19,
   "id": "5ad30f97",
   "metadata": {},
   "outputs": [],
   "source": [
    "policy = algo.get_policy()\n",
    "#print(policy.get_weights())\n",
    "model = policy.model"
   ]
  },
  {
   "cell_type": "code",
   "execution_count": 20,
   "id": "b93db154",
   "metadata": {},
   "outputs": [
    {
     "data": {
      "text/plain": [
       "PPOTorchRLModule(\n",
       "  (encoder): TorchActorCriticEncoder(\n",
       "    (actor_encoder): TorchCNNEncoder(\n",
       "      (net): Sequential(\n",
       "        (0): TorchCNN(\n",
       "          (cnn): Sequential(\n",
       "            (0): ZeroPad2d((1, 1, 1, 1))\n",
       "            (1): Conv2d(5, 32, kernel_size=(4, 4), stride=(2, 2))\n",
       "            (2): ReLU()\n",
       "            (3): ZeroPad2d((1, 1, 1, 1))\n",
       "            (4): Conv2d(32, 64, kernel_size=(4, 4), stride=(2, 2))\n",
       "            (5): ReLU()\n",
       "            (6): ZeroPad2d((1, 1, 1, 1))\n",
       "            (7): Conv2d(64, 128, kernel_size=(4, 4), stride=(2, 2))\n",
       "            (8): ReLU()\n",
       "            (9): ZeroPad2d((1, 1, 1, 1))\n",
       "            (10): Conv2d(128, 256, kernel_size=(4, 4), stride=(2, 2))\n",
       "            (11): ReLU()\n",
       "          )\n",
       "        )\n",
       "        (1): Flatten(start_dim=1, end_dim=-1)\n",
       "      )\n",
       "    )\n",
       "    (critic_encoder): TorchCNNEncoder(\n",
       "      (net): Sequential(\n",
       "        (0): TorchCNN(\n",
       "          (cnn): Sequential(\n",
       "            (0): ZeroPad2d((1, 1, 1, 1))\n",
       "            (1): Conv2d(5, 32, kernel_size=(4, 4), stride=(2, 2))\n",
       "            (2): ReLU()\n",
       "            (3): ZeroPad2d((1, 1, 1, 1))\n",
       "            (4): Conv2d(32, 64, kernel_size=(4, 4), stride=(2, 2))\n",
       "            (5): ReLU()\n",
       "            (6): ZeroPad2d((1, 1, 1, 1))\n",
       "            (7): Conv2d(64, 128, kernel_size=(4, 4), stride=(2, 2))\n",
       "            (8): ReLU()\n",
       "            (9): ZeroPad2d((1, 1, 1, 1))\n",
       "            (10): Conv2d(128, 256, kernel_size=(4, 4), stride=(2, 2))\n",
       "            (11): ReLU()\n",
       "          )\n",
       "        )\n",
       "        (1): Flatten(start_dim=1, end_dim=-1)\n",
       "      )\n",
       "    )\n",
       "  )\n",
       "  (pi): TorchMLPHead(\n",
       "    (net): TorchMLP(\n",
       "      (mlp): Sequential(\n",
       "        (0): Linear(in_features=4096, out_features=2, bias=True)\n",
       "      )\n",
       "    )\n",
       "  )\n",
       "  (vf): TorchMLPHead(\n",
       "    (net): TorchMLP(\n",
       "      (mlp): Sequential(\n",
       "        (0): Linear(in_features=4096, out_features=1, bias=True)\n",
       "      )\n",
       "    )\n",
       "  )\n",
       ")"
      ]
     },
     "execution_count": 20,
     "metadata": {},
     "output_type": "execute_result"
    }
   ],
   "source": [
    "model"
   ]
  },
  {
   "cell_type": "code",
   "execution_count": null,
   "id": "46e75024",
   "metadata": {},
   "outputs": [],
   "source": []
  },
  {
   "cell_type": "code",
   "execution_count": 21,
   "id": "f5db02be",
   "metadata": {},
   "outputs": [],
   "source": [
    "def env_creator_AEC():\n",
    "    env = pistonball_v6.env(\n",
    "        n_pistons=12,\n",
    "        time_penalty=-0.1,\n",
    "        continuous=True,\n",
    "        random_drop=True,\n",
    "        random_rotate=True,\n",
    "        ball_mass=0.75,\n",
    "        ball_friction=0.3,\n",
    "        ball_elasticity=1.5,\n",
    "        max_cycles=125,\n",
    "        render_mode=\"rgb_array\",\n",
    "    )\n",
    "    env = ss.color_reduction_v0(env, mode=\"B\")\n",
    "    env = ss.dtype_v0(env, \"float32\")\n",
    "    env = ss.resize_v1(env, x_size=64, y_size=64)\n",
    "    env = ss.normalize_obs_v0(env, env_min=-1, env_max=1)\n",
    "    env = ss.frame_stack_v1(env, 5)\n",
    "    return env\n"
   ]
  },
  {
   "cell_type": "code",
   "execution_count": 28,
   "id": "81519e53",
   "metadata": {},
   "outputs": [
    {
     "data": {
      "image/png": "[encoded data removed]",
      "text/plain": [
       "<Figure size 640x480 with 1 Axes>"
      ]
     },
     "metadata": {},
     "output_type": "display_data"
    }
   ],
   "source": [
    "env = env_creator_AEC()\n",
    "env_name = \"pistonball_v6_AEC\"\n",
    "register_env(env_name, lambda config: PettingZooEnv(env_creator()))\n",
    "\n",
    "N=1\n",
    "reward_lst=[]\n",
    "for n in range(N):\n",
    "\n",
    "    episode_reward = 0    \n",
    "    stp_cnt = 0\n",
    "    \n",
    "    env.reset()\n",
    "\n",
    "    for agent in env.agent_iter():\n",
    "        observation, reward, termination, truncation, info = env.last()\n",
    "        episode_reward += reward\n",
    "\n",
    "        if termination or truncation:\n",
    "            action = None\n",
    "        else:\n",
    "            action = algo.compute_single_action(observation)\n",
    "\n",
    "        env.step(action)\n",
    "        stp_cnt += 1\n",
    "        if stp_cnt % (len(env.possible_agents) + 1) == 0 and n==N-1:\n",
    "            clear_output(wait=True)\n",
    "            plt.imshow( env.render())\n",
    "            plt.title(f'Reward: {round(episode_reward,1)}, {n}')\n",
    "            plt.show()\n",
    "    \n",
    "    reward_lst.append(episode_reward)\n",
    "    \n",
    "env.close()"
   ]
  },
  {
   "cell_type": "code",
   "execution_count": 26,
   "id": "32bf5be7",
   "metadata": {},
   "outputs": [
    {
     "data": {
      "text/plain": [
       "count      3.000000\n",
       "mean     -93.091287\n",
       "std      118.725492\n",
       "min     -180.848329\n",
       "25%     -160.636930\n",
       "50%     -140.425532\n",
       "75%      -49.212766\n",
       "max       42.000000\n",
       "dtype: float64"
      ]
     },
     "execution_count": 26,
     "metadata": {},
     "output_type": "execute_result"
    }
   ],
   "source": [
    "import pandas as pd\n",
    "pd.Series(reward_lst).describe()"
   ]
  },
  {
   "cell_type": "code",
   "execution_count": 29,
   "id": "d1d24d81",
   "metadata": {},
   "outputs": [
    {
     "data": {
      "image/png": "[encoded data removed]",
      "text/plain": [
       "<Figure size 1500x300 with 5 Axes>"
      ]
     },
     "metadata": {},
     "output_type": "display_data"
    }
   ],
   "source": [
    "fig, axes = plt.subplots(1,5, figsize=(15,3))\n",
    "for i in range(5):\n",
    "    ax=axes[i]; ax.imshow(observation[:,:,i], cmap='gray',vmin=-1, vmax=1, interpolation='nearest')"
   ]
  },
  {
   "cell_type": "code",
   "execution_count": 59,
   "id": "e70fd525",
   "metadata": {},
   "outputs": [
    {
     "data": {
      "text/plain": [
       "array([[-0.49019605, -0.49019605, -0.49019605, ...,  1.        ,\n",
       "         1.        ,  1.        ],\n",
       "       [-0.49019605, -0.49019605, -0.49019605, ...,  1.        ,\n",
       "         1.        ,  1.        ],\n",
       "       [-0.49019605, -0.49019605, -0.49019605, ...,  1.        ,\n",
       "         1.        ,  1.        ],\n",
       "       ...,\n",
       "       [-0.49019605, -0.49019605, -0.49019605, ...,  0.18202639,\n",
       "         0.22254896,  0.4699347 ],\n",
       "       [-0.49019605, -0.49019605, -0.49019605, ...,  0.87740326,\n",
       "         1.        ,  1.        ],\n",
       "       [-0.49019605, -0.49019605, -0.49019605, ...,  1.        ,\n",
       "         1.        ,  1.        ]], dtype=float32)"
      ]
     },
     "execution_count": 59,
     "metadata": {},
     "output_type": "execute_result"
    }
   ],
   "source": [
    "observation[:,:,-1]"
   ]
  },
  {
   "cell_type": "code",
   "execution_count": 29,
   "id": "6025e1d4",
   "metadata": {},
   "outputs": [],
   "source": [
    "#env = env_creator()\n",
    "#env_name = \"pistonball_v6\"\n",
    "#register_env(env_name, lambda config: PettingZooEnv(env_creator()))"
   ]
  },
  {
   "cell_type": "code",
   "execution_count": null,
   "id": "418b48da",
   "metadata": {},
   "outputs": [],
   "source": [
    "env = pistonball_v6.parallel_env(render_mode=\"rgb_array\")\n",
    "observations, infos = env.reset()\n",
    "\n",
    "\n"
   ]
  },
  {
   "cell_type": "code",
   "execution_count": 30,
   "id": "aa17426a",
   "metadata": {},
   "outputs": [
    {
     "name": "stderr",
     "output_type": "stream",
     "text": [
      "/Users/sbrewer/anaconda3/envs/rllib/lib/python3.11/site-packages/gymnasium/spaces/box.py:240: UserWarning: \u001b[33mWARN: Casting input x to numpy array.\u001b[0m\n",
      "  gym.logger.warn(\"Casting input x to numpy array.\")\n"
     ]
    },
    {
     "ename": "TypeError",
     "evalue": "ufunc 'isnan' not supported for the input types, and the inputs could not be safely coerced to any supported types according to the casting rule ''safe''",
     "output_type": "error",
     "traceback": [
      "\u001b[0;31m---------------------------------------------------------------------------\u001b[0m",
      "\u001b[0;31mTypeError\u001b[0m                                 Traceback (most recent call last)",
      "Cell \u001b[0;32mIn[30], line 5\u001b[0m\n\u001b[1;32m      2\u001b[0m \u001b[38;5;28;01mwhile\u001b[39;00m env\u001b[38;5;241m.\u001b[39magents:\n\u001b[1;32m      3\u001b[0m     actions \u001b[38;5;241m=\u001b[39m {agent: env\u001b[38;5;241m.\u001b[39maction_space(agent)\u001b[38;5;241m.\u001b[39msample() \u001b[38;5;28;01mfor\u001b[39;00m agent \u001b[38;5;129;01min\u001b[39;00m env\u001b[38;5;241m.\u001b[39magents}\n\u001b[0;32m----> 5\u001b[0m     observations, rewards, terminations, truncations, infos \u001b[38;5;241m=\u001b[39m env\u001b[38;5;241m.\u001b[39mstep(actions)\n\u001b[1;32m      6\u001b[0m     \u001b[38;5;28;01mbreak\u001b[39;00m\n\u001b[1;32m      7\u001b[0m env\u001b[38;5;241m.\u001b[39mclose()\n",
      "File \u001b[0;32m~/anaconda3/envs/rllib/lib/python3.11/site-packages/supersuit/generic_wrappers/utils/shared_wrapper_util.py:66\u001b[0m, in \u001b[0;36mshared_wrapper_aec.step\u001b[0;34m(self, action)\u001b[0m\n\u001b[1;32m     61\u001b[0m \u001b[38;5;28;01mif\u001b[39;00m (\n\u001b[1;32m     62\u001b[0m     \u001b[38;5;28mself\u001b[39m\u001b[38;5;241m.\u001b[39mterminations[\u001b[38;5;28mself\u001b[39m\u001b[38;5;241m.\u001b[39magent_selection]\n\u001b[1;32m     63\u001b[0m     \u001b[38;5;129;01mor\u001b[39;00m \u001b[38;5;28mself\u001b[39m\u001b[38;5;241m.\u001b[39mtruncations[\u001b[38;5;28mself\u001b[39m\u001b[38;5;241m.\u001b[39magent_selection]\n\u001b[1;32m     64\u001b[0m ):\n\u001b[1;32m     65\u001b[0m     action \u001b[38;5;241m=\u001b[39m \u001b[38;5;28;01mNone\u001b[39;00m\n\u001b[0;32m---> 66\u001b[0m \u001b[38;5;28msuper\u001b[39m()\u001b[38;5;241m.\u001b[39mstep(action)\n\u001b[1;32m     67\u001b[0m \u001b[38;5;28mself\u001b[39m\u001b[38;5;241m.\u001b[39madd_modifiers(\u001b[38;5;28mself\u001b[39m\u001b[38;5;241m.\u001b[39magents)\n\u001b[1;32m     68\u001b[0m \u001b[38;5;28mself\u001b[39m\u001b[38;5;241m.\u001b[39mmodifiers[\u001b[38;5;28mself\u001b[39m\u001b[38;5;241m.\u001b[39magent_selection]\u001b[38;5;241m.\u001b[39mmodify_obs(\n\u001b[1;32m     69\u001b[0m     \u001b[38;5;28msuper\u001b[39m()\u001b[38;5;241m.\u001b[39mobserve(\u001b[38;5;28mself\u001b[39m\u001b[38;5;241m.\u001b[39magent_selection)\n\u001b[1;32m     70\u001b[0m )\n",
      "File \u001b[0;32m~/anaconda3/envs/rllib/lib/python3.11/site-packages/pettingzoo/utils/wrappers/order_enforcing.py:91\u001b[0m, in \u001b[0;36mOrderEnforcingWrapper.step\u001b[0;34m(self, action)\u001b[0m\n\u001b[1;32m     89\u001b[0m \u001b[38;5;28;01melse\u001b[39;00m:\n\u001b[1;32m     90\u001b[0m     \u001b[38;5;28mself\u001b[39m\u001b[38;5;241m.\u001b[39m_has_updated \u001b[38;5;241m=\u001b[39m \u001b[38;5;28;01mTrue\u001b[39;00m\n\u001b[0;32m---> 91\u001b[0m     \u001b[38;5;28msuper\u001b[39m()\u001b[38;5;241m.\u001b[39mstep(action)\n",
      "File \u001b[0;32m~/anaconda3/envs/rllib/lib/python3.11/site-packages/pettingzoo/utils/wrappers/base.py:116\u001b[0m, in \u001b[0;36mBaseWrapper.step\u001b[0;34m(self, action)\u001b[0m\n\u001b[1;32m    115\u001b[0m \u001b[38;5;28;01mdef\u001b[39;00m \u001b[38;5;21mstep\u001b[39m(\u001b[38;5;28mself\u001b[39m, action: ActionType) \u001b[38;5;241m-\u001b[39m\u001b[38;5;241m>\u001b[39m \u001b[38;5;28;01mNone\u001b[39;00m:\n\u001b[0;32m--> 116\u001b[0m     \u001b[38;5;28mself\u001b[39m\u001b[38;5;241m.\u001b[39menv\u001b[38;5;241m.\u001b[39mstep(action)\n\u001b[1;32m    118\u001b[0m     \u001b[38;5;28mself\u001b[39m\u001b[38;5;241m.\u001b[39magent_selection \u001b[38;5;241m=\u001b[39m \u001b[38;5;28mself\u001b[39m\u001b[38;5;241m.\u001b[39menv\u001b[38;5;241m.\u001b[39magent_selection\n\u001b[1;32m    119\u001b[0m     \u001b[38;5;28mself\u001b[39m\u001b[38;5;241m.\u001b[39mrewards \u001b[38;5;241m=\u001b[39m \u001b[38;5;28mself\u001b[39m\u001b[38;5;241m.\u001b[39menv\u001b[38;5;241m.\u001b[39mrewards\n",
      "File \u001b[0;32m~/anaconda3/envs/rllib/lib/python3.11/site-packages/supersuit/utils/base_aec_wrapper.py:46\u001b[0m, in \u001b[0;36mBaseWrapper.step\u001b[0;34m(self, action)\u001b[0m\n\u001b[1;32m     43\u001b[0m \u001b[38;5;28;01mif\u001b[39;00m \u001b[38;5;129;01mnot\u001b[39;00m \u001b[38;5;28mself\u001b[39m\u001b[38;5;241m.\u001b[39mterminations[agent] \u001b[38;5;129;01mor\u001b[39;00m \u001b[38;5;28mself\u001b[39m\u001b[38;5;241m.\u001b[39mtruncations[agent]:\n\u001b[1;32m     44\u001b[0m     action \u001b[38;5;241m=\u001b[39m \u001b[38;5;28mself\u001b[39m\u001b[38;5;241m.\u001b[39m_modify_action(agent, action)\n\u001b[0;32m---> 46\u001b[0m \u001b[38;5;28msuper\u001b[39m()\u001b[38;5;241m.\u001b[39mstep(action)\n\u001b[1;32m     48\u001b[0m \u001b[38;5;28mself\u001b[39m\u001b[38;5;241m.\u001b[39m_update_step(\u001b[38;5;28mself\u001b[39m\u001b[38;5;241m.\u001b[39magent_selection)\n",
      "File \u001b[0;32m~/anaconda3/envs/rllib/lib/python3.11/site-packages/pettingzoo/utils/wrappers/order_enforcing.py:91\u001b[0m, in \u001b[0;36mOrderEnforcingWrapper.step\u001b[0;34m(self, action)\u001b[0m\n\u001b[1;32m     89\u001b[0m \u001b[38;5;28;01melse\u001b[39;00m:\n\u001b[1;32m     90\u001b[0m     \u001b[38;5;28mself\u001b[39m\u001b[38;5;241m.\u001b[39m_has_updated \u001b[38;5;241m=\u001b[39m \u001b[38;5;28;01mTrue\u001b[39;00m\n\u001b[0;32m---> 91\u001b[0m     \u001b[38;5;28msuper\u001b[39m()\u001b[38;5;241m.\u001b[39mstep(action)\n",
      "File \u001b[0;32m~/anaconda3/envs/rllib/lib/python3.11/site-packages/pettingzoo/utils/wrappers/base.py:116\u001b[0m, in \u001b[0;36mBaseWrapper.step\u001b[0;34m(self, action)\u001b[0m\n\u001b[1;32m    115\u001b[0m \u001b[38;5;28;01mdef\u001b[39;00m \u001b[38;5;21mstep\u001b[39m(\u001b[38;5;28mself\u001b[39m, action: ActionType) \u001b[38;5;241m-\u001b[39m\u001b[38;5;241m>\u001b[39m \u001b[38;5;28;01mNone\u001b[39;00m:\n\u001b[0;32m--> 116\u001b[0m     \u001b[38;5;28mself\u001b[39m\u001b[38;5;241m.\u001b[39menv\u001b[38;5;241m.\u001b[39mstep(action)\n\u001b[1;32m    118\u001b[0m     \u001b[38;5;28mself\u001b[39m\u001b[38;5;241m.\u001b[39magent_selection \u001b[38;5;241m=\u001b[39m \u001b[38;5;28mself\u001b[39m\u001b[38;5;241m.\u001b[39menv\u001b[38;5;241m.\u001b[39magent_selection\n\u001b[1;32m    119\u001b[0m     \u001b[38;5;28mself\u001b[39m\u001b[38;5;241m.\u001b[39mrewards \u001b[38;5;241m=\u001b[39m \u001b[38;5;28mself\u001b[39m\u001b[38;5;241m.\u001b[39menv\u001b[38;5;241m.\u001b[39mrewards\n",
      "File \u001b[0;32m~/anaconda3/envs/rllib/lib/python3.11/site-packages/supersuit/utils/base_aec_wrapper.py:46\u001b[0m, in \u001b[0;36mBaseWrapper.step\u001b[0;34m(self, action)\u001b[0m\n\u001b[1;32m     43\u001b[0m \u001b[38;5;28;01mif\u001b[39;00m \u001b[38;5;129;01mnot\u001b[39;00m \u001b[38;5;28mself\u001b[39m\u001b[38;5;241m.\u001b[39mterminations[agent] \u001b[38;5;129;01mor\u001b[39;00m \u001b[38;5;28mself\u001b[39m\u001b[38;5;241m.\u001b[39mtruncations[agent]:\n\u001b[1;32m     44\u001b[0m     action \u001b[38;5;241m=\u001b[39m \u001b[38;5;28mself\u001b[39m\u001b[38;5;241m.\u001b[39m_modify_action(agent, action)\n\u001b[0;32m---> 46\u001b[0m \u001b[38;5;28msuper\u001b[39m()\u001b[38;5;241m.\u001b[39mstep(action)\n\u001b[1;32m     48\u001b[0m \u001b[38;5;28mself\u001b[39m\u001b[38;5;241m.\u001b[39m_update_step(\u001b[38;5;28mself\u001b[39m\u001b[38;5;241m.\u001b[39magent_selection)\n",
      "    \u001b[0;31m[... skipping similar frames: OrderEnforcingWrapper.step at line 91 (2 times), BaseWrapper.step at line 116 (2 times), BaseWrapper.step at line 46 (1 times)]\u001b[0m\n",
      "File \u001b[0;32m~/anaconda3/envs/rllib/lib/python3.11/site-packages/supersuit/utils/base_aec_wrapper.py:46\u001b[0m, in \u001b[0;36mBaseWrapper.step\u001b[0;34m(self, action)\u001b[0m\n\u001b[1;32m     43\u001b[0m \u001b[38;5;28;01mif\u001b[39;00m \u001b[38;5;129;01mnot\u001b[39;00m \u001b[38;5;28mself\u001b[39m\u001b[38;5;241m.\u001b[39mterminations[agent] \u001b[38;5;129;01mor\u001b[39;00m \u001b[38;5;28mself\u001b[39m\u001b[38;5;241m.\u001b[39mtruncations[agent]:\n\u001b[1;32m     44\u001b[0m     action \u001b[38;5;241m=\u001b[39m \u001b[38;5;28mself\u001b[39m\u001b[38;5;241m.\u001b[39m_modify_action(agent, action)\n\u001b[0;32m---> 46\u001b[0m \u001b[38;5;28msuper\u001b[39m()\u001b[38;5;241m.\u001b[39mstep(action)\n\u001b[1;32m     48\u001b[0m \u001b[38;5;28mself\u001b[39m\u001b[38;5;241m.\u001b[39m_update_step(\u001b[38;5;28mself\u001b[39m\u001b[38;5;241m.\u001b[39magent_selection)\n",
      "    \u001b[0;31m[... skipping similar frames: OrderEnforcingWrapper.step at line 91 (1 times), BaseWrapper.step at line 116 (1 times)]\u001b[0m\n",
      "File \u001b[0;32m~/anaconda3/envs/rllib/lib/python3.11/site-packages/pettingzoo/utils/wrappers/order_enforcing.py:91\u001b[0m, in \u001b[0;36mOrderEnforcingWrapper.step\u001b[0;34m(self, action)\u001b[0m\n\u001b[1;32m     89\u001b[0m \u001b[38;5;28;01melse\u001b[39;00m:\n\u001b[1;32m     90\u001b[0m     \u001b[38;5;28mself\u001b[39m\u001b[38;5;241m.\u001b[39m_has_updated \u001b[38;5;241m=\u001b[39m \u001b[38;5;28;01mTrue\u001b[39;00m\n\u001b[0;32m---> 91\u001b[0m     \u001b[38;5;28msuper\u001b[39m()\u001b[38;5;241m.\u001b[39mstep(action)\n",
      "File \u001b[0;32m~/anaconda3/envs/rllib/lib/python3.11/site-packages/pettingzoo/utils/wrappers/base.py:116\u001b[0m, in \u001b[0;36mBaseWrapper.step\u001b[0;34m(self, action)\u001b[0m\n\u001b[1;32m    115\u001b[0m \u001b[38;5;28;01mdef\u001b[39;00m \u001b[38;5;21mstep\u001b[39m(\u001b[38;5;28mself\u001b[39m, action: ActionType) \u001b[38;5;241m-\u001b[39m\u001b[38;5;241m>\u001b[39m \u001b[38;5;28;01mNone\u001b[39;00m:\n\u001b[0;32m--> 116\u001b[0m     \u001b[38;5;28mself\u001b[39m\u001b[38;5;241m.\u001b[39menv\u001b[38;5;241m.\u001b[39mstep(action)\n\u001b[1;32m    118\u001b[0m     \u001b[38;5;28mself\u001b[39m\u001b[38;5;241m.\u001b[39magent_selection \u001b[38;5;241m=\u001b[39m \u001b[38;5;28mself\u001b[39m\u001b[38;5;241m.\u001b[39menv\u001b[38;5;241m.\u001b[39magent_selection\n\u001b[1;32m    119\u001b[0m     \u001b[38;5;28mself\u001b[39m\u001b[38;5;241m.\u001b[39mrewards \u001b[38;5;241m=\u001b[39m \u001b[38;5;28mself\u001b[39m\u001b[38;5;241m.\u001b[39menv\u001b[38;5;241m.\u001b[39mrewards\n",
      "File \u001b[0;32m~/anaconda3/envs/rllib/lib/python3.11/site-packages/pettingzoo/utils/wrappers/clip_out_of_bounds.py:36\u001b[0m, in \u001b[0;36mClipOutOfBoundsWrapper.step\u001b[0;34m(self, action)\u001b[0m\n\u001b[1;32m     28\u001b[0m space \u001b[38;5;241m=\u001b[39m \u001b[38;5;28mself\u001b[39m\u001b[38;5;241m.\u001b[39maction_space(\u001b[38;5;28mself\u001b[39m\u001b[38;5;241m.\u001b[39magent_selection)\n\u001b[1;32m     29\u001b[0m \u001b[38;5;28;01mif\u001b[39;00m \u001b[38;5;129;01mnot\u001b[39;00m (\n\u001b[1;32m     30\u001b[0m     action \u001b[38;5;129;01mis\u001b[39;00m \u001b[38;5;28;01mNone\u001b[39;00m\n\u001b[1;32m     31\u001b[0m     \u001b[38;5;129;01mand\u001b[39;00m (\n\u001b[0;32m   (...)\u001b[0m\n\u001b[1;32m     34\u001b[0m     )\n\u001b[1;32m     35\u001b[0m ) \u001b[38;5;129;01mand\u001b[39;00m \u001b[38;5;129;01mnot\u001b[39;00m space\u001b[38;5;241m.\u001b[39mcontains(action):\n\u001b[0;32m---> 36\u001b[0m     \u001b[38;5;28;01mif\u001b[39;00m action \u001b[38;5;129;01mis\u001b[39;00m \u001b[38;5;28;01mNone\u001b[39;00m \u001b[38;5;129;01mor\u001b[39;00m np\u001b[38;5;241m.\u001b[39misnan(action)\u001b[38;5;241m.\u001b[39many():\n\u001b[1;32m     37\u001b[0m         EnvLogger\u001b[38;5;241m.\u001b[39merror_nan_action()\n\u001b[1;32m     38\u001b[0m     \u001b[38;5;28;01massert\u001b[39;00m (\n\u001b[1;32m     39\u001b[0m         space\u001b[38;5;241m.\u001b[39mshape\n\u001b[1;32m     40\u001b[0m         \u001b[38;5;241m==\u001b[39m action\u001b[38;5;241m.\u001b[39mshape  \u001b[38;5;66;03m# pyright: ignore[reportOptionalMemberAccess]\u001b[39;00m\n\u001b[1;32m     41\u001b[0m     ), \u001b[38;5;124mf\u001b[39m\u001b[38;5;124m\"\u001b[39m\u001b[38;5;124maction should have shape \u001b[39m\u001b[38;5;132;01m{\u001b[39;00mspace\u001b[38;5;241m.\u001b[39mshape\u001b[38;5;132;01m}\u001b[39;00m\u001b[38;5;124m, has shape \u001b[39m\u001b[38;5;132;01m{\u001b[39;00maction\u001b[38;5;241m.\u001b[39mshape\u001b[38;5;132;01m}\u001b[39;00m\u001b[38;5;124m\"\u001b[39m  \u001b[38;5;66;03m# pyright: ignore[reportOptionalMemberAccess]\u001b[39;00m\n",
      "\u001b[0;31mTypeError\u001b[0m: ufunc 'isnan' not supported for the input types, and the inputs could not be safely coerced to any supported types according to the casting rule ''safe''"
     ]
    }
   ],
   "source": [
    "env.reset()\n",
    "while env.agents:\n",
    "    actions = {agent: env.action_space(agent).sample() for agent in env.agents}\n",
    "    \n",
    "    observations, rewards, terminations, truncations, infos = env.step(actions)\n",
    "    break\n",
    "env.close()"
   ]
  },
  {
   "cell_type": "code",
   "execution_count": 24,
   "id": "91886b91",
   "metadata": {},
   "outputs": [
    {
     "name": "stderr",
     "output_type": "stream",
     "text": [
      "/Users/sbrewer/anaconda3/envs/rllib/lib/python3.11/site-packages/gymnasium/spaces/box.py:240: UserWarning: \u001b[33mWARN: Casting input x to numpy array.\u001b[0m\n",
      "  gym.logger.warn(\"Casting input x to numpy array.\")\n"
     ]
    },
    {
     "ename": "TypeError",
     "evalue": "ufunc 'isnan' not supported for the input types, and the inputs could not be safely coerced to any supported types according to the casting rule ''safe''",
     "output_type": "error",
     "traceback": [
      "\u001b[0;31m---------------------------------------------------------------------------\u001b[0m",
      "\u001b[0;31mTypeError\u001b[0m                                 Traceback (most recent call last)",
      "Cell \u001b[0;32mIn[24], line 17\u001b[0m\n\u001b[1;32m     13\u001b[0m \u001b[38;5;28;01mwhile\u001b[39;00m env\u001b[38;5;241m.\u001b[39magents:\n\u001b[1;32m     15\u001b[0m     actions \u001b[38;5;241m=\u001b[39m {agent: env\u001b[38;5;241m.\u001b[39maction_space(agent)\u001b[38;5;241m.\u001b[39msample() \u001b[38;5;28;01mfor\u001b[39;00m agent \u001b[38;5;129;01min\u001b[39;00m env\u001b[38;5;241m.\u001b[39magents}\n\u001b[0;32m---> 17\u001b[0m     observations, rewards, terminations, truncations, infos \u001b[38;5;241m=\u001b[39m env\u001b[38;5;241m.\u001b[39mstep(actions)\n\u001b[1;32m     18\u001b[0m     episode_reward \u001b[38;5;241m+\u001b[39m\u001b[38;5;241m=\u001b[39m\u001b[38;5;28msum\u001b[39m(\u001b[38;5;28mlist\u001b[39m(rewards\u001b[38;5;241m.\u001b[39mvalues()))\n\u001b[1;32m     20\u001b[0m     stp_cnt \u001b[38;5;241m+\u001b[39m\u001b[38;5;241m=\u001b[39m \u001b[38;5;241m1\u001b[39m\n",
      "File \u001b[0;32m~/anaconda3/envs/rllib/lib/python3.11/site-packages/supersuit/generic_wrappers/utils/shared_wrapper_util.py:66\u001b[0m, in \u001b[0;36mshared_wrapper_aec.step\u001b[0;34m(self, action)\u001b[0m\n\u001b[1;32m     61\u001b[0m \u001b[38;5;28;01mif\u001b[39;00m (\n\u001b[1;32m     62\u001b[0m     \u001b[38;5;28mself\u001b[39m\u001b[38;5;241m.\u001b[39mterminations[\u001b[38;5;28mself\u001b[39m\u001b[38;5;241m.\u001b[39magent_selection]\n\u001b[1;32m     63\u001b[0m     \u001b[38;5;129;01mor\u001b[39;00m \u001b[38;5;28mself\u001b[39m\u001b[38;5;241m.\u001b[39mtruncations[\u001b[38;5;28mself\u001b[39m\u001b[38;5;241m.\u001b[39magent_selection]\n\u001b[1;32m     64\u001b[0m ):\n\u001b[1;32m     65\u001b[0m     action \u001b[38;5;241m=\u001b[39m \u001b[38;5;28;01mNone\u001b[39;00m\n\u001b[0;32m---> 66\u001b[0m \u001b[38;5;28msuper\u001b[39m()\u001b[38;5;241m.\u001b[39mstep(action)\n\u001b[1;32m     67\u001b[0m \u001b[38;5;28mself\u001b[39m\u001b[38;5;241m.\u001b[39madd_modifiers(\u001b[38;5;28mself\u001b[39m\u001b[38;5;241m.\u001b[39magents)\n\u001b[1;32m     68\u001b[0m \u001b[38;5;28mself\u001b[39m\u001b[38;5;241m.\u001b[39mmodifiers[\u001b[38;5;28mself\u001b[39m\u001b[38;5;241m.\u001b[39magent_selection]\u001b[38;5;241m.\u001b[39mmodify_obs(\n\u001b[1;32m     69\u001b[0m     \u001b[38;5;28msuper\u001b[39m()\u001b[38;5;241m.\u001b[39mobserve(\u001b[38;5;28mself\u001b[39m\u001b[38;5;241m.\u001b[39magent_selection)\n\u001b[1;32m     70\u001b[0m )\n",
      "File \u001b[0;32m~/anaconda3/envs/rllib/lib/python3.11/site-packages/pettingzoo/utils/wrappers/order_enforcing.py:91\u001b[0m, in \u001b[0;36mOrderEnforcingWrapper.step\u001b[0;34m(self, action)\u001b[0m\n\u001b[1;32m     89\u001b[0m \u001b[38;5;28;01melse\u001b[39;00m:\n\u001b[1;32m     90\u001b[0m     \u001b[38;5;28mself\u001b[39m\u001b[38;5;241m.\u001b[39m_has_updated \u001b[38;5;241m=\u001b[39m \u001b[38;5;28;01mTrue\u001b[39;00m\n\u001b[0;32m---> 91\u001b[0m     \u001b[38;5;28msuper\u001b[39m()\u001b[38;5;241m.\u001b[39mstep(action)\n",
      "File \u001b[0;32m~/anaconda3/envs/rllib/lib/python3.11/site-packages/pettingzoo/utils/wrappers/base.py:116\u001b[0m, in \u001b[0;36mBaseWrapper.step\u001b[0;34m(self, action)\u001b[0m\n\u001b[1;32m    115\u001b[0m \u001b[38;5;28;01mdef\u001b[39;00m \u001b[38;5;21mstep\u001b[39m(\u001b[38;5;28mself\u001b[39m, action: ActionType) \u001b[38;5;241m-\u001b[39m\u001b[38;5;241m>\u001b[39m \u001b[38;5;28;01mNone\u001b[39;00m:\n\u001b[0;32m--> 116\u001b[0m     \u001b[38;5;28mself\u001b[39m\u001b[38;5;241m.\u001b[39menv\u001b[38;5;241m.\u001b[39mstep(action)\n\u001b[1;32m    118\u001b[0m     \u001b[38;5;28mself\u001b[39m\u001b[38;5;241m.\u001b[39magent_selection \u001b[38;5;241m=\u001b[39m \u001b[38;5;28mself\u001b[39m\u001b[38;5;241m.\u001b[39menv\u001b[38;5;241m.\u001b[39magent_selection\n\u001b[1;32m    119\u001b[0m     \u001b[38;5;28mself\u001b[39m\u001b[38;5;241m.\u001b[39mrewards \u001b[38;5;241m=\u001b[39m \u001b[38;5;28mself\u001b[39m\u001b[38;5;241m.\u001b[39menv\u001b[38;5;241m.\u001b[39mrewards\n",
      "File \u001b[0;32m~/anaconda3/envs/rllib/lib/python3.11/site-packages/supersuit/utils/base_aec_wrapper.py:46\u001b[0m, in \u001b[0;36mBaseWrapper.step\u001b[0;34m(self, action)\u001b[0m\n\u001b[1;32m     43\u001b[0m \u001b[38;5;28;01mif\u001b[39;00m \u001b[38;5;129;01mnot\u001b[39;00m \u001b[38;5;28mself\u001b[39m\u001b[38;5;241m.\u001b[39mterminations[agent] \u001b[38;5;129;01mor\u001b[39;00m \u001b[38;5;28mself\u001b[39m\u001b[38;5;241m.\u001b[39mtruncations[agent]:\n\u001b[1;32m     44\u001b[0m     action \u001b[38;5;241m=\u001b[39m \u001b[38;5;28mself\u001b[39m\u001b[38;5;241m.\u001b[39m_modify_action(agent, action)\n\u001b[0;32m---> 46\u001b[0m \u001b[38;5;28msuper\u001b[39m()\u001b[38;5;241m.\u001b[39mstep(action)\n\u001b[1;32m     48\u001b[0m \u001b[38;5;28mself\u001b[39m\u001b[38;5;241m.\u001b[39m_update_step(\u001b[38;5;28mself\u001b[39m\u001b[38;5;241m.\u001b[39magent_selection)\n",
      "File \u001b[0;32m~/anaconda3/envs/rllib/lib/python3.11/site-packages/pettingzoo/utils/wrappers/order_enforcing.py:91\u001b[0m, in \u001b[0;36mOrderEnforcingWrapper.step\u001b[0;34m(self, action)\u001b[0m\n\u001b[1;32m     89\u001b[0m \u001b[38;5;28;01melse\u001b[39;00m:\n\u001b[1;32m     90\u001b[0m     \u001b[38;5;28mself\u001b[39m\u001b[38;5;241m.\u001b[39m_has_updated \u001b[38;5;241m=\u001b[39m \u001b[38;5;28;01mTrue\u001b[39;00m\n\u001b[0;32m---> 91\u001b[0m     \u001b[38;5;28msuper\u001b[39m()\u001b[38;5;241m.\u001b[39mstep(action)\n",
      "File \u001b[0;32m~/anaconda3/envs/rllib/lib/python3.11/site-packages/pettingzoo/utils/wrappers/base.py:116\u001b[0m, in \u001b[0;36mBaseWrapper.step\u001b[0;34m(self, action)\u001b[0m\n\u001b[1;32m    115\u001b[0m \u001b[38;5;28;01mdef\u001b[39;00m \u001b[38;5;21mstep\u001b[39m(\u001b[38;5;28mself\u001b[39m, action: ActionType) \u001b[38;5;241m-\u001b[39m\u001b[38;5;241m>\u001b[39m \u001b[38;5;28;01mNone\u001b[39;00m:\n\u001b[0;32m--> 116\u001b[0m     \u001b[38;5;28mself\u001b[39m\u001b[38;5;241m.\u001b[39menv\u001b[38;5;241m.\u001b[39mstep(action)\n\u001b[1;32m    118\u001b[0m     \u001b[38;5;28mself\u001b[39m\u001b[38;5;241m.\u001b[39magent_selection \u001b[38;5;241m=\u001b[39m \u001b[38;5;28mself\u001b[39m\u001b[38;5;241m.\u001b[39menv\u001b[38;5;241m.\u001b[39magent_selection\n\u001b[1;32m    119\u001b[0m     \u001b[38;5;28mself\u001b[39m\u001b[38;5;241m.\u001b[39mrewards \u001b[38;5;241m=\u001b[39m \u001b[38;5;28mself\u001b[39m\u001b[38;5;241m.\u001b[39menv\u001b[38;5;241m.\u001b[39mrewards\n",
      "File \u001b[0;32m~/anaconda3/envs/rllib/lib/python3.11/site-packages/supersuit/utils/base_aec_wrapper.py:46\u001b[0m, in \u001b[0;36mBaseWrapper.step\u001b[0;34m(self, action)\u001b[0m\n\u001b[1;32m     43\u001b[0m \u001b[38;5;28;01mif\u001b[39;00m \u001b[38;5;129;01mnot\u001b[39;00m \u001b[38;5;28mself\u001b[39m\u001b[38;5;241m.\u001b[39mterminations[agent] \u001b[38;5;129;01mor\u001b[39;00m \u001b[38;5;28mself\u001b[39m\u001b[38;5;241m.\u001b[39mtruncations[agent]:\n\u001b[1;32m     44\u001b[0m     action \u001b[38;5;241m=\u001b[39m \u001b[38;5;28mself\u001b[39m\u001b[38;5;241m.\u001b[39m_modify_action(agent, action)\n\u001b[0;32m---> 46\u001b[0m \u001b[38;5;28msuper\u001b[39m()\u001b[38;5;241m.\u001b[39mstep(action)\n\u001b[1;32m     48\u001b[0m \u001b[38;5;28mself\u001b[39m\u001b[38;5;241m.\u001b[39m_update_step(\u001b[38;5;28mself\u001b[39m\u001b[38;5;241m.\u001b[39magent_selection)\n",
      "    \u001b[0;31m[... skipping similar frames: OrderEnforcingWrapper.step at line 91 (2 times), BaseWrapper.step at line 116 (2 times), BaseWrapper.step at line 46 (1 times)]\u001b[0m\n",
      "File \u001b[0;32m~/anaconda3/envs/rllib/lib/python3.11/site-packages/supersuit/utils/base_aec_wrapper.py:46\u001b[0m, in \u001b[0;36mBaseWrapper.step\u001b[0;34m(self, action)\u001b[0m\n\u001b[1;32m     43\u001b[0m \u001b[38;5;28;01mif\u001b[39;00m \u001b[38;5;129;01mnot\u001b[39;00m \u001b[38;5;28mself\u001b[39m\u001b[38;5;241m.\u001b[39mterminations[agent] \u001b[38;5;129;01mor\u001b[39;00m \u001b[38;5;28mself\u001b[39m\u001b[38;5;241m.\u001b[39mtruncations[agent]:\n\u001b[1;32m     44\u001b[0m     action \u001b[38;5;241m=\u001b[39m \u001b[38;5;28mself\u001b[39m\u001b[38;5;241m.\u001b[39m_modify_action(agent, action)\n\u001b[0;32m---> 46\u001b[0m \u001b[38;5;28msuper\u001b[39m()\u001b[38;5;241m.\u001b[39mstep(action)\n\u001b[1;32m     48\u001b[0m \u001b[38;5;28mself\u001b[39m\u001b[38;5;241m.\u001b[39m_update_step(\u001b[38;5;28mself\u001b[39m\u001b[38;5;241m.\u001b[39magent_selection)\n",
      "    \u001b[0;31m[... skipping similar frames: OrderEnforcingWrapper.step at line 91 (1 times), BaseWrapper.step at line 116 (1 times)]\u001b[0m\n",
      "File \u001b[0;32m~/anaconda3/envs/rllib/lib/python3.11/site-packages/pettingzoo/utils/wrappers/order_enforcing.py:91\u001b[0m, in \u001b[0;36mOrderEnforcingWrapper.step\u001b[0;34m(self, action)\u001b[0m\n\u001b[1;32m     89\u001b[0m \u001b[38;5;28;01melse\u001b[39;00m:\n\u001b[1;32m     90\u001b[0m     \u001b[38;5;28mself\u001b[39m\u001b[38;5;241m.\u001b[39m_has_updated \u001b[38;5;241m=\u001b[39m \u001b[38;5;28;01mTrue\u001b[39;00m\n\u001b[0;32m---> 91\u001b[0m     \u001b[38;5;28msuper\u001b[39m()\u001b[38;5;241m.\u001b[39mstep(action)\n",
      "File \u001b[0;32m~/anaconda3/envs/rllib/lib/python3.11/site-packages/pettingzoo/utils/wrappers/base.py:116\u001b[0m, in \u001b[0;36mBaseWrapper.step\u001b[0;34m(self, action)\u001b[0m\n\u001b[1;32m    115\u001b[0m \u001b[38;5;28;01mdef\u001b[39;00m \u001b[38;5;21mstep\u001b[39m(\u001b[38;5;28mself\u001b[39m, action: ActionType) \u001b[38;5;241m-\u001b[39m\u001b[38;5;241m>\u001b[39m \u001b[38;5;28;01mNone\u001b[39;00m:\n\u001b[0;32m--> 116\u001b[0m     \u001b[38;5;28mself\u001b[39m\u001b[38;5;241m.\u001b[39menv\u001b[38;5;241m.\u001b[39mstep(action)\n\u001b[1;32m    118\u001b[0m     \u001b[38;5;28mself\u001b[39m\u001b[38;5;241m.\u001b[39magent_selection \u001b[38;5;241m=\u001b[39m \u001b[38;5;28mself\u001b[39m\u001b[38;5;241m.\u001b[39menv\u001b[38;5;241m.\u001b[39magent_selection\n\u001b[1;32m    119\u001b[0m     \u001b[38;5;28mself\u001b[39m\u001b[38;5;241m.\u001b[39mrewards \u001b[38;5;241m=\u001b[39m \u001b[38;5;28mself\u001b[39m\u001b[38;5;241m.\u001b[39menv\u001b[38;5;241m.\u001b[39mrewards\n",
      "File \u001b[0;32m~/anaconda3/envs/rllib/lib/python3.11/site-packages/pettingzoo/utils/wrappers/clip_out_of_bounds.py:36\u001b[0m, in \u001b[0;36mClipOutOfBoundsWrapper.step\u001b[0;34m(self, action)\u001b[0m\n\u001b[1;32m     28\u001b[0m space \u001b[38;5;241m=\u001b[39m \u001b[38;5;28mself\u001b[39m\u001b[38;5;241m.\u001b[39maction_space(\u001b[38;5;28mself\u001b[39m\u001b[38;5;241m.\u001b[39magent_selection)\n\u001b[1;32m     29\u001b[0m \u001b[38;5;28;01mif\u001b[39;00m \u001b[38;5;129;01mnot\u001b[39;00m (\n\u001b[1;32m     30\u001b[0m     action \u001b[38;5;129;01mis\u001b[39;00m \u001b[38;5;28;01mNone\u001b[39;00m\n\u001b[1;32m     31\u001b[0m     \u001b[38;5;129;01mand\u001b[39;00m (\n\u001b[0;32m   (...)\u001b[0m\n\u001b[1;32m     34\u001b[0m     )\n\u001b[1;32m     35\u001b[0m ) \u001b[38;5;129;01mand\u001b[39;00m \u001b[38;5;129;01mnot\u001b[39;00m space\u001b[38;5;241m.\u001b[39mcontains(action):\n\u001b[0;32m---> 36\u001b[0m     \u001b[38;5;28;01mif\u001b[39;00m action \u001b[38;5;129;01mis\u001b[39;00m \u001b[38;5;28;01mNone\u001b[39;00m \u001b[38;5;129;01mor\u001b[39;00m np\u001b[38;5;241m.\u001b[39misnan(action)\u001b[38;5;241m.\u001b[39many():\n\u001b[1;32m     37\u001b[0m         EnvLogger\u001b[38;5;241m.\u001b[39merror_nan_action()\n\u001b[1;32m     38\u001b[0m     \u001b[38;5;28;01massert\u001b[39;00m (\n\u001b[1;32m     39\u001b[0m         space\u001b[38;5;241m.\u001b[39mshape\n\u001b[1;32m     40\u001b[0m         \u001b[38;5;241m==\u001b[39m action\u001b[38;5;241m.\u001b[39mshape  \u001b[38;5;66;03m# pyright: ignore[reportOptionalMemberAccess]\u001b[39;00m\n\u001b[1;32m     41\u001b[0m     ), \u001b[38;5;124mf\u001b[39m\u001b[38;5;124m\"\u001b[39m\u001b[38;5;124maction should have shape \u001b[39m\u001b[38;5;132;01m{\u001b[39;00mspace\u001b[38;5;241m.\u001b[39mshape\u001b[38;5;132;01m}\u001b[39;00m\u001b[38;5;124m, has shape \u001b[39m\u001b[38;5;132;01m{\u001b[39;00maction\u001b[38;5;241m.\u001b[39mshape\u001b[38;5;132;01m}\u001b[39;00m\u001b[38;5;124m\"\u001b[39m  \u001b[38;5;66;03m# pyright: ignore[reportOptionalMemberAccess]\u001b[39;00m\n",
      "\u001b[0;31mTypeError\u001b[0m: ufunc 'isnan' not supported for the input types, and the inputs could not be safely coerced to any supported types according to the casting rule ''safe''"
     ]
    }
   ],
   "source": [
    "\n",
    "\n",
    "\n",
    "reward_lst=[]\n",
    "\n",
    "episode_reward = 0\n",
    "stp_cnt = 0\n",
    "\n",
    "env.reset()\n",
    "\n",
    "while env.agents:\n",
    "    \n",
    "    actions = {agent: env.action_space(agent).sample() for agent in env.agents}\n",
    "    \n",
    "    observations, rewards, terminations, truncations, infos = env.step(actions)\n",
    "    episode_reward +=sum(list(rewards.values()))\n",
    "\n",
    "    stp_cnt += 1\n",
    "    #if stp_cnt % (len(env.possible_agents) + 1) == 0 and n==N-1:\n",
    "    clear_output(wait=True)\n",
    "    plt.imshow( env.render())\n",
    "    plt.title(f'Reward: {round(episode_reward,1)}, {n}')\n",
    "    plt.show()\n",
    "\n",
    "#reward_lst.append(episode_reward)\n",
    "\n",
    "env.close()"
   ]
  },
  {
   "cell_type": "code",
   "execution_count": null,
   "id": "fc787393",
   "metadata": {},
   "outputs": [],
   "source": []
  },
  {
   "cell_type": "code",
   "execution_count": null,
   "id": "b72a14d0",
   "metadata": {},
   "outputs": [],
   "source": []
  },
  {
   "cell_type": "code",
   "execution_count": 47,
   "id": "c6b9f96e",
   "metadata": {},
   "outputs": [
    {
     "name": "stderr",
     "output_type": "stream",
     "text": [
      "/Users/sbrewer/anaconda3/envs/rllib/lib/python3.11/site-packages/gymnasium/spaces/box.py:240: UserWarning: \u001b[33mWARN: Casting input x to numpy array.\u001b[0m\n",
      "  gym.logger.warn(\"Casting input x to numpy array.\")\n"
     ]
    },
    {
     "ename": "TypeError",
     "evalue": "ufunc 'isnan' not supported for the input types, and the inputs could not be safely coerced to any supported types according to the casting rule ''safe''",
     "output_type": "error",
     "traceback": [
      "\u001b[0;31m---------------------------------------------------------------------------\u001b[0m",
      "\u001b[0;31mTypeError\u001b[0m                                 Traceback (most recent call last)",
      "Cell \u001b[0;32mIn[47], line 14\u001b[0m\n\u001b[1;32m     10\u001b[0m \u001b[38;5;28;01mwhile\u001b[39;00m env\u001b[38;5;241m.\u001b[39magents:\n\u001b[1;32m     11\u001b[0m     \u001b[38;5;66;03m# this is where you would insert your policy\u001b[39;00m\n\u001b[1;32m     12\u001b[0m     actions \u001b[38;5;241m=\u001b[39m {agent: env\u001b[38;5;241m.\u001b[39maction_space(agent)\u001b[38;5;241m.\u001b[39msample() \u001b[38;5;28;01mfor\u001b[39;00m agent \u001b[38;5;129;01min\u001b[39;00m env\u001b[38;5;241m.\u001b[39magents}\n\u001b[0;32m---> 14\u001b[0m     observations, rewards, terminations, truncations, infos \u001b[38;5;241m=\u001b[39m env\u001b[38;5;241m.\u001b[39mstep(actions)\n\u001b[1;32m     15\u001b[0m     episode_reward\u001b[38;5;241m+\u001b[39m\u001b[38;5;241m=\u001b[39m\u001b[38;5;28msum\u001b[39m(\u001b[38;5;28mlist\u001b[39m(rewards\u001b[38;5;241m.\u001b[39mvalues()))\n\u001b[1;32m     17\u001b[0m \u001b[38;5;250m    \u001b[39m\u001b[38;5;124;03m'''if n == N-1:            \u001b[39;00m\n\u001b[1;32m     18\u001b[0m \u001b[38;5;124;03m        clear_output(wait=True)\u001b[39;00m\n\u001b[1;32m     19\u001b[0m \u001b[38;5;124;03m        plt.imshow( env.render())\u001b[39;00m\n\u001b[1;32m     20\u001b[0m \u001b[38;5;124;03m        plt.title(f'Reward: {int(episode_reward)}, Step Count: {stp_cnt}')\u001b[39;00m\n\u001b[1;32m     21\u001b[0m \u001b[38;5;124;03m        plt.show()\u001b[39;00m\n\u001b[1;32m     22\u001b[0m \u001b[38;5;124;03m        stp_cnt+=1   '''\u001b[39;00m   \n",
      "File \u001b[0;32m~/anaconda3/envs/rllib/lib/python3.11/site-packages/supersuit/generic_wrappers/utils/shared_wrapper_util.py:66\u001b[0m, in \u001b[0;36mshared_wrapper_aec.step\u001b[0;34m(self, action)\u001b[0m\n\u001b[1;32m     61\u001b[0m \u001b[38;5;28;01mif\u001b[39;00m (\n\u001b[1;32m     62\u001b[0m     \u001b[38;5;28mself\u001b[39m\u001b[38;5;241m.\u001b[39mterminations[\u001b[38;5;28mself\u001b[39m\u001b[38;5;241m.\u001b[39magent_selection]\n\u001b[1;32m     63\u001b[0m     \u001b[38;5;129;01mor\u001b[39;00m \u001b[38;5;28mself\u001b[39m\u001b[38;5;241m.\u001b[39mtruncations[\u001b[38;5;28mself\u001b[39m\u001b[38;5;241m.\u001b[39magent_selection]\n\u001b[1;32m     64\u001b[0m ):\n\u001b[1;32m     65\u001b[0m     action \u001b[38;5;241m=\u001b[39m \u001b[38;5;28;01mNone\u001b[39;00m\n\u001b[0;32m---> 66\u001b[0m \u001b[38;5;28msuper\u001b[39m()\u001b[38;5;241m.\u001b[39mstep(action)\n\u001b[1;32m     67\u001b[0m \u001b[38;5;28mself\u001b[39m\u001b[38;5;241m.\u001b[39madd_modifiers(\u001b[38;5;28mself\u001b[39m\u001b[38;5;241m.\u001b[39magents)\n\u001b[1;32m     68\u001b[0m \u001b[38;5;28mself\u001b[39m\u001b[38;5;241m.\u001b[39mmodifiers[\u001b[38;5;28mself\u001b[39m\u001b[38;5;241m.\u001b[39magent_selection]\u001b[38;5;241m.\u001b[39mmodify_obs(\n\u001b[1;32m     69\u001b[0m     \u001b[38;5;28msuper\u001b[39m()\u001b[38;5;241m.\u001b[39mobserve(\u001b[38;5;28mself\u001b[39m\u001b[38;5;241m.\u001b[39magent_selection)\n\u001b[1;32m     70\u001b[0m )\n",
      "File \u001b[0;32m~/anaconda3/envs/rllib/lib/python3.11/site-packages/pettingzoo/utils/wrappers/order_enforcing.py:91\u001b[0m, in \u001b[0;36mOrderEnforcingWrapper.step\u001b[0;34m(self, action)\u001b[0m\n\u001b[1;32m     89\u001b[0m \u001b[38;5;28;01melse\u001b[39;00m:\n\u001b[1;32m     90\u001b[0m     \u001b[38;5;28mself\u001b[39m\u001b[38;5;241m.\u001b[39m_has_updated \u001b[38;5;241m=\u001b[39m \u001b[38;5;28;01mTrue\u001b[39;00m\n\u001b[0;32m---> 91\u001b[0m     \u001b[38;5;28msuper\u001b[39m()\u001b[38;5;241m.\u001b[39mstep(action)\n",
      "File \u001b[0;32m~/anaconda3/envs/rllib/lib/python3.11/site-packages/pettingzoo/utils/wrappers/base.py:116\u001b[0m, in \u001b[0;36mBaseWrapper.step\u001b[0;34m(self, action)\u001b[0m\n\u001b[1;32m    115\u001b[0m \u001b[38;5;28;01mdef\u001b[39;00m \u001b[38;5;21mstep\u001b[39m(\u001b[38;5;28mself\u001b[39m, action: ActionType) \u001b[38;5;241m-\u001b[39m\u001b[38;5;241m>\u001b[39m \u001b[38;5;28;01mNone\u001b[39;00m:\n\u001b[0;32m--> 116\u001b[0m     \u001b[38;5;28mself\u001b[39m\u001b[38;5;241m.\u001b[39menv\u001b[38;5;241m.\u001b[39mstep(action)\n\u001b[1;32m    118\u001b[0m     \u001b[38;5;28mself\u001b[39m\u001b[38;5;241m.\u001b[39magent_selection \u001b[38;5;241m=\u001b[39m \u001b[38;5;28mself\u001b[39m\u001b[38;5;241m.\u001b[39menv\u001b[38;5;241m.\u001b[39magent_selection\n\u001b[1;32m    119\u001b[0m     \u001b[38;5;28mself\u001b[39m\u001b[38;5;241m.\u001b[39mrewards \u001b[38;5;241m=\u001b[39m \u001b[38;5;28mself\u001b[39m\u001b[38;5;241m.\u001b[39menv\u001b[38;5;241m.\u001b[39mrewards\n",
      "File \u001b[0;32m~/anaconda3/envs/rllib/lib/python3.11/site-packages/supersuit/utils/base_aec_wrapper.py:46\u001b[0m, in \u001b[0;36mBaseWrapper.step\u001b[0;34m(self, action)\u001b[0m\n\u001b[1;32m     43\u001b[0m \u001b[38;5;28;01mif\u001b[39;00m \u001b[38;5;129;01mnot\u001b[39;00m \u001b[38;5;28mself\u001b[39m\u001b[38;5;241m.\u001b[39mterminations[agent] \u001b[38;5;129;01mor\u001b[39;00m \u001b[38;5;28mself\u001b[39m\u001b[38;5;241m.\u001b[39mtruncations[agent]:\n\u001b[1;32m     44\u001b[0m     action \u001b[38;5;241m=\u001b[39m \u001b[38;5;28mself\u001b[39m\u001b[38;5;241m.\u001b[39m_modify_action(agent, action)\n\u001b[0;32m---> 46\u001b[0m \u001b[38;5;28msuper\u001b[39m()\u001b[38;5;241m.\u001b[39mstep(action)\n\u001b[1;32m     48\u001b[0m \u001b[38;5;28mself\u001b[39m\u001b[38;5;241m.\u001b[39m_update_step(\u001b[38;5;28mself\u001b[39m\u001b[38;5;241m.\u001b[39magent_selection)\n",
      "File \u001b[0;32m~/anaconda3/envs/rllib/lib/python3.11/site-packages/pettingzoo/utils/wrappers/order_enforcing.py:91\u001b[0m, in \u001b[0;36mOrderEnforcingWrapper.step\u001b[0;34m(self, action)\u001b[0m\n\u001b[1;32m     89\u001b[0m \u001b[38;5;28;01melse\u001b[39;00m:\n\u001b[1;32m     90\u001b[0m     \u001b[38;5;28mself\u001b[39m\u001b[38;5;241m.\u001b[39m_has_updated \u001b[38;5;241m=\u001b[39m \u001b[38;5;28;01mTrue\u001b[39;00m\n\u001b[0;32m---> 91\u001b[0m     \u001b[38;5;28msuper\u001b[39m()\u001b[38;5;241m.\u001b[39mstep(action)\n",
      "File \u001b[0;32m~/anaconda3/envs/rllib/lib/python3.11/site-packages/pettingzoo/utils/wrappers/base.py:116\u001b[0m, in \u001b[0;36mBaseWrapper.step\u001b[0;34m(self, action)\u001b[0m\n\u001b[1;32m    115\u001b[0m \u001b[38;5;28;01mdef\u001b[39;00m \u001b[38;5;21mstep\u001b[39m(\u001b[38;5;28mself\u001b[39m, action: ActionType) \u001b[38;5;241m-\u001b[39m\u001b[38;5;241m>\u001b[39m \u001b[38;5;28;01mNone\u001b[39;00m:\n\u001b[0;32m--> 116\u001b[0m     \u001b[38;5;28mself\u001b[39m\u001b[38;5;241m.\u001b[39menv\u001b[38;5;241m.\u001b[39mstep(action)\n\u001b[1;32m    118\u001b[0m     \u001b[38;5;28mself\u001b[39m\u001b[38;5;241m.\u001b[39magent_selection \u001b[38;5;241m=\u001b[39m \u001b[38;5;28mself\u001b[39m\u001b[38;5;241m.\u001b[39menv\u001b[38;5;241m.\u001b[39magent_selection\n\u001b[1;32m    119\u001b[0m     \u001b[38;5;28mself\u001b[39m\u001b[38;5;241m.\u001b[39mrewards \u001b[38;5;241m=\u001b[39m \u001b[38;5;28mself\u001b[39m\u001b[38;5;241m.\u001b[39menv\u001b[38;5;241m.\u001b[39mrewards\n",
      "File \u001b[0;32m~/anaconda3/envs/rllib/lib/python3.11/site-packages/supersuit/utils/base_aec_wrapper.py:46\u001b[0m, in \u001b[0;36mBaseWrapper.step\u001b[0;34m(self, action)\u001b[0m\n\u001b[1;32m     43\u001b[0m \u001b[38;5;28;01mif\u001b[39;00m \u001b[38;5;129;01mnot\u001b[39;00m \u001b[38;5;28mself\u001b[39m\u001b[38;5;241m.\u001b[39mterminations[agent] \u001b[38;5;129;01mor\u001b[39;00m \u001b[38;5;28mself\u001b[39m\u001b[38;5;241m.\u001b[39mtruncations[agent]:\n\u001b[1;32m     44\u001b[0m     action \u001b[38;5;241m=\u001b[39m \u001b[38;5;28mself\u001b[39m\u001b[38;5;241m.\u001b[39m_modify_action(agent, action)\n\u001b[0;32m---> 46\u001b[0m \u001b[38;5;28msuper\u001b[39m()\u001b[38;5;241m.\u001b[39mstep(action)\n\u001b[1;32m     48\u001b[0m \u001b[38;5;28mself\u001b[39m\u001b[38;5;241m.\u001b[39m_update_step(\u001b[38;5;28mself\u001b[39m\u001b[38;5;241m.\u001b[39magent_selection)\n",
      "    \u001b[0;31m[... skipping similar frames: OrderEnforcingWrapper.step at line 91 (2 times), BaseWrapper.step at line 116 (2 times), BaseWrapper.step at line 46 (1 times)]\u001b[0m\n",
      "File \u001b[0;32m~/anaconda3/envs/rllib/lib/python3.11/site-packages/supersuit/utils/base_aec_wrapper.py:46\u001b[0m, in \u001b[0;36mBaseWrapper.step\u001b[0;34m(self, action)\u001b[0m\n\u001b[1;32m     43\u001b[0m \u001b[38;5;28;01mif\u001b[39;00m \u001b[38;5;129;01mnot\u001b[39;00m \u001b[38;5;28mself\u001b[39m\u001b[38;5;241m.\u001b[39mterminations[agent] \u001b[38;5;129;01mor\u001b[39;00m \u001b[38;5;28mself\u001b[39m\u001b[38;5;241m.\u001b[39mtruncations[agent]:\n\u001b[1;32m     44\u001b[0m     action \u001b[38;5;241m=\u001b[39m \u001b[38;5;28mself\u001b[39m\u001b[38;5;241m.\u001b[39m_modify_action(agent, action)\n\u001b[0;32m---> 46\u001b[0m \u001b[38;5;28msuper\u001b[39m()\u001b[38;5;241m.\u001b[39mstep(action)\n\u001b[1;32m     48\u001b[0m \u001b[38;5;28mself\u001b[39m\u001b[38;5;241m.\u001b[39m_update_step(\u001b[38;5;28mself\u001b[39m\u001b[38;5;241m.\u001b[39magent_selection)\n",
      "    \u001b[0;31m[... skipping similar frames: OrderEnforcingWrapper.step at line 91 (1 times), BaseWrapper.step at line 116 (1 times)]\u001b[0m\n",
      "File \u001b[0;32m~/anaconda3/envs/rllib/lib/python3.11/site-packages/pettingzoo/utils/wrappers/order_enforcing.py:91\u001b[0m, in \u001b[0;36mOrderEnforcingWrapper.step\u001b[0;34m(self, action)\u001b[0m\n\u001b[1;32m     89\u001b[0m \u001b[38;5;28;01melse\u001b[39;00m:\n\u001b[1;32m     90\u001b[0m     \u001b[38;5;28mself\u001b[39m\u001b[38;5;241m.\u001b[39m_has_updated \u001b[38;5;241m=\u001b[39m \u001b[38;5;28;01mTrue\u001b[39;00m\n\u001b[0;32m---> 91\u001b[0m     \u001b[38;5;28msuper\u001b[39m()\u001b[38;5;241m.\u001b[39mstep(action)\n",
      "File \u001b[0;32m~/anaconda3/envs/rllib/lib/python3.11/site-packages/pettingzoo/utils/wrappers/base.py:116\u001b[0m, in \u001b[0;36mBaseWrapper.step\u001b[0;34m(self, action)\u001b[0m\n\u001b[1;32m    115\u001b[0m \u001b[38;5;28;01mdef\u001b[39;00m \u001b[38;5;21mstep\u001b[39m(\u001b[38;5;28mself\u001b[39m, action: ActionType) \u001b[38;5;241m-\u001b[39m\u001b[38;5;241m>\u001b[39m \u001b[38;5;28;01mNone\u001b[39;00m:\n\u001b[0;32m--> 116\u001b[0m     \u001b[38;5;28mself\u001b[39m\u001b[38;5;241m.\u001b[39menv\u001b[38;5;241m.\u001b[39mstep(action)\n\u001b[1;32m    118\u001b[0m     \u001b[38;5;28mself\u001b[39m\u001b[38;5;241m.\u001b[39magent_selection \u001b[38;5;241m=\u001b[39m \u001b[38;5;28mself\u001b[39m\u001b[38;5;241m.\u001b[39menv\u001b[38;5;241m.\u001b[39magent_selection\n\u001b[1;32m    119\u001b[0m     \u001b[38;5;28mself\u001b[39m\u001b[38;5;241m.\u001b[39mrewards \u001b[38;5;241m=\u001b[39m \u001b[38;5;28mself\u001b[39m\u001b[38;5;241m.\u001b[39menv\u001b[38;5;241m.\u001b[39mrewards\n",
      "File \u001b[0;32m~/anaconda3/envs/rllib/lib/python3.11/site-packages/pettingzoo/utils/wrappers/clip_out_of_bounds.py:36\u001b[0m, in \u001b[0;36mClipOutOfBoundsWrapper.step\u001b[0;34m(self, action)\u001b[0m\n\u001b[1;32m     28\u001b[0m space \u001b[38;5;241m=\u001b[39m \u001b[38;5;28mself\u001b[39m\u001b[38;5;241m.\u001b[39maction_space(\u001b[38;5;28mself\u001b[39m\u001b[38;5;241m.\u001b[39magent_selection)\n\u001b[1;32m     29\u001b[0m \u001b[38;5;28;01mif\u001b[39;00m \u001b[38;5;129;01mnot\u001b[39;00m (\n\u001b[1;32m     30\u001b[0m     action \u001b[38;5;129;01mis\u001b[39;00m \u001b[38;5;28;01mNone\u001b[39;00m\n\u001b[1;32m     31\u001b[0m     \u001b[38;5;129;01mand\u001b[39;00m (\n\u001b[0;32m   (...)\u001b[0m\n\u001b[1;32m     34\u001b[0m     )\n\u001b[1;32m     35\u001b[0m ) \u001b[38;5;129;01mand\u001b[39;00m \u001b[38;5;129;01mnot\u001b[39;00m space\u001b[38;5;241m.\u001b[39mcontains(action):\n\u001b[0;32m---> 36\u001b[0m     \u001b[38;5;28;01mif\u001b[39;00m action \u001b[38;5;129;01mis\u001b[39;00m \u001b[38;5;28;01mNone\u001b[39;00m \u001b[38;5;129;01mor\u001b[39;00m np\u001b[38;5;241m.\u001b[39misnan(action)\u001b[38;5;241m.\u001b[39many():\n\u001b[1;32m     37\u001b[0m         EnvLogger\u001b[38;5;241m.\u001b[39merror_nan_action()\n\u001b[1;32m     38\u001b[0m     \u001b[38;5;28;01massert\u001b[39;00m (\n\u001b[1;32m     39\u001b[0m         space\u001b[38;5;241m.\u001b[39mshape\n\u001b[1;32m     40\u001b[0m         \u001b[38;5;241m==\u001b[39m action\u001b[38;5;241m.\u001b[39mshape  \u001b[38;5;66;03m# pyright: ignore[reportOptionalMemberAccess]\u001b[39;00m\n\u001b[1;32m     41\u001b[0m     ), \u001b[38;5;124mf\u001b[39m\u001b[38;5;124m\"\u001b[39m\u001b[38;5;124maction should have shape \u001b[39m\u001b[38;5;132;01m{\u001b[39;00mspace\u001b[38;5;241m.\u001b[39mshape\u001b[38;5;132;01m}\u001b[39;00m\u001b[38;5;124m, has shape \u001b[39m\u001b[38;5;132;01m{\u001b[39;00maction\u001b[38;5;241m.\u001b[39mshape\u001b[38;5;132;01m}\u001b[39;00m\u001b[38;5;124m\"\u001b[39m  \u001b[38;5;66;03m# pyright: ignore[reportOptionalMemberAccess]\u001b[39;00m\n",
      "\u001b[0;31mTypeError\u001b[0m: ufunc 'isnan' not supported for the input types, and the inputs could not be safely coerced to any supported types according to the casting rule ''safe''"
     ]
    }
   ],
   "source": [
    "#env = pistonball_v6.parallel_env(render_mode=\"rgb_array\")\n",
    "N=1\n",
    "reward_lst=[]\n",
    "for n in range(N):\n",
    "    env.reset()\n",
    "\n",
    "    episode_reward=0; stp_cnt=0\n",
    "\n",
    "\n",
    "    while env.agents:\n",
    "        # this is where you would insert your policy\n",
    "        actions = {agent: env.action_space(agent).sample() for agent in env.agents}\n",
    "\n",
    "        observations, rewards, terminations, truncations, infos = env.step(actions)\n",
    "        episode_reward+=sum(list(rewards.values()))\n",
    "        \n",
    "        '''if n == N-1:            \n",
    "            clear_output(wait=True)\n",
    "            plt.imshow( env.render())\n",
    "            plt.title(f'Reward: {int(episode_reward)}, Step Count: {stp_cnt}')\n",
    "            plt.show()\n",
    "            stp_cnt+=1   '''   \n",
    "            \n",
    "           \n",
    "\n",
    "    \n",
    "    reward_lst.append(episode_reward)\n",
    "env.close()"
   ]
  },
  {
   "cell_type": "code",
   "execution_count": 43,
   "id": "97673c60",
   "metadata": {},
   "outputs": [
    {
     "data": {
      "image/png": "[encoded data removed]",
      "text/plain": [
       "<Figure size 2500x300 with 20 Axes>"
      ]
     },
     "metadata": {},
     "output_type": "display_data"
    }
   ],
   "source": [
    "fig, axes = plt.subplots(1,len(observations.keys()), figsize=(25,3))\n",
    "for i, (key, val) in enumerate(observations.items()):\n",
    "    ax=axes[i]\n",
    "    ax.imshow(observations[key])\n",
    "    ax.set_title(key)\n",
    "    \n",
    "for ax in fig.get_axes():\n",
    "    ax.label_outer()"
   ]
  },
  {
   "cell_type": "code",
   "execution_count": null,
   "id": "0db6cd97",
   "metadata": {},
   "outputs": [],
   "source": []
  },
  {
   "cell_type": "code",
   "execution_count": null,
   "id": "7322e7e4",
   "metadata": {},
   "outputs": [],
   "source": [
    "import datetime as dt\n",
    "end=dt.datetime.now()\n",
    "print(f'Finished: {end.strftime(\"%A %B %d, %Y\")} at {end.strftime(\"%H:%M\")}')"
   ]
  }
 ],
 "metadata": {
  "kernelspec": {
   "display_name": "Python 3 (ipykernel)",
   "language": "python",
   "name": "python3"
  },
  "language_info": {
   "codemirror_mode": {
    "name": "ipython",
    "version": 3
   },
   "file_extension": ".py",
   "mimetype": "text/x-python",
   "name": "python",
   "nbconvert_exporter": "python",
   "pygments_lexer": "ipython3",
   "version": "3.11.4"
  }
 },
 "nbformat": 4,
 "nbformat_minor": 5
}
